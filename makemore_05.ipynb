{
  "nbformat": 4,
  "nbformat_minor": 0,
  "metadata": {
    "colab": {
      "provenance": [],
      "toc_visible": true,
      "authorship_tag": "ABX9TyM898ZQXkrCk49Qh7bpzEH8",
      "include_colab_link": true
    },
    "kernelspec": {
      "name": "python3",
      "display_name": "Python 3"
    },
    "language_info": {
      "name": "python"
    }
  },
  "cells": [
    {
      "cell_type": "markdown",
      "metadata": {
        "id": "view-in-github",
        "colab_type": "text"
      },
      "source": [
        "<a href=\"https://colab.research.google.com/github/sganguly3000ai/makemore/blob/main/makemore_05.ipynb\" target=\"_parent\"><img src=\"https://colab.research.google.com/assets/colab-badge.svg\" alt=\"Open In Colab\"/></a>"
      ]
    },
    {
      "cell_type": "markdown",
      "source": [],
      "metadata": {
        "id": "TTCVE-YosBSy"
      }
    },
    {
      "cell_type": "markdown",
      "source": [
        "# **Bigram character level language model using neural network MLP Wavenet**"
      ],
      "metadata": {
        "id": "nzTwea-NTw5C"
      }
    },
    {
      "cell_type": "code",
      "source": [
        "import torch\n",
        "import numpy as np\n",
        "import string\n",
        "import matplotlib.pyplot as plt\n",
        "import torch.nn.functional as F\n",
        "import pandas as pd\n",
        "%matplotlib inline\n"
      ],
      "metadata": {
        "id": "Mga2OWEQUhPh"
      },
      "execution_count": null,
      "outputs": []
    },
    {
      "cell_type": "code",
      "source": [
        "# the yob1996.txt file is locally stored in the downloads/names directory\n",
        "# and should be uploaded to the sample_data directory in colab before running\n",
        "# create a list of words or names\n",
        "\n",
        "# create a list of words or names\n",
        "\n",
        "names   = np.loadtxt('sample_data/yob1996.txt', delimiter=',', usecols = 0, dtype = str)\n",
        "lnames  = np.char.lower(names)\n",
        "words  = pd.unique(lnames)\n",
        "\n"
      ],
      "metadata": {
        "id": "RHYuhNN7J5I0"
      },
      "execution_count": null,
      "outputs": []
    },
    {
      "cell_type": "code",
      "source": [
        "print(f'{names[:8]} :Shape = {names.shape}\\n{lnames[:8]} :Shape = {lnames.shape}\\n{words[:8]} :Shape = {words.shape}')\n"
      ],
      "metadata": {
        "colab": {
          "base_uri": "https://localhost:8080/"
        },
        "id": "8ND9wHCyM0Qp",
        "outputId": "34997c28-69ce-49ed-c6a4-d52cdbc36c97"
      },
      "execution_count": null,
      "outputs": [
        {
          "output_type": "stream",
          "name": "stdout",
          "text": [
            "['Emily' 'Jessica' 'Ashley' 'Sarah' 'Samantha' 'Taylor' 'Hannah' 'Alexis'] :Shape = (26426,)\n",
            "['emily' 'jessica' 'ashley' 'sarah' 'samantha' 'taylor' 'hannah' 'alexis'] :Shape = (26426,)\n",
            "['emily' 'jessica' 'ashley' 'sarah' 'samantha' 'taylor' 'hannah' 'alexis'] :Shape = (24306,)\n"
          ]
        }
      ]
    },
    {
      "cell_type": "code",
      "source": [
        "# create a dictionary of the lowercase english alphabets + '.' as the start and end character for a word\n",
        "\n",
        "chars = list(string.ascii_lowercase)\n",
        "stoi = {s:i+1 for i,s in enumerate(chars)}\n",
        "stoi['.'] = 0\n",
        "itos = {i:s for s,i in stoi.items()}\n",
        "vocab_size=len(itos)\n",
        "print(itos)\n",
        "print(vocab_size)"
      ],
      "metadata": {
        "id": "zurpq0TjU7Lh",
        "colab": {
          "base_uri": "https://localhost:8080/"
        },
        "outputId": "1d900865-e710-4bf5-8cf9-93e1cc3cc589"
      },
      "execution_count": null,
      "outputs": [
        {
          "output_type": "stream",
          "name": "stdout",
          "text": [
            "{1: 'a', 2: 'b', 3: 'c', 4: 'd', 5: 'e', 6: 'f', 7: 'g', 8: 'h', 9: 'i', 10: 'j', 11: 'k', 12: 'l', 13: 'm', 14: 'n', 15: 'o', 16: 'p', 17: 'q', 18: 'r', 19: 's', 20: 't', 21: 'u', 22: 'v', 23: 'w', 24: 'x', 25: 'y', 26: 'z', 0: '.'}\n",
            "27\n"
          ]
        }
      ]
    },
    {
      "cell_type": "code",
      "source": [
        "# build the dataset\n",
        "\n",
        "block_size = 3 # context length: how many characters do we take to predict the next one?\n",
        "def build_dataset(words):\n",
        "  X, Y = [],[]\n",
        "\n",
        "\n",
        "  for w in words:\n",
        "    context = [0] * block_size\n",
        "\n",
        "    for ch in w + '.':\n",
        "      ix = stoi[ch]\n",
        "      X.append(context)\n",
        "      Y.append(ix)\n",
        "      #print(''.join(itos[i] for i in context), '---->', itos[ix])\n",
        "      context = context[1:] + [ix] #crop and append\n",
        "\n",
        "  X = torch.tensor(X)\n",
        "  Y = torch.tensor(Y)\n",
        "  print(X.shape,Y.shape)\n",
        "  return X, Y\n",
        "\n",
        "np.random.seed(42)\n",
        "np.random.shuffle(words)\n",
        "n1 = int(0.8*len(words))\n",
        "n2 = int(0.9*len(words))\n",
        "\n",
        "# train,dev and test datasets (80,10,10)\n",
        "Xtr, Ytr        =  build_dataset(words[:n1])\n",
        "Xdev, Ydev      =  build_dataset(words[n1:n2])\n",
        "Xtest, Ytest    =  build_dataset(words[n2:])\n"
      ],
      "metadata": {
        "id": "nipzETe2gWC2",
        "colab": {
          "base_uri": "https://localhost:8080/"
        },
        "outputId": "5282106a-f660-438b-9fde-29c56cd9670b"
      },
      "execution_count": null,
      "outputs": [
        {
          "output_type": "stream",
          "name": "stdout",
          "text": [
            "torch.Size([142863, 3]) torch.Size([142863])\n",
            "torch.Size([17771, 3]) torch.Size([17771])\n",
            "torch.Size([17942, 3]) torch.Size([17942])\n"
          ]
        }
      ]
    },
    {
      "cell_type": "code",
      "source": [
        "# lets train a deeper network\n",
        "\n",
        "class Linear:\n",
        "\n",
        "  def __init__(self, fan_in, fan_out, bias=True):\n",
        "    self.weight   = torch.randn((fan_in, fan_out), generator=g) / fan_in**0.5\n",
        "    self.bias     = torch.zeros(fan_out) if bias else None\n",
        "\n",
        "  def __call__(self, x):\n",
        "    self.out = x @ self.weight\n",
        "    if self.bias is not None:\n",
        "      self.out += self.bias\n",
        "    return self.out\n",
        "\n",
        "  def parameters(self):\n",
        "    return [self.weight] + ([] if self.bias is None else [self.bias])\n",
        "\n",
        "class BatchNorm1d:\n",
        "\n",
        "  def __init__(self, dim, eps=1e-5, momentum=0.1):\n",
        "    self.eps        = eps\n",
        "    self.momentum   = momentum\n",
        "    self.training   = True\n",
        "    # parameters trained with backprop\n",
        "    self.gamma      = torch.ones(dim)\n",
        "    self.beta       = torch.zeros(dim)\n",
        "\n",
        "  def __call__(self, x):\n",
        "    # calculate the forward pass\n",
        "    if self.training:\n",
        "      xmean         = x.mean(0, keepdim=True)                   # batch mean\n",
        "      xvar          = x.var(0, keepdim=True, unbiased=True)     # batch variance\n",
        "    else:\n",
        "      xmean         = self.running_mean\n",
        "      xvar          = self.running_var\n",
        "    xhat            = (x - xmean) / torch.sqrt(xvar + self.eps) # normalize to unit variance\n",
        "    self.out        = self.gamma * xhat + self.beta\n",
        "    # update the buffers\n",
        "    if self.training:\n",
        "      with torch.no_grad():\n",
        "        self.running_mean   = (1 - self.momentum) * self.running_mean + self.momentum * xmean\n",
        "        self.running_var    = (1 - self.momentum) * self.running_var + self.momentum * xvar\n",
        "    return self.out\n",
        "\n",
        "  def parameters(self):\n",
        "    return [self.gamma, self.beta]\n",
        "\n",
        "class Tanh:\n",
        "  def __call__(self, x):\n",
        "    self.out       = torch.tanh(x)\n",
        "    return self.out\n",
        "  def parameters(self):\n",
        "    return []\n",
        "\n",
        "n_embd       = 10                                         # the dimensionality of the character embedding vectors\n",
        "n_hidden    = 100                                         # the number of neurons in the hidden layer of the MLP\n",
        "g           = torch.Generator().manual_seed(2147483647)   # for reproducibility\n",
        "\n",
        "C           =   torch.randn((vocab_size,n_embd),             generator = g)\n",
        "layers = [\n",
        "  Linear(n_embd * block_size, n_hidden), Tanh(),\n",
        "  Linear(           n_hidden, n_hidden), Tanh(),\n",
        "  Linear(           n_hidden, n_hidden), Tanh(),\n",
        "  Linear(           n_hidden, n_hidden), Tanh(),\n",
        "  Linear(           n_hidden, n_hidden), Tanh(),\n",
        "  Linear(           n_hidden, vocab_size),\n",
        "]\n",
        "\n",
        "with torch.no_grad():\n",
        "  # last layer make less confident\n",
        "  layers[-1].weight *= 0.1\n",
        "  for layer in layers[:-1]:\n",
        "    if isinstance(layer, Linear):\n",
        "      layer.weight *= 5/3\n",
        "\n",
        "parameters = [C] + [p for layer in layers for p in layer.parameters()]\n",
        "print(sum(p.nelement() for p in parameters))               # number of parameters in total\n",
        "for p in parameters:\n",
        "  p.requires_grad = True\n",
        "\n",
        "print(len(layers))\n"
      ],
      "metadata": {
        "id": "4ff_ioFpE772",
        "colab": {
          "base_uri": "https://localhost:8080/"
        },
        "outputId": "d6b5dbe7-945a-4d48-8cb2-1751bea705c4"
      },
      "execution_count": null,
      "outputs": [
        {
          "output_type": "stream",
          "name": "stdout",
          "text": [
            "46497\n",
            "11\n"
          ]
        }
      ]
    },
    {
      "cell_type": "code",
      "source": [
        "# same optimization as last time\n",
        "\n",
        "max_steps       = 200000\n",
        "batch_size      = 32\n",
        "lossi           = []\n",
        "\n",
        "for i in range(max_steps):\n",
        "\n",
        "  # minibatch construct (pluck bath_size samples out of the total number of samples randomly\n",
        "  ix = torch.randint(0, Xtr.shape[0], (batch_size,), generator=g)\n",
        "  Xb, Yb = Xtr[ix], Ytr[ix]\n",
        "\n",
        "\n",
        "  # forward pass\n",
        "  emb       = C[Xb]                       # embed the characters into vectors\n",
        "  x         = emb.view(emb.shape[0], -1)  # concatenate the vectors\n",
        "  # linear layer\n",
        "  for layer in layers:\n",
        "    x = layer(x)\n",
        "  loss = F.cross_entropy(x, Yb)      # loss function\n",
        "\n",
        "  # backward pass\n",
        "  '''\n",
        "  for layer in layers:\n",
        "    layer.out.retain_grad()       # AFTER-DEBUG:  would take out retain_grad()\n",
        "  '''\n",
        "  for p in parameters:\n",
        "    p.grad = None\n",
        "  loss.backward()\n",
        "\n",
        "  # gradient update\n",
        "  lr = 0.1 if i < 100000 else .01         # step learning rate decay\n",
        "  for p in parameters:\n",
        "    #lr        = lrs[i]\n",
        "    p.data   += -lr * p.grad\n",
        "\n",
        "  # track stats\n",
        "  if i % 10000 == 0:                      # print every 10000 iterations\n",
        "    print(f'{i:7d}/{max_steps:7d}: {loss.item():4f}')\n",
        "  lossi.append(loss.log10().item())\n",
        "\n",
        "  #break # AFTER_DEBUG: would take out obviously to runn full optimization"
      ],
      "metadata": {
        "id": "8Cu4Lvq3ynvZ",
        "colab": {
          "base_uri": "https://localhost:8080/"
        },
        "outputId": "372c7784-4b24-4e49-f4cf-de25a166c0a8"
      },
      "execution_count": null,
      "outputs": [
        {
          "output_type": "stream",
          "name": "stdout",
          "text": [
            "      0/ 200000: 2.122845\n",
            "  10000/ 200000: 1.559028\n",
            "  20000/ 200000: 1.223083\n",
            "  30000/ 200000: 1.826880\n",
            "  40000/ 200000: 2.338053\n",
            "  50000/ 200000: 2.094831\n",
            "  60000/ 200000: 2.087000\n",
            "  70000/ 200000: 1.737206\n",
            "  80000/ 200000: 1.886649\n",
            "  90000/ 200000: 2.029052\n",
            " 100000/ 200000: 1.756813\n",
            " 110000/ 200000: 1.695763\n",
            " 120000/ 200000: 1.865881\n",
            " 130000/ 200000: 1.663840\n",
            " 140000/ 200000: 1.751780\n",
            " 150000/ 200000: 2.007887\n",
            " 160000/ 200000: 2.144787\n",
            " 170000/ 200000: 1.862404\n",
            " 180000/ 200000: 1.932222\n",
            " 190000/ 200000: 1.762457\n"
          ]
        }
      ]
    },
    {
      "cell_type": "code",
      "source": [
        "# run to evaluate what the train and validation data is showing as per as the loss\n",
        "\n",
        "@torch.no_grad()                                # this decorator disables gradient tracking\n",
        "def split_loss(split):\n",
        "  x,y = {'train': (Xtr, Ytr),\n",
        "        'val': (Xdev, Ydev),\n",
        "        'test': (Xtest, Ytest),\n",
        "        }[split]\n",
        "\n",
        "  # forward pass\n",
        "  emb       = C[x]                          # embed the characters into vectors\n",
        "  xsp         = emb.view(emb.shape[0], -1)  # concatenate the vectors\n",
        "  for layer in layers:\n",
        "    xsp = layer(xsp)\n",
        "  loss = F.cross_entropy(xsp, y)      # loss function\n",
        "\n",
        "  print(split, loss.item())\n",
        "\n",
        "split_loss('train')\n",
        "split_loss('val')"
      ],
      "metadata": {
        "colab": {
          "base_uri": "https://localhost:8080/"
        },
        "id": "UVYBe_Ue4DNp",
        "outputId": "1eb1088b-6ffa-442c-9cd1-2bc1b28f9e5a"
      },
      "execution_count": null,
      "outputs": [
        {
          "output_type": "stream",
          "name": "stdout",
          "text": [
            "train 1.8816947937011719\n",
            "val 2.046818971633911\n"
          ]
        }
      ]
    },
    {
      "cell_type": "code",
      "source": [
        "# sample from the model\n",
        "\n",
        "g = torch.Generator().manual_seed(2147483647 + 10)\n",
        "\n",
        "for _ in range(20):\n",
        "\n",
        "  out = []\n",
        "  context = [0]*block_size # initialize with all '...'\n",
        "  while True:\n",
        "\n",
        "    emb     = C[torch.tensor([context])]\n",
        "    xsamp         = emb.view(emb.shape[0], -1)\n",
        "    for layer in layers:\n",
        "      xsamp = layer(xsamp)\n",
        "\n",
        "    probs   = F.softmax(xsamp, dim=1)\n",
        "\n",
        "    # sample from the distribution\n",
        "    ix      = torch.multinomial(probs, num_samples=1, generator=g).item()\n",
        "    # shift the context window and track the samples\n",
        "    context = context[1:] + [ix]\n",
        "\n",
        "    out.append(ix)\n",
        "    # if we sample the special '.' token, break\n",
        "    if ix == 0:\n",
        "      break\n",
        "\n",
        "  print(''.join(itos[i] for i in out))\n"
      ],
      "metadata": {
        "colab": {
          "base_uri": "https://localhost:8080/"
        },
        "id": "ogcv5TtCmhOS",
        "outputId": "7439e80d-09a1-423e-cafd-9817806e36bd"
      },
      "execution_count": null,
      "outputs": [
        {
          "output_type": "stream",
          "name": "stdout",
          "text": [
            "montaymandrice.\n",
            "mad.\n",
            "ryana.\n",
            "emmanterrine.\n",
            "cadejaniel.\n",
            "themi.\n",
            "jenne.\n",
            "elissa.\n",
            "naraely.\n",
            "kohltarin.\n",
            "shabrigihiraeshan.\n",
            "josell.\n",
            "panterian.\n",
            "brence.\n",
            "ruy.\n",
            "juliek.\n",
            "yule.\n",
            "mistonesshalina.\n",
            "yanny.\n",
            "juan.\n"
          ]
        }
      ]
    },
    {
      "cell_type": "code",
      "source": [
        "# MLP revisited\n",
        "n_emb       = 10 # the dimensionality of the character embedding vectors\n",
        "n_hidden    = 200 # the number of neurons in the hidden layer of the MLP\n",
        "\n",
        "# define the parameters\n",
        "g   =   torch.Generator().manual_seed(2147483647)         # for reproducibility\n",
        "C   =   torch.randn((vocab_size,n_emb),             generator = g)\n",
        "W1  =   torch.randn((n_emb*block_size, n_hidden),   generator = g) * (5/3)/((n_emb * block_size) ** 0.5) # # look at torch.nn.init.kaiming_normal_\n",
        "# b1  =   torch.randn((n_hidden),                     generator = g) * 0.01\n",
        "W2  =   torch.randn((n_hidden,vocab_size),          generator = g) * 0.01\n",
        "b2  =   torch.randn((vocab_size),                   generator = g) * 0  # trying to get the logits close to 0 at initialization\n",
        "\n",
        "# batch normalization gains and biases\n",
        "bngain = torch.ones((1, n_hidden))\n",
        "bnbias = torch.zeros((1, n_hidden))\n",
        "bnmean_running = torch.zeros((1, n_hidden))\n",
        "bnstd_running = torch.ones((1, n_hidden))\n",
        "\n",
        "parameters  = [C, W1, b1, W2, b2, bngain, bnbias]\n",
        "print(sum(p.nelement() for p in parameters))                              # number of parameters in total\n",
        "\n",
        "for p in parameters:\n",
        "  p.requires_grad = True"
      ],
      "metadata": {
        "id": "QPcsXErte3dR",
        "colab": {
          "base_uri": "https://localhost:8080/"
        },
        "outputId": "8292dbbc-7523-40da-a57c-3d5e9a9e0d3d"
      },
      "execution_count": null,
      "outputs": [
        {
          "output_type": "stream",
          "name": "stdout",
          "text": [
            "12297\n"
          ]
        }
      ]
    },
    {
      "cell_type": "code",
      "source": [
        "# to figure out what learning rate to use\n",
        "# guess a learning rate (one low and one high)\n",
        "# plug in the (guessed) low learning rate and train the model - observe the rate at which the loss is going down\n",
        "# plug in the (guessed) high learning rate and train the model - observe the rate at which the loss is going down\n",
        "# the (guessed) low and high lr should both not make the loss go down fairly quickly\n",
        "# for this particular model it seems like the low and high should be .001 and 1\n",
        "\n",
        "lre = torch.linspace(-3,0,1000)   # create evenly spaced values between -3 and 0\n",
        "lrs = 10**lre                     # taking the exponent gives us a tensor of values in the range 1 and .001\n",
        "\n",
        "# now instead of using the guessed learning rate (lr), we will run the model with each learning rate in lrs\n",
        "# and track the losses for a 1000 iterations of training the model"
      ],
      "metadata": {
        "id": "fP-AvYFDbD2N"
      },
      "execution_count": null,
      "outputs": []
    },
    {
      "cell_type": "code",
      "source": [
        "hpreact.shape"
      ],
      "metadata": {
        "colab": {
          "base_uri": "https://localhost:8080/"
        },
        "id": "E9tUpIjgjRJW",
        "outputId": "41ae96ed-0849-4df8-e369-3a2d01a7a003"
      },
      "execution_count": null,
      "outputs": [
        {
          "output_type": "execute_result",
          "data": {
            "text/plain": [
              "torch.Size([32, 200])"
            ]
          },
          "metadata": {},
          "execution_count": 76
        }
      ]
    },
    {
      "cell_type": "code",
      "source": [
        "hpreact.mean(0, keepdim = True).shape"
      ],
      "metadata": {
        "colab": {
          "base_uri": "https://localhost:8080/"
        },
        "id": "lS8y7qM4jVmd",
        "outputId": "8cd3eee8-c8d1-4144-8a7f-6121ef0e5d20"
      },
      "execution_count": null,
      "outputs": [
        {
          "output_type": "execute_result",
          "data": {
            "text/plain": [
              "torch.Size([1, 200])"
            ]
          },
          "metadata": {},
          "execution_count": 77
        }
      ]
    },
    {
      "cell_type": "code",
      "source": [
        "hpreact.std(0, keepdim = True).shape"
      ],
      "metadata": {
        "colab": {
          "base_uri": "https://localhost:8080/"
        },
        "id": "Z8Y-C51Ij2df",
        "outputId": "45ca07a0-bafe-4798-a2ac-8e6961893979"
      },
      "execution_count": null,
      "outputs": [
        {
          "output_type": "execute_result",
          "data": {
            "text/plain": [
              "torch.Size([1, 200])"
            ]
          },
          "metadata": {},
          "execution_count": 78
        }
      ]
    },
    {
      "cell_type": "code",
      "source": [
        "# same optimization as last time\n",
        "\n",
        "max_steps       = 200000\n",
        "batch_size      = 32\n",
        "lossi           = []\n",
        "\n",
        "for i in range(max_steps):\n",
        "\n",
        "  # minibatch construct (pluck bath_size samples out of the total number of samples randomly\n",
        "  ix = torch.randint(0, Xtr.shape[0], (batch_size,), generator=g)\n",
        "  Xb, Yb = Xtr[ix], Ytr[ix]\n",
        "\n",
        "\n",
        "  # forward pass\n",
        "  emb       = C[Xb]                       # embed the characters into vectors\n",
        "  x         = emb.view(emb.shape[0], -1)  # concatenate the vectors\n",
        "  # linear layer\n",
        "  for layer in layers:\n",
        "    x = layer[x]\n",
        "  loss = F.cross_entropy(logits, Yb)      # loss function\n",
        "\n",
        "  # backward pass\n",
        "  for layer in layers:\n",
        "    layer.out.retain_grad()       # AFTER-DEBUG:  would take out retain_grad()\n",
        "  for p in parameters:\n",
        "    p.grad = None\n",
        "  loss.backward()\n",
        "\n",
        "  # BatchNorm layer\n",
        "  # ------------------------------------------------------------------------------------\n",
        "  bnmeani = hpreact.mean(0, keepdim = True)\n",
        "  bnstdi  = hpreact.std(0, keepdim = True)\n",
        "  hpreact = bngain * (hpreact - bnmeani) / bnstdi + bnbias  # batch normalization\n",
        "\n",
        "  # the mean and std running are not trained by the gradient they are simply update with arithmatic operations\n",
        "  with torch.no_grad():\n",
        "    bnmean_running = 0.999 * bnmean_running + 0.001 * bnmeani\n",
        "    bnstd_running = 0.999 * bnstd_running + 0.001 * bnstdi\n",
        "\n",
        "  # ------------------------------------------------------------------------------------\n",
        "  # Non-linearity\n",
        "  h         = torch.tanh(hpreact)         # hidden layer\n",
        "  logits  = h @ W2 + b2                   # output layer\n",
        "  # counts  = logits.exp()\n",
        "  # probs   = counts / counts.sum(1, keepdims = True)\n",
        "  # loss    = -probs[torch.arange(num_of_labels),Y].log().mean()\n",
        "  loss = F.cross_entropy(logits, Yb)      # loss function\n",
        "\n",
        "  # backward pass\n",
        "  for layer in layers:\n",
        "    layer.out.retain_grad()       # AFTER-DEBUG:  would take out retain_grad()\n",
        "  for p in parameters:\n",
        "    p.grad = None\n",
        "  loss.backward()\n",
        "\n",
        "  # gradient update\n",
        "  lr = 0.1 if i < 100000 else .01         # step learning rate decay\n",
        "  for p in parameters:\n",
        "    #lr        = lrs[i]\n",
        "    p.data   += -lr * p.grad\n",
        "\n",
        "  # track stats for lr\n",
        "  if i % 10000 == 0:                      # print every 10000 iterations\n",
        "    print(f'{i:7d}/{max_steps:7d}: {loss.item():4f}')\n",
        "  lossi.append(loss.item())\n",
        "\n"
      ],
      "metadata": {
        "colab": {
          "base_uri": "https://localhost:8080/"
        },
        "id": "xrALJnR3h-KZ",
        "outputId": "03fc27ac-ca63-42c1-8706-67e0048a9de1"
      },
      "execution_count": null,
      "outputs": [
        {
          "output_type": "stream",
          "name": "stdout",
          "text": [
            "      0/ 200000: 3.306904\n",
            "  10000/ 200000: 1.972377\n",
            "  20000/ 200000: 2.623867\n",
            "  30000/ 200000: 2.252633\n",
            "  40000/ 200000: 2.153543\n",
            "  50000/ 200000: 2.601152\n",
            "  60000/ 200000: 2.163505\n",
            "  70000/ 200000: 2.233273\n",
            "  80000/ 200000: 2.069710\n",
            "  90000/ 200000: 2.130016\n",
            " 100000/ 200000: 2.244243\n",
            " 110000/ 200000: 1.930052\n",
            " 120000/ 200000: 2.016576\n",
            " 130000/ 200000: 1.689035\n",
            " 140000/ 200000: 2.033951\n",
            " 150000/ 200000: 1.962354\n",
            " 160000/ 200000: 1.611683\n",
            " 170000/ 200000: 2.146210\n",
            " 180000/ 200000: 2.069461\n",
            " 190000/ 200000: 2.161836\n"
          ]
        }
      ]
    },
    {
      "cell_type": "code",
      "source": [
        "plt.hist(h.view(-1).tolist(), 50); # by doing this we can observe that the values in h are mostly close to 1 ot -1"
      ],
      "metadata": {
        "colab": {
          "base_uri": "https://localhost:8080/",
          "height": 430
        },
        "id": "gygKpLHr3mOh",
        "outputId": "23c8a843-9f0e-4e86-bc85-a98adb43ee51"
      },
      "execution_count": null,
      "outputs": [
        {
          "output_type": "display_data",
          "data": {
            "text/plain": [
              "<Figure size 640x480 with 1 Axes>"
            ],
            "image/png": "[encoded data removed]"
          },
          "metadata": {}
        }
      ]
    },
    {
      "cell_type": "code",
      "source": [
        "plt.hist(hpreact.view(-1).tolist(), 50);  # by doing this we can observe that the pre-activation values are pretty broad (-15 - 15)"
      ],
      "metadata": {
        "colab": {
          "base_uri": "https://localhost:8080/",
          "height": 430
        },
        "id": "bLSxSB6e4VKR",
        "outputId": "37929e25-1e47-4cd8-b327-f53e4fb9ddaf"
      },
      "execution_count": null,
      "outputs": [
        {
          "output_type": "display_data",
          "data": {
            "text/plain": [
              "<Figure size 640x480 with 1 Axes>"
            ],
            "image/png": "[encoded data removed]"
          },
          "metadata": {}
        }
      ]
    },
    {
      "cell_type": "code",
      "source": [
        "plt.figure(figsize=(20,10))\n",
        "plt.imshow(h.abs() > 0.99, cmap='gray', interpolation='nearest')\n",
        "# tyring to visualize how many values in h are greater than .99.\n",
        "# white if true, black if false (h.abs() > 0.99)\n",
        "# if we have an entire column that is white that will indicate a DEAD neuron - that is the neuron has no effect on the gradient and the neuron\n",
        "# will never learn"
      ],
      "metadata": {
        "colab": {
          "base_uri": "https://localhost:8080/",
          "height": 238
        },
        "id": "sXfIVc3C5l_k",
        "outputId": "e6c0a5f1-6b74-49d6-ccc2-5d070fc54946"
      },
      "execution_count": null,
      "outputs": [
        {
          "output_type": "execute_result",
          "data": {
            "text/plain": [
              "<matplotlib.image.AxesImage at 0x78d66e3ee260>"
            ]
          },
          "metadata": {},
          "execution_count": 55
        },
        {
          "output_type": "display_data",
          "data": {
            "text/plain": [
              "<Figure size 2000x1000 with 1 Axes>"
            ],
            "image/png": "[encoded data removed]"
          },
          "metadata": {}
        }
      ]
    },
    {
      "cell_type": "code",
      "source": [
        "plt.plot(lossi)"
      ],
      "metadata": {
        "colab": {
          "base_uri": "https://localhost:8080/",
          "height": 447
        },
        "id": "rnvOdTG2tACl",
        "outputId": "14c3e920-3ec9-49e8-f8d9-d10e97c45180"
      },
      "execution_count": null,
      "outputs": [
        {
          "output_type": "execute_result",
          "data": {
            "text/plain": [
              "[<matplotlib.lines.Line2D at 0x78d66de75e10>]"
            ]
          },
          "metadata": {},
          "execution_count": 64
        },
        {
          "output_type": "display_data",
          "data": {
            "text/plain": [
              "<Figure size 640x480 with 1 Axes>"
            ],
            "image/png": "[encoded data removed]"
          },
          "metadata": {}
        }
      ]
    },
    {
      "cell_type": "code",
      "source": [
        "# calibrate the batch norm statistics at the end of training\n",
        "# just to check that the bnmean and bnstd are very close to bnmean_running and bnstd_running\n",
        "\n",
        "with torch.no_grad():\n",
        "  # pass the training set through\n",
        "  emb       = C[Xtr]                       # embed the characters into vectors\n",
        "  embcat    = emb.view(emb.shape[0], -1)  # concatenate the vectors\n",
        "  hpreact   = embcat @ W1 # + b1            # hidden layer pre-activation\n",
        "  # measure the mean/std over the entire training set\n",
        "  bnmean = hpreact.mean(0, keepdim = True)\n",
        "  bnstd  = hpreact.std(0, keepdim = True)"
      ],
      "metadata": {
        "id": "AHUf-t3Opc7K"
      },
      "execution_count": null,
      "outputs": []
    },
    {
      "cell_type": "code",
      "source": [
        "bnmean"
      ],
      "metadata": {
        "colab": {
          "base_uri": "https://localhost:8080/"
        },
        "id": "2AZrW_yjwZ8o",
        "outputId": "2a18de51-1d82-4bc3-aaae-b0b61a19be6a"
      },
      "execution_count": null,
      "outputs": [
        {
          "output_type": "execute_result",
          "data": {
            "text/plain": [
              "tensor([[-1.5223e+00, -9.6379e-02, -1.1707e+00, -1.1808e-01, -1.6449e-01,\n",
              "         -2.3191e-03,  1.6186e+00, -4.4676e-01,  1.0015e+00,  1.0830e+00,\n",
              "         -2.9481e+00, -1.4626e+00,  5.4658e-01,  3.2607e-01,  2.1515e-01,\n",
              "          4.2718e-01, -3.8980e-01, -3.1701e+00, -7.4951e-01,  1.0053e+00,\n",
              "          8.9451e-01, -1.4186e+00, -6.1334e-02,  8.1873e-01,  5.1248e-01,\n",
              "          6.4680e-01, -4.7563e-01, -7.3507e-04,  2.1894e-02,  7.0873e-01,\n",
              "         -9.2831e-01, -7.6017e-01, -1.2802e-01,  6.4737e-01,  3.2138e-01,\n",
              "         -1.3637e+00,  8.1971e-01,  4.0963e-01, -3.8844e-01, -4.7502e-01,\n",
              "          4.6924e-01, -6.5025e-01, -9.7760e-03,  1.1191e-01,  1.1573e+00,\n",
              "         -7.6343e-01,  1.4582e+00, -2.2325e-01,  2.3803e+00,  1.3296e+00,\n",
              "          4.8551e-01,  7.1141e-01,  1.2089e+00,  5.7592e-01,  1.6376e+00,\n",
              "         -9.8056e-01,  4.7065e-01,  1.9584e-01,  7.8827e-01, -6.0425e-01,\n",
              "         -4.0996e-01,  1.2874e+00, -8.4235e-02, -4.0257e-01,  6.7699e-01,\n",
              "          1.1614e+00,  1.0924e+00,  1.0784e+00, -1.4635e+00, -4.4260e-01,\n",
              "          3.3970e-02,  4.6642e-02,  1.2206e+00, -2.2435e+00, -2.3265e+00,\n",
              "         -2.8794e-01,  1.2893e+00, -4.5784e-01, -3.9049e-01,  7.5340e-01,\n",
              "          2.4657e-01,  4.0450e-01,  1.3652e+00,  3.7829e-01, -1.0795e+00,\n",
              "         -8.6658e-01, -1.6616e+00, -5.2811e-01, -2.0944e-01,  8.9357e-02,\n",
              "         -5.3746e-01, -1.4318e-01, -8.5431e-01,  5.3806e-02, -1.8441e+00,\n",
              "          5.0236e-01, -1.5038e+00, -9.4601e-01, -6.4969e-01, -1.2741e+00,\n",
              "          1.6694e-01,  1.2228e+00, -2.7128e+00, -3.3537e-01,  8.9888e-01,\n",
              "          2.7296e-01, -2.4378e+00, -1.9105e-01,  3.8973e-01, -8.3993e-01,\n",
              "          1.0785e+00,  5.4792e-01, -6.3077e-01,  3.6654e+00,  1.1443e+00,\n",
              "          1.6921e+00,  4.0803e-01, -4.4116e-01, -8.5309e-01, -5.7321e-01,\n",
              "         -4.6598e-01, -1.7023e+00,  1.2096e+00,  9.4571e-01, -1.0696e+00,\n",
              "         -4.0208e-01,  1.3160e+00, -1.0064e+00, -1.5373e+00, -8.3227e-01,\n",
              "          1.3825e+00,  2.6653e+00,  5.4461e-01,  1.4773e+00,  2.0357e+00,\n",
              "          7.6215e-01, -7.7844e-01,  1.3072e+00,  8.9585e-01,  2.8699e-01,\n",
              "          1.2282e+00, -7.1723e-01, -2.1217e-01, -2.3883e-02,  7.8566e-01,\n",
              "          1.0021e+00,  1.0267e+00,  9.4022e-01, -8.9354e-02,  1.1107e+00,\n",
              "         -8.8233e-01,  1.0372e+00,  2.3815e-01,  1.2815e+00, -4.0104e-01,\n",
              "         -1.4846e+00,  1.2317e+00, -2.4892e+00, -1.3054e+00,  2.9159e-01,\n",
              "          6.9017e-01,  3.3895e-01, -6.8197e-01, -1.0265e+00, -7.5654e-01,\n",
              "         -2.1948e-01,  7.7864e-01, -4.5245e-01, -1.3281e+00, -4.6724e-01,\n",
              "         -1.1772e+00, -1.3566e+00, -4.5351e-01, -3.0283e-01, -6.2048e-01,\n",
              "          6.4019e-01,  1.6973e+00, -1.3125e+00,  1.6499e+00, -1.2034e+00,\n",
              "          1.9387e+00,  1.4163e+00,  9.1264e-02,  2.9894e-02,  4.6496e-01,\n",
              "          3.8465e-01, -2.5447e-01,  1.4520e-01,  1.8742e+00,  1.4865e-01,\n",
              "         -1.0033e+00,  2.1993e+00, -1.2117e+00,  2.0715e+00, -1.0032e+00,\n",
              "          4.9469e-01,  1.1766e+00, -4.0512e-01,  2.0024e-01, -5.1974e-01]])"
            ]
          },
          "metadata": {},
          "execution_count": 93
        }
      ]
    },
    {
      "cell_type": "code",
      "source": [
        "bnmean_running"
      ],
      "metadata": {
        "colab": {
          "base_uri": "https://localhost:8080/"
        },
        "id": "tKWfM9k0wc2n",
        "outputId": "ee81f974-cf6b-4b97-8b0b-fa4fa5fd7563"
      },
      "execution_count": null,
      "outputs": [
        {
          "output_type": "execute_result",
          "data": {
            "text/plain": [
              "tensor([[-1.5099, -0.0850, -1.1796, -0.1336, -0.1537,  0.0111,  1.6051, -0.4541,\n",
              "          1.0064,  1.0749, -2.9482, -1.4594,  0.5602,  0.3279,  0.2309,  0.4472,\n",
              "         -0.3694, -3.1711, -0.7364,  1.0050,  0.8996, -1.4184, -0.0739,  0.8228,\n",
              "          0.5032,  0.6401, -0.4626,  0.0243,  0.0285,  0.7158, -0.9239, -0.7644,\n",
              "         -0.1190,  0.6513,  0.3299, -1.3636,  0.8299,  0.4157, -0.3734, -0.4731,\n",
              "          0.4718, -0.6576, -0.0202,  0.1204,  1.1647, -0.7666,  1.4616, -0.2124,\n",
              "          2.3966,  1.3245,  0.4925,  0.7136,  1.1827,  0.5698,  1.6322, -0.9738,\n",
              "          0.4877,  0.1806,  0.8038, -0.6094, -0.4167,  1.2890, -0.0932, -0.4019,\n",
              "          0.6778,  1.1806,  1.0955,  1.0971, -1.4633, -0.4456,  0.0590,  0.0428,\n",
              "          1.2194, -2.2546, -2.3172, -0.2861,  1.2898, -0.4525, -0.4012,  0.7476,\n",
              "          0.2695,  0.3898,  1.3797,  0.3578, -1.0840, -0.8631, -1.6620, -0.5437,\n",
              "         -0.1989,  0.1005, -0.5396, -0.1443, -0.8439,  0.0493, -1.8330,  0.5239,\n",
              "         -1.5048, -0.9536, -0.6352, -1.2868,  0.1743,  1.2146, -2.7202, -0.3071,\n",
              "          0.8809,  0.2637, -2.4237, -0.1591,  0.3993, -0.8283,  1.0942,  0.5232,\n",
              "         -0.6230,  3.6647,  1.1388,  1.7148,  0.4087, -0.4287, -0.8583, -0.5839,\n",
              "         -0.4661, -1.7022,  1.2086,  0.9459, -1.0733, -0.3998,  1.3191, -0.9969,\n",
              "         -1.5366, -0.8346,  1.3685,  2.6598,  0.5474,  1.4674,  2.0230,  0.7562,\n",
              "         -0.7723,  1.3056,  0.9095,  0.2841,  1.2395, -0.7159, -0.2019, -0.0219,\n",
              "          0.7918,  1.0043,  1.0249,  0.9280, -0.0842,  1.1013, -0.8785,  1.0324,\n",
              "          0.2346,  1.2919, -0.3895, -1.4695,  1.2231, -2.4833, -1.3167,  0.2877,\n",
              "          0.7014,  0.3312, -0.7001, -1.0213, -0.7557, -0.2263,  0.7813, -0.4493,\n",
              "         -1.3365, -0.4805, -1.1670, -1.3683, -0.4462, -0.3190, -0.6304,  0.6297,\n",
              "          1.7047, -1.3106,  1.6698, -1.1953,  1.9493,  1.4175,  0.1044,  0.0222,\n",
              "          0.4704,  0.3619, -0.2494,  0.1326,  1.8716,  0.1467, -1.0034,  2.1993,\n",
              "         -1.2210,  2.0712, -1.0091,  0.5056,  1.1934, -0.4043,  0.2016, -0.5078]])"
            ]
          },
          "metadata": {},
          "execution_count": 94
        }
      ]
    },
    {
      "cell_type": "code",
      "source": [
        "# run to evaluate what the train and validation data is showing as per as the loss\n",
        "\n",
        "@torch.no_grad()                                # this decorator disables gradient tracking\n",
        "def split_loss(split):\n",
        "  x,y = {'train': (Xtr, Ytr),\n",
        "        'val': (Xdev, Ydev),\n",
        "        'test': (Xtest, Ytest),\n",
        "        }[split]\n",
        "\n",
        "  emb       = C[x]                       # embed the characters into vectors\n",
        "  embcat    = emb.view(emb.shape[0], -1)  # concatenate the vectors\n",
        "  hpreact   = embcat @ W1 # + b1            # hidden layer pre-activation\n",
        "  # hpreact = bngain * (hpreact - hpreact.mean(0, keepdim = True)) / hpreact.std(0, keepdim = True) + bnbias  # batch normalization\n",
        "  hpreact = bngain * (hpreact - bnmean_running) / bnstd_running + bnbias\n",
        "  h         = torch.tanh(hpreact)         # hidden layer\n",
        "  logits  = h @ W2 + b2\n",
        "  loss = F.cross_entropy(logits, y)       # loss function\n",
        "  print(split, loss.item())\n",
        "\n",
        "split_loss('train')\n",
        "split_loss('val')"
      ],
      "metadata": {
        "colab": {
          "base_uri": "https://localhost:8080/"
        },
        "id": "9LI8QghZt9G9",
        "outputId": "5366b708-c825-4cca-9fc4-513767629adc"
      },
      "execution_count": null,
      "outputs": [
        {
          "output_type": "stream",
          "name": "stdout",
          "text": [
            "train 1.9901783466339111\n",
            "val 2.056513547897339\n"
          ]
        }
      ]
    },
    {
      "cell_type": "code",
      "source": [],
      "metadata": {
        "colab": {
          "base_uri": "https://localhost:8080/"
        },
        "id": "-UhZM_Q3PkKy",
        "outputId": "4a0adc36-009a-45a0-fc77-9e663cda9ef6"
      },
      "execution_count": null,
      "outputs": [
        {
          "output_type": "stream",
          "name": "stdout",
          "text": [
            "2.5666401386260986\n"
          ]
        }
      ]
    },
    {
      "cell_type": "code",
      "source": [],
      "metadata": {
        "colab": {
          "base_uri": "https://localhost:8080/"
        },
        "id": "G60-r551LqtA",
        "outputId": "085a93b2-1f19-42cc-fe9b-5d90b9ca87b9"
      },
      "execution_count": null,
      "outputs": [
        {
          "output_type": "stream",
          "name": "stdout",
          "text": [
            "2.5784599781036377\n"
          ]
        }
      ]
    },
    {
      "cell_type": "code",
      "source": [
        "# sample from the model\n",
        "\n",
        "g = torch.Generator().manual_seed(2147483647 + 10)\n",
        "\n",
        "for _ in range(20):\n",
        "\n",
        "  out = []\n",
        "  context = [0]*block_size # initialize with all '...'\n",
        "  while True:\n",
        "\n",
        "    emb     = C[torch.tensor([context])]                                          #(1,block_size,d)\n",
        "    h       = torch.tanh(emb.view(1,-1) @ W1 + b1)\n",
        "    logits  = h @ W2 + b2\n",
        "    probs   = F.softmax(logits, dim=1)\n",
        "\n",
        "    # sample from the distribution\n",
        "    ix      = torch.multinomial(probs, num_samples=1, generator=g).item()\n",
        "    # shift the context window and track the samples\n",
        "    context = context[1:] + [ix]\n",
        "\n",
        "    out.append(ix)\n",
        "    # if we sample the special '.' token, break\n",
        "    if ix == 0:\n",
        "      break\n",
        "\n",
        "  print(''.join(itos[i] for i in out))"
      ],
      "metadata": {
        "colab": {
          "base_uri": "https://localhost:8080/"
        },
        "id": "8d7s13Urj5Aq",
        "outputId": "6d198350-6a0d-4b5b-dccb-adf310388e1c"
      },
      "execution_count": null,
      "outputs": [
        {
          "output_type": "stream",
          "name": "stdout",
          "text": [
            "montaymyazharel.\n",
            "ndinyah.\n",
            "tedvastendra.\n",
            "gradejadielin.\n",
            "shy.\n",
            "jenne.\n",
            "elisson.\n",
            "arleilyn.\n",
            "shara.\n",
            "nyshabergiagriel.\n",
            "kinde.\n",
            "jenne.\n",
            "nicolfou.\n",
            "marcel.\n",
            "kylene.\n",
            "eli.\n",
            "kayshaquelle.\n",
            "halisa.\n",
            "yanny.\n",
            "aubrelle.\n"
          ]
        }
      ]
    },
    {
      "cell_type": "code",
      "source": [
        "# our models initialization is not correct, since it starts with a very high loss and drops down quickly\n",
        "\n",
        "# 4-dimensional example of the isse\n",
        "\n",
        "logits  = torch.tensor([0.0, 5.0, 0.0, 0.0])\n",
        "probs   = torch.softmax(logits, dim=0)\n",
        "loss    = -probs[2].log()\n",
        "probs,loss\n",
        "# if logits[2] BY CHANCE at initialization got a high number the loss will be very low\n",
        "# if some other element of logits has a higher number than [2] then the loss will be higher\n",
        "# the trick is to have the logits at initialization to be close to 0"
      ],
      "metadata": {
        "colab": {
          "base_uri": "https://localhost:8080/"
        },
        "id": "19ftaeI1yHAZ",
        "outputId": "2ad899d0-5287-478c-fe47-c4efefa361f3"
      },
      "execution_count": null,
      "outputs": [
        {
          "output_type": "execute_result",
          "data": {
            "text/plain": [
              "(tensor([0.0066, 0.9802, 0.0066, 0.0066]), tensor(5.0200))"
            ]
          },
          "metadata": {},
          "execution_count": 23
        }
      ]
    },
    {
      "cell_type": "code",
      "source": [
        "# look at torch.nn.init.kaiming_normal_\n",
        "x = torch.randn(1000,10)\n",
        "w = torch.randn(10,200) / 10**0.5                        # square root of fan in or input (10)\n",
        "y = x @ w\n",
        "print (x.mean(), x.std())\n",
        "print (y.mean(), y.std())\n",
        "plt.figure(figsize=(20,5))\n",
        "plt.subplot(121)\n",
        "plt.hist(x.view(-1).tolist(), 50, density = True);\n",
        "plt.subplot(122)\n",
        "plt.hist(y.view(-1).tolist(), 50, density = True);"
      ],
      "metadata": {
        "colab": {
          "base_uri": "https://localhost:8080/",
          "height": 347
        },
        "id": "SwrTm0E2bhwV",
        "outputId": "18ec3580-ff0c-44b2-ab0e-d5d1314d39d3"
      },
      "execution_count": null,
      "outputs": [
        {
          "output_type": "stream",
          "name": "stdout",
          "text": [
            "tensor(0.0155) tensor(1.0018)\n",
            "tensor(-0.0021) tensor(0.9930)\n"
          ]
        },
        {
          "output_type": "display_data",
          "data": {
            "text/plain": [
              "<Figure size 2000x500 with 2 Axes>"
            ],
            "image/png": "[encoded data removed]"
          },
          "metadata": {}
        }
      ]
    }
  ]
}