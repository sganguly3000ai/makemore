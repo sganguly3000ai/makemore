{
  "nbformat": 4,
  "nbformat_minor": 0,
  "metadata": {
    "colab": {
      "provenance": [],
      "toc_visible": true,
      "collapsed_sections": [
        "82IvTDD2Dpsn"
      ],
      "authorship_tag": "ABX9TyP4zxZ4uMrubhL0arQKJBaU",
      "include_colab_link": true
    },
    "kernelspec": {
      "name": "python3",
      "display_name": "Python 3"
    },
    "language_info": {
      "name": "python"
    }
  },
  "cells": [
    {
      "cell_type": "markdown",
      "metadata": {
        "id": "view-in-github",
        "colab_type": "text"
      },
      "source": [
        "<a href=\"https://colab.research.google.com/github/sganguly3000ai/makemore/blob/main/makemore_01.ipynb\" target=\"_parent\"><img src=\"https://colab.research.google.com/assets/colab-badge.svg\" alt=\"Open In Colab\"/></a>"
      ]
    },
    {
      "cell_type": "markdown",
      "source": [],
      "metadata": {
        "id": "TTCVE-YosBSy"
      }
    },
    {
      "cell_type": "markdown",
      "source": [
        "# **Bigram character level language model using neural network**"
      ],
      "metadata": {
        "id": "nzTwea-NTw5C"
      }
    },
    {
      "cell_type": "code",
      "source": [
        "import torch\n",
        "import numpy as np\n",
        "import string\n",
        "import matplotlib.pyplot as plt\n",
        "import torch.nn.functional as F"
      ],
      "metadata": {
        "id": "Mga2OWEQUhPh"
      },
      "execution_count": 2,
      "outputs": []
    },
    {
      "cell_type": "code",
      "source": [
        "chars = list(string.ascii_lowercase)\n",
        "stoi = {s:i+1 for i,s in enumerate(chars)}\n",
        "stoi['.'] = 0\n",
        "itos = {i:s for s,i in stoi.items()}"
      ],
      "metadata": {
        "id": "zurpq0TjU7Lh"
      },
      "execution_count": 3,
      "outputs": []
    },
    {
      "cell_type": "code",
      "source": [
        "words = ['sumit','sorit','swapna','suraj','sujit', 'sujoy', 'manoj', 'amit',\n",
        "         'kajol', 'steve', 'andrew','bob', 'cindy', 'ebrahim', 'daku', 'johny',\n",
        "         'timmy', 'david', 'tarun', 'nancy', 'edith', 'jason', 'kyle', 'joseph',\n",
        "         'kimberly', 'emma', 'irene', 'michael', 'scott', 'valentino']\n",
        "xs, ys = [], []\n",
        "N = torch.zeros((27,27) , dtype = torch.int32)\n",
        "for w in words[:1]:\n",
        "  chs = ['.'] + list(w) + ['.']\n",
        "  for ch1,ch2 in zip(chs, chs[1:]):\n",
        "    ix1 = stoi[ch1]\n",
        "    ix2 = stoi[ch2]\n",
        "    xs.append(ix1)\n",
        "    ys.append(ix2)\n",
        "\n",
        "xs = torch.tensor(xs) # inputs\n",
        "ys = torch.tensor(ys) # labels\n",
        "num = xs.nelement()   # keeping track of how many bigrams\n",
        "print('number of examples or inputs: ', num)\n",
        "\n",
        "\"\"\"\n",
        "+++++++++++++++++++++++++++++++++++++++++++++++++++++++++++++++++++++++++++++++++++++++++\n",
        "\n",
        "                INITIALIZE THE NEURAL NETWORK WITH 27 NEURON IN 1 LAYER\n",
        "\n",
        "+++++++++++++++++++++++++++++++++++++++++++++++++++++++++++++++++++++++++++++++++++++++++\n",
        "\n",
        "\"\"\"\n",
        "\n",
        "# RANDOMLY INITIALIZE 27 NEURONS' WEIGHTS. EACH NEURON RECEIVES 27 INPUTS\n",
        "g = torch.Generator().manual_seed(2147483647)\n",
        "\n",
        "\"\"\"\n",
        "IMPORTANT TO SET THE requires_grad=True : SO THAT PYTORCH CAN KEEP TRACK OF THE GRADIENTS OF W\n",
        "\"\"\"\n",
        "\n",
        "# getting random numbers from a normal distribution\n",
        "W0 = torch.randn((27,27), generator=g, requires_grad=True)\n",
        "W1 = torch.randn((10,27), generator=g, requires_grad=True)\n"
      ],
      "metadata": {
        "colab": {
          "base_uri": "https://localhost:8080/"
        },
        "id": "nipzETe2gWC2",
        "outputId": "d8906030-2e53-412a-f155-7e756e82d638"
      },
      "execution_count": 398,
      "outputs": [
        {
          "output_type": "stream",
          "name": "stdout",
          "text": [
            "number of examples or inputs:  6\n"
          ]
        }
      ]
    },
    {
      "cell_type": "code",
      "source": [
        "for k in range(10):\n",
        "  \"\"\"\n",
        "  +++++++++++++++++++++++++++++++++++++++++++++++++++++++++++++++++++++++++++++++++++++++++\n",
        "\n",
        "                                      FORWARD PASS\n",
        "                                    GRADIENT DESCENT\n",
        "\n",
        "  +++++++++++++++++++++++++++++++++++++++++++++++++++++++++++++++++++++++++++++++++++++++++\n",
        "\n",
        "  \"\"\"\n",
        "\n",
        "  # cannot pass just one integer as an input to a neural network but can pass\n",
        "  # vectors\n",
        "  # thats why using one hot encoding to generate a tensor represented by 1\n",
        "  # at the index represented by the xs integer\n",
        "\n",
        "  # should not pass in vectors of dtype as int, need to convert xenc to float\n",
        "\n",
        "  xenc = F.one_hot(xs,num_classes=27).float() #inputs to the network: one hot encoding\n",
        "  # plt.imshow(xenc)  uncomment to visualize in a plot\n",
        "\n",
        "  # multiplying to get the logits from the neurons\n",
        "  # feeding in all 6 inputs simultaneously into 27 neurons in layer 1\n",
        "  logits = xenc @ W0 # predict log-counts\n",
        "  #logits1 = logits @ W1\n",
        "  counts = logits.exp() # equivalent to the N tensor we used in makemore where we were just counting the bigrams\n",
        "  probs = counts / counts.sum(1, keepdims = True) # probabilities for next character (of 27 characters)\n",
        "\n",
        "  # btw: the last 2 lines here are together called a 'softmax'\n",
        "\n",
        "  \"\"\"\n",
        "  +++++++++++++++++++++++++++++++++++++++++++++++++++++++++++++++++++++++++++++++++++++++++\n",
        "\n",
        "      CALCULATING THE LOSS - USING NEGATIVE LOG LIKELIHOOD TO CALCULATE LOSS SINCE THIS IS CLASSIFICATION\n",
        "\n",
        "                IF THIS WAS REGRESSION WE WOULD USE MEAN SQUARED ERROR TO CALCULATE LOSS\n",
        "\n",
        "  +++++++++++++++++++++++++++++++++++++++++++++++++++++++++++++++++++++++++++++++++++++++++\n",
        "\n",
        "  plucking the values of the probabilities for 6 indices corresponding to the labels\n",
        "  from the probs tensor (since there are 6 labels)\n",
        "  \"\"\"\n",
        "\n",
        "  loss = -probs[torch.arange(num), ys].log().mean()\n",
        "  \"\"\"\n",
        "  +++++++++++++++++++++++++++++++++++++++++++++++++++++++++++++++++++++++++++++++++++++++++\n",
        "\n",
        "                                    BACKWARD PASS\n",
        "\n",
        "\n",
        "                                WHAT DOES backward() DO?\n",
        "\n",
        "    pytorch does a backward pass through the neural network starting at the loss node\n",
        "    pytorch keeps track of the gradients which are calculated by performing the derivatives\n",
        "    at each node\n",
        "\n",
        "  +++++++++++++++++++++++++++++++++++++++++++++++++++++++++++++++++++++++++++++++++++++++++\n",
        "\n",
        "  \"\"\"\n",
        "# SETTING GRADIENTS OF THE WEIGHTS TO ZERO OR NONE\n",
        "\n",
        "  W0.grad = None\n",
        "  loss.backward()\n",
        "\n",
        "  \"\"\"\n",
        "  +++++++++++++++++++++++++++++++++++++++++++++++++++++++++++++++++++++++++++++++++++++++++\n",
        "\n",
        "                                    UPDATE W\n",
        "\n",
        "\n",
        "                                WHAT DOES backward() DO?\n",
        "\n",
        "    pytorch does a backward pass through the neural network starting at the loss node\n",
        "    pytorch keeps track of the gradients which are calculated by performing the derivatives\n",
        "    at each node\n",
        "    we update the weights (in the negative direction of the gradients) with a learning factor\n",
        "    multiplied by the gradient\n",
        "\n",
        "  +++++++++++++++++++++++++++++++++++++++++++++++++++++++++++++++++++++++++++++++++++++++++\n",
        "\n",
        "  \"\"\"\n",
        "  W0.data += -.01 * W0.grad"
      ],
      "metadata": {
        "id": "utlsLJ3Sgtju"
      },
      "execution_count": 399,
      "outputs": []
    },
    {
      "cell_type": "code",
      "source": [
        "W0[0]"
      ],
      "metadata": {
        "colab": {
          "base_uri": "https://localhost:8080/"
        },
        "id": "OEY5P6vhmezQ",
        "outputId": "e6309bd5-ec8c-4f46-a6bc-805fe34b4d70"
      },
      "execution_count": 311,
      "outputs": [
        {
          "output_type": "execute_result",
          "data": {
            "text/plain": [
              "tensor([ 1.5674, -0.2373, -0.0274, -1.1008,  0.2859, -0.0296, -1.5471,  0.6049,\n",
              "         0.0791,  0.9046, -0.4713,  0.7868, -0.3284, -0.4330,  1.3729,  2.9334,\n",
              "         1.5618, -1.6261,  0.6772, -0.8404,  0.9849, -0.1484, -1.4795,  0.4483,\n",
              "        -0.0707,  2.4968,  2.4448], grad_fn=<SelectBackward0>)"
            ]
          },
          "metadata": {},
          "execution_count": 311
        }
      ]
    },
    {
      "cell_type": "code",
      "source": [
        "xenc[0]"
      ],
      "metadata": {
        "colab": {
          "base_uri": "https://localhost:8080/"
        },
        "id": "HNTKH4-3pSFo",
        "outputId": "6803b380-a095-4838-ed12-a3756a6fbb7b"
      },
      "execution_count": 318,
      "outputs": [
        {
          "output_type": "execute_result",
          "data": {
            "text/plain": [
              "tensor([1., 0., 0., 0., 0., 0., 0., 0., 0., 0., 0., 0., 0., 0., 0., 0., 0., 0.,\n",
              "        0., 0., 0., 0., 0., 0., 0., 0., 0.])"
            ]
          },
          "metadata": {},
          "execution_count": 318
        }
      ]
    },
    {
      "cell_type": "code",
      "source": [
        "xnew = torch.zeros(num,27)\n",
        "out = []\n",
        "for j in range(num):\n",
        "  for k in range(27):\n",
        "    for l in range(27):\n",
        "      xnew[j,k] += xenc[j,l]*W0[l,k]\n",
        "      l += 1\n",
        "    k += 1\n",
        "s = ''\n",
        "s += 'k='+ str(k) + 'j='+ str(j)\n",
        "out.append(s)\n",
        "j += 1\n",
        "s = ''\n",
        "s += 'k='+ str(k) + 'j='+ str(j) + 'i='+ str(i)\n",
        "out.append(s)\n",
        "i += 1\n",
        "\n",
        "xnew.shape"
      ],
      "metadata": {
        "colab": {
          "base_uri": "https://localhost:8080/"
        },
        "id": "yiwpBVSSm-xY",
        "outputId": "3398f3b2-137a-4e0b-8131-584e9220d7fa"
      },
      "execution_count": 407,
      "outputs": [
        {
          "output_type": "execute_result",
          "data": {
            "text/plain": [
              "torch.Size([6, 27])"
            ]
          },
          "metadata": {},
          "execution_count": 407
        }
      ]
    },
    {
      "cell_type": "code",
      "source": [
        "xnew[0:2]"
      ],
      "metadata": {
        "colab": {
          "base_uri": "https://localhost:8080/"
        },
        "id": "nIpZpurP4uWb",
        "outputId": "f039c11a-c79e-4b89-d0ef-17529ca80773"
      },
      "execution_count": 415,
      "outputs": [
        {
          "output_type": "execute_result",
          "data": {
            "text/plain": [
              "tensor([[ 1.5664, -0.2375, -0.0276, -1.1008,  0.2856, -0.0298, -1.5471,  0.6045,\n",
              "          0.0789,  0.9041, -0.4714,  0.7864, -0.3286, -0.4331,  1.3721,  2.9294,\n",
              "          1.5608, -1.6261,  0.6767, -0.8238,  0.9843, -0.1486, -1.4796,  0.4480,\n",
              "         -0.0709,  2.4942,  2.4424],\n",
              "        [-0.6287, -0.4427,  0.5683,  1.2792, -0.5541,  1.1169, -0.6007, -0.5864,\n",
              "         -0.2830,  0.5334, -0.9940, -1.6997,  1.8342,  0.4197, -0.6875, -0.3508,\n",
              "          0.7553, -0.9364, -0.0844, -1.6362,  1.0215,  1.0890, -0.5747,  0.0493,\n",
              "          0.7231,  0.5969,  2.6919]], grad_fn=<SliceBackward0>)"
            ]
          },
          "metadata": {},
          "execution_count": 415
        }
      ]
    },
    {
      "cell_type": "code",
      "source": [
        "logits.shape"
      ],
      "metadata": {
        "colab": {
          "base_uri": "https://localhost:8080/"
        },
        "id": "lYBemzq_w9BR",
        "outputId": "d9d0ed11-a077-4bd8-c24e-39261ad9749f"
      },
      "execution_count": 417,
      "outputs": [
        {
          "output_type": "execute_result",
          "data": {
            "text/plain": [
              "torch.Size([6, 27])"
            ]
          },
          "metadata": {},
          "execution_count": 417
        }
      ]
    },
    {
      "cell_type": "code",
      "source": [
        "out"
      ],
      "metadata": {
        "colab": {
          "base_uri": "https://localhost:8080/"
        },
        "id": "dcvhIyketNdq",
        "outputId": "23250ae2-4352-492c-be6d-1f98f74c2ccf"
      },
      "execution_count": 392,
      "outputs": [
        {
          "output_type": "execute_result",
          "data": {
            "text/plain": [
              "['k=26',\n",
              " 'k=26',\n",
              " 'k=26',\n",
              " 'k=26',\n",
              " 'k=26',\n",
              " 'k=26',\n",
              " 'k=26',\n",
              " 'k=26',\n",
              " 'k=26',\n",
              " 'k=26',\n",
              " 'k=26',\n",
              " 'k=26',\n",
              " 'k=26',\n",
              " 'k=26',\n",
              " 'k=26',\n",
              " 'k=26',\n",
              " 'k=26',\n",
              " 'k=26',\n",
              " 'k=26',\n",
              " 'k=26',\n",
              " 'k=26',\n",
              " 'k=26',\n",
              " 'k=26',\n",
              " 'k=26',\n",
              " 'k=26',\n",
              " 'k=26',\n",
              " 'k=26',\n",
              " 'j=26']"
            ]
          },
          "metadata": {},
          "execution_count": 392
        }
      ]
    },
    {
      "cell_type": "code",
      "source": [
        "logits[0]"
      ],
      "metadata": {
        "colab": {
          "base_uri": "https://localhost:8080/"
        },
        "id": "77YylOmWnOFQ",
        "outputId": "723ee0f4-1e42-4e04-8993-917cc6136e6b"
      },
      "execution_count": 312,
      "outputs": [
        {
          "output_type": "execute_result",
          "data": {
            "text/plain": [
              "tensor([ 0.9968, -0.3565, -0.1725, -1.1527,  0.0923, -0.1744, -1.5808,  0.3473,\n",
              "        -0.0810,  0.5706, -0.5667,  0.4849, -0.4378, -0.5320,  0.8823,  1.5431,\n",
              "         0.9936, -1.6571,  0.4027,  7.5458,  0.6274, -0.2780, -1.5156,  0.2242,\n",
              "        -0.2101,  1.4154,  1.3974], grad_fn=<SelectBackward0>)"
            ]
          },
          "metadata": {},
          "execution_count": 312
        }
      ]
    },
    {
      "cell_type": "code",
      "source": [
        "print(loss.item())"
      ],
      "metadata": {
        "colab": {
          "base_uri": "https://localhost:8080/"
        },
        "id": "VbVyRQdP2maf",
        "outputId": "72c8ecf7-7920-4d9a-b1a6-4cfed8fc8c45"
      },
      "execution_count": 208,
      "outputs": [
        {
          "output_type": "stream",
          "name": "stdout",
          "text": [
            "0.42016875743865967\n"
          ]
        }
      ]
    },
    {
      "cell_type": "code",
      "source": [
        "logits.shape"
      ],
      "metadata": {
        "colab": {
          "base_uri": "https://localhost:8080/"
        },
        "id": "16TS2oJIiArQ",
        "outputId": "b027b987-8e34-49f5-83a4-0d84a7e765f1"
      },
      "execution_count": 285,
      "outputs": [
        {
          "output_type": "execute_result",
          "data": {
            "text/plain": [
              "torch.Size([25, 27])"
            ]
          },
          "metadata": {},
          "execution_count": 285
        }
      ]
    },
    {
      "cell_type": "code",
      "source": [
        "xenc.shape"
      ],
      "metadata": {
        "colab": {
          "base_uri": "https://localhost:8080/"
        },
        "id": "a1WhBNnKiN8Q",
        "outputId": "14608dd6-1ea4-46bc-9cb9-626eee059acc"
      },
      "execution_count": 286,
      "outputs": [
        {
          "output_type": "execute_result",
          "data": {
            "text/plain": [
              "torch.Size([25, 27])"
            ]
          },
          "metadata": {},
          "execution_count": 286
        }
      ]
    },
    {
      "cell_type": "code",
      "source": [
        "probs[19]"
      ],
      "metadata": {
        "colab": {
          "base_uri": "https://localhost:8080/"
        },
        "id": "ETXGo1tu5TXY",
        "outputId": "e0a28deb-1695-4456-cf4c-c18ba63c6acf"
      },
      "execution_count": 167,
      "outputs": [
        {
          "output_type": "execute_result",
          "data": {
            "text/plain": [
              "tensor([4.3009e-04, 1.1767e-04, 1.4087e-04, 5.3663e-05, 1.8221e-04, 1.4060e-04,\n",
              "        3.5063e-05, 2.3298e-04, 1.5399e-04, 2.8837e-04, 9.5723e-05, 2.6577e-04,\n",
              "        1.0866e-04, 9.9055e-05, 3.8671e-04, 7.0442e-04, 4.2883e-04, 3.2512e-05,\n",
              "        2.4569e-04, 9.9380e-01, 3.0433e-04, 1.2708e-04, 3.7395e-05, 2.0697e-04,\n",
              "        1.3579e-04, 6.2917e-04, 6.1923e-04], grad_fn=<SelectBackward0>)"
            ]
          },
          "metadata": {},
          "execution_count": 167
        }
      ]
    },
    {
      "cell_type": "code",
      "source": [
        "torch.multinomial(probs[18], num_samples=27, replacement=True, generator=g)"
      ],
      "metadata": {
        "colab": {
          "base_uri": "https://localhost:8080/"
        },
        "id": "3NLtbhNUjUll",
        "outputId": "4939b5d8-17ea-43ad-fb0e-e6a98ea22d54"
      },
      "execution_count": 166,
      "outputs": [
        {
          "output_type": "execute_result",
          "data": {
            "text/plain": [
              "tensor([16, 16, 10,  0, 16, 16,  0, 10, 16, 10, 16, 10, 10, 16,  0, 10, 14,  0,\n",
              "         0,  0, 10, 16, 16, 10, 16, 16, 10])"
            ]
          },
          "metadata": {},
          "execution_count": 166
        }
      ]
    },
    {
      "cell_type": "code",
      "source": [
        "\"\"\"\n",
        "+++++++++++++++++++++++++++++++++++++++++++++++++++++++++++++++++++++++++++++++++++++++++\n",
        "\n",
        "                     VISUALIZING WHERE THE LOSS IS COMING FROM\n",
        "\n",
        "+++++++++++++++++++++++++++++++++++++++++++++++++++++++++++++++++++++++++++++++++++++++++\n",
        "\n",
        "\"\"\"\n",
        "\n",
        "nlls = torch.zeros(6) # negetive log likelihood\n",
        "\n",
        "for i in range(6):\n",
        "  # i-th bigram:\n",
        "  x = xs[i].item() # input character index\n",
        "  y = ys[i].item() # label character index\n",
        "  print('================================================================\\n')\n",
        "  print(f'bigram example {i+1}: {itos[x]}{itos[y]} (indexes {x},{y})')\n",
        "  print('input to the neural net:', x)\n",
        "  print('output probabilities from the neural net:', probs[i])\n",
        "  print('label (actual next character):', y)\n",
        "  p = probs[i, y]\n",
        "  print('probability assigned by the network to the correct character:', p.item())\n",
        "  logp = torch.log(p)\n",
        "  print('log likelihood:', logp.item())\n",
        "  nll = -logp\n",
        "  print(f'negative log likelihood: {nll.item()} \\n')\n",
        "  nlls[i] = nll\n",
        "  print('================================================================\\n')\n",
        "  print(f'average negative log likelihood after each bigram, i.e. loss = {nlls.mean().item()} \\n')\n",
        "  print('================================================================\\n')\n",
        "\n",
        "print(f'average negative log likelihood after all inputs, i.e. loss = {nlls.mean().item()} \\n')"
      ],
      "metadata": {
        "id": "8Ak56SO5hnvX"
      },
      "execution_count": null,
      "outputs": []
    },
    {
      "cell_type": "code",
      "source": [
        "xs"
      ],
      "metadata": {
        "colab": {
          "base_uri": "https://localhost:8080/"
        },
        "id": "eFg8nnipljmy",
        "outputId": "e02a048c-fa8b-42d9-95c9-e36d594aee30"
      },
      "execution_count": 132,
      "outputs": [
        {
          "output_type": "execute_result",
          "data": {
            "text/plain": [
              "tensor([ 0, 19, 21, 13,  9, 20,  0, 19, 15, 18,  9, 20,  0, 19, 23,  1, 16, 14,\n",
              "         1,  0, 19, 21, 18,  1, 10,  0, 19, 21, 10,  9, 20])"
            ]
          },
          "metadata": {},
          "execution_count": 132
        }
      ]
    },
    {
      "cell_type": "markdown",
      "source": [
        "# Sampling\n",
        "\n",
        "\n",
        "*   torch.multinomial generates sample integer based on probabilities that are fed to the function\n",
        "\n",
        "*   These integers are the index to the probability tensor P\n",
        "\n",
        "\n",
        "*   The out list is being appended with the character equivalent of the index number thst the model is generating based on its training. The generation stops when the index value generated is 0 (indicating the end of a generated name).\n",
        "\n",
        "\n",
        "\n",
        "\n",
        "\n",
        "\n",
        "\n"
      ],
      "metadata": {
        "id": "XV7IWzpcrjxm"
      }
    },
    {
      "cell_type": "code",
      "source": [
        "g = torch.Generator().manual_seed(2147483647)\n",
        "print (f'GENERATED NAMES BY THE BIGRAM MODEL')\n",
        "print (f'===================================\\n')\n",
        "out = []\n",
        "elemnum = 0\n",
        "for i in range(num):\n",
        "    p = probs[i]\n",
        "    ix = torch.multinomial(p, num_samples=1, replacement=True, generator=g).item()\n",
        "    elemnum += 1\n",
        "    print (f'Predicted character=  {itos[ix]} : ix = {ix} : Element number = {elemnum-1} : Imput = {itos[xs[i].item()]}')\n",
        "    out.append(itos[ix])\n",
        "    if ix == 0:\n",
        "      print (f'Predicted name =  {out} : Element number = {elemnum-1} \\n')\n",
        "      out = []\n"
      ],
      "metadata": {
        "colab": {
          "base_uri": "https://localhost:8080/"
        },
        "id": "oSj9gg15Ryfy",
        "outputId": "519e5821-f06c-4123-9b73-cf123f6a9b3a"
      },
      "execution_count": 209,
      "outputs": [
        {
          "output_type": "stream",
          "name": "stdout",
          "text": [
            "GENERATED NAMES BY THE BIGRAM MODEL\n",
            "===================================\n",
            "\n",
            "Predicted character=  s : ix = 19 : Element number = 0 : Imput = .\n",
            "Predicted character=  u : ix = 21 : Element number = 1 : Imput = s\n",
            "Predicted character=  m : ix = 13 : Element number = 2 : Imput = u\n",
            "Predicted character=  i : ix = 9 : Element number = 3 : Imput = m\n",
            "Predicted character=  t : ix = 20 : Element number = 4 : Imput = i\n",
            "Predicted character=  . : ix = 0 : Element number = 5 : Imput = t\n",
            "Predicted name =  ['s', 'u', 'm', 'i', 't', '.'] : Element number = 5 \n",
            "\n",
            "Predicted character=  s : ix = 19 : Element number = 6 : Imput = .\n",
            "Predicted character=  u : ix = 21 : Element number = 7 : Imput = s\n",
            "Predicted character=  r : ix = 18 : Element number = 8 : Imput = o\n",
            "Predicted character=  i : ix = 9 : Element number = 9 : Imput = r\n",
            "Predicted character=  t : ix = 20 : Element number = 10 : Imput = i\n",
            "Predicted character=  . : ix = 0 : Element number = 11 : Imput = t\n",
            "Predicted name =  ['s', 'u', 'r', 'i', 't', '.'] : Element number = 11 \n",
            "\n",
            "Predicted character=  s : ix = 19 : Element number = 12 : Imput = .\n",
            "Predicted character=  o : ix = 15 : Element number = 13 : Imput = s\n",
            "Predicted character=  a : ix = 1 : Element number = 14 : Imput = w\n",
            "Predicted character=  p : ix = 16 : Element number = 15 : Imput = a\n",
            "Predicted character=  n : ix = 14 : Element number = 16 : Imput = p\n",
            "Predicted character=  a : ix = 1 : Element number = 17 : Imput = n\n",
            "Predicted character=  p : ix = 16 : Element number = 18 : Imput = a\n",
            "Predicted character=  s : ix = 19 : Element number = 19 : Imput = .\n",
            "Predicted character=  o : ix = 15 : Element number = 20 : Imput = s\n",
            "Predicted character=  m : ix = 13 : Element number = 21 : Imput = u\n",
            "Predicted character=  a : ix = 1 : Element number = 22 : Imput = r\n",
            "Predicted character=  . : ix = 0 : Element number = 23 : Imput = a\n",
            "Predicted name =  ['s', 'o', 'a', 'p', 'n', 'a', 'p', 's', 'o', 'm', 'a', '.'] : Element number = 23 \n",
            "\n",
            "Predicted character=  . : ix = 0 : Element number = 24 : Imput = j\n",
            "Predicted name =  ['.'] : Element number = 24 \n",
            "\n"
          ]
        }
      ]
    },
    {
      "cell_type": "code",
      "source": [
        "probs[18]"
      ],
      "metadata": {
        "colab": {
          "base_uri": "https://localhost:8080/"
        },
        "id": "4RrU8XOW6ry_",
        "outputId": "a21d747c-97c0-4e00-b180-4eddb5e2d029"
      },
      "execution_count": 200,
      "outputs": [
        {
          "output_type": "execute_result",
          "data": {
            "text/plain": [
              "tensor([3.2537e-01, 4.6815e-04, 1.2669e-03, 5.2630e-04, 1.5165e-03, 1.1149e-03,\n",
              "        1.8147e-03, 6.4590e-04, 6.2343e-04, 2.8486e-04, 3.2537e-01, 4.6600e-04,\n",
              "        1.7717e-03, 5.7201e-04, 9.4775e-04, 8.8209e-04, 3.2537e-01, 4.2930e-04,\n",
              "        1.7263e-03, 1.4412e-03, 1.3600e-03, 1.1166e-03, 3.0206e-04, 1.1537e-03,\n",
              "        1.5588e-03, 1.4089e-03, 4.8941e-04], grad_fn=<SelectBackward0>)"
            ]
          },
          "metadata": {},
          "execution_count": 200
        }
      ]
    },
    {
      "cell_type": "code",
      "source": [
        "g = torch.Generator().manual_seed(2147483647)\n",
        "t = torch.randn(5, generator=g).abs()\n",
        "t /= t.sum()\n",
        "torch.multinomial(t, num_samples=27, replacement=True, generator=g)"
      ],
      "metadata": {
        "colab": {
          "base_uri": "https://localhost:8080/"
        },
        "id": "kyXZEL-XRLyO",
        "outputId": "179bef66-a457-4a8a-c1df-269d656341b4"
      },
      "execution_count": 435,
      "outputs": [
        {
          "output_type": "execute_result",
          "data": {
            "text/plain": [
              "tensor([4, 0, 4, 4, 4, 1, 4, 4, 4, 4, 4, 3, 1, 4, 0, 2, 4, 1, 3, 4, 0, 1, 4, 0,\n",
              "        1, 0, 0])"
            ]
          },
          "metadata": {},
          "execution_count": 435
        }
      ]
    },
    {
      "cell_type": "code",
      "source": [
        "t"
      ],
      "metadata": {
        "colab": {
          "base_uri": "https://localhost:8080/"
        },
        "id": "nC6wZh4iNeOE",
        "outputId": "fb437cc9-74f5-4aaa-ff52-142e2e7a52d7"
      },
      "execution_count": 434,
      "outputs": [
        {
          "output_type": "execute_result",
          "data": {
            "text/plain": [
              "tensor([0.1908, 0.3229, 0.0111, 0.0664, 0.4088])"
            ]
          },
          "metadata": {},
          "execution_count": 434
        }
      ]
    },
    {
      "cell_type": "code",
      "source": [
        "itos[torch.multinomial(probs[18], num_samples=27, replacement=True, generator=g)[18].item()]"
      ],
      "metadata": {
        "colab": {
          "base_uri": "https://localhost:8080/",
          "height": 36
        },
        "id": "1j8vpH3iR2Nn",
        "outputId": "d216dda2-64e0-4bd8-bf45-fb4a80fd90cd"
      },
      "execution_count": 202,
      "outputs": [
        {
          "output_type": "execute_result",
          "data": {
            "text/plain": [
              "'p'"
            ],
            "application/vnd.google.colaboratory.intrinsic+json": {
              "type": "string"
            }
          },
          "metadata": {},
          "execution_count": 202
        }
      ]
    },
    {
      "cell_type": "code",
      "source": [
        "a = torch.ones(6,27)\n",
        "a[0,2],a[0,3] = 3.,4.\n",
        "a[1,4] = 2.\n",
        "b = torch.ones(27,6)\n",
        "b[0,0],b[4,0],b[0,3] = 2.,2.,2.\n",
        "#b.resize(2,1)\n",
        "b.shape\n",
        "print(f'{a}\\n{b}')\n",
        "c = a @ b\n",
        "print(f'{c}')\n",
        "c.shape"
      ],
      "metadata": {
        "colab": {
          "base_uri": "https://localhost:8080/",
          "height": 592
        },
        "id": "DKx_E8IhVq8W",
        "outputId": "46d05a3d-f237-46d8-cf18-4ffb99222e63"
      },
      "execution_count": 436,
      "outputs": [
        {
          "output_type": "stream",
          "name": "stdout",
          "text": [
            "tensor([[1., 1., 3., 4., 1., 1., 1., 1., 1., 1., 1., 1., 1., 1., 1., 1., 1., 1.,\n",
            "         1., 1., 1., 1., 1., 1., 1., 1., 1.],\n",
            "        [1., 1., 1., 1., 2., 1., 1., 1., 1., 1., 1., 1., 1., 1., 1., 1., 1., 1.,\n",
            "         1., 1., 1., 1., 1., 1., 1., 1., 1.],\n",
            "        [1., 1., 1., 1., 1., 1., 1., 1., 1., 1., 1., 1., 1., 1., 1., 1., 1., 1.,\n",
            "         1., 1., 1., 1., 1., 1., 1., 1., 1.],\n",
            "        [1., 1., 1., 1., 1., 1., 1., 1., 1., 1., 1., 1., 1., 1., 1., 1., 1., 1.,\n",
            "         1., 1., 1., 1., 1., 1., 1., 1., 1.],\n",
            "        [1., 1., 1., 1., 1., 1., 1., 1., 1., 1., 1., 1., 1., 1., 1., 1., 1., 1.,\n",
            "         1., 1., 1., 1., 1., 1., 1., 1., 1.],\n",
            "        [1., 1., 1., 1., 1., 1., 1., 1., 1., 1., 1., 1., 1., 1., 1., 1., 1., 1.,\n",
            "         1., 1., 1., 1., 1., 1., 1., 1., 1.]])\n",
            "tensor([[2., 1., 1., 2., 1., 1.],\n",
            "        [1., 1., 1., 1., 1., 1.],\n",
            "        [1., 1., 1., 1., 1., 1.],\n",
            "        [1., 1., 1., 1., 1., 1.],\n",
            "        [2., 1., 1., 1., 1., 1.],\n",
            "        [1., 1., 1., 1., 1., 1.],\n",
            "        [1., 1., 1., 1., 1., 1.],\n",
            "        [1., 1., 1., 1., 1., 1.],\n",
            "        [1., 1., 1., 1., 1., 1.],\n",
            "        [1., 1., 1., 1., 1., 1.]])\n"
          ]
        },
        {
          "output_type": "error",
          "ename": "RuntimeError",
          "evalue": "mat1 and mat2 shapes cannot be multiplied (6x27 and 10x6)",
          "traceback": [
            "\u001b[0;31m---------------------------------------------------------------------------\u001b[0m",
            "\u001b[0;31mRuntimeError\u001b[0m                              Traceback (most recent call last)",
            "\u001b[0;32m<ipython-input-436-5833406664e3>\u001b[0m in \u001b[0;36m<cell line: 9>\u001b[0;34m()\u001b[0m\n\u001b[1;32m      7\u001b[0m \u001b[0mb\u001b[0m\u001b[0;34m.\u001b[0m\u001b[0mshape\u001b[0m\u001b[0;34m\u001b[0m\u001b[0;34m\u001b[0m\u001b[0m\n\u001b[1;32m      8\u001b[0m \u001b[0mprint\u001b[0m\u001b[0;34m(\u001b[0m\u001b[0;34mf'{a}\\n{b}'\u001b[0m\u001b[0;34m)\u001b[0m\u001b[0;34m\u001b[0m\u001b[0;34m\u001b[0m\u001b[0m\n\u001b[0;32m----> 9\u001b[0;31m \u001b[0mc\u001b[0m \u001b[0;34m=\u001b[0m \u001b[0ma\u001b[0m \u001b[0;34m@\u001b[0m \u001b[0mb\u001b[0m\u001b[0;34m\u001b[0m\u001b[0;34m\u001b[0m\u001b[0m\n\u001b[0m\u001b[1;32m     10\u001b[0m \u001b[0mprint\u001b[0m\u001b[0;34m(\u001b[0m\u001b[0;34mf'{c}'\u001b[0m\u001b[0;34m)\u001b[0m\u001b[0;34m\u001b[0m\u001b[0;34m\u001b[0m\u001b[0m\n\u001b[1;32m     11\u001b[0m \u001b[0mc\u001b[0m\u001b[0;34m.\u001b[0m\u001b[0mshape\u001b[0m\u001b[0;34m\u001b[0m\u001b[0;34m\u001b[0m\u001b[0m\n",
            "\u001b[0;31mRuntimeError\u001b[0m: mat1 and mat2 shapes cannot be multiplied (6x27 and 10x6)"
          ]
        }
      ]
    },
    {
      "cell_type": "code",
      "source": [
        "a"
      ],
      "metadata": {
        "colab": {
          "base_uri": "https://localhost:8080/"
        },
        "id": "rSkKAIVfY21g",
        "outputId": "5c9750c4-3bda-41ee-cd93-7805570839ce"
      },
      "execution_count": 240,
      "outputs": [
        {
          "output_type": "execute_result",
          "data": {
            "text/plain": [
              "tensor([[1, 2],\n",
              "        [3, 4],\n",
              "        [4, 5]])"
            ]
          },
          "metadata": {},
          "execution_count": 240
        }
      ]
    },
    {
      "cell_type": "markdown",
      "source": [
        "#Find the loss"
      ],
      "metadata": {
        "id": "mUneD6K0_d-2"
      }
    },
    {
      "cell_type": "code",
      "source": [
        "log_likelihood = 0.0\n",
        "n = 0\n",
        "for w in words:\n",
        "  chs = ['.'] + list(w) + ['.']\n",
        "  for ch1,ch2 in zip(chs, chs[1:]):\n",
        "    ix1 = stoi[ch1]\n",
        "    ix2 = stoi[ch2]\n",
        "    prob = P[ix1,ix2]\n",
        "    logprob = torch.log(prob)\n",
        "    log_likelihood += logprob\n",
        "    n += 1\n",
        "    print(f'{ch1}{ch2}: {prob:.4f} {logprob:.4f}')\n",
        "\n",
        "print (f'{log_likelihood=}')\n",
        "#negetive log_likelihood\n",
        "nll = -log_likelihood\n",
        "print (f'{nll=}')\n",
        "print (f'{nll/n}') # loss"
      ],
      "metadata": {
        "colab": {
          "base_uri": "https://localhost:8080/"
        },
        "id": "vxHNOv8UvGSZ",
        "outputId": "cc6ddc37-0029-46c4-d01d-1aac9de5e52c"
      },
      "execution_count": 12,
      "outputs": [
        {
          "output_type": "stream",
          "name": "stdout",
          "text": [
            ".s: 0.2667 -1.3218\n",
            "su: 0.4000 -0.9163\n",
            "um: 0.1667 -1.7918\n",
            "mi: 0.3000 -1.2040\n",
            "it: 0.3846 -0.9555\n",
            "t.: 0.4545 -0.7885\n",
            ".s: 0.2667 -1.3218\n",
            "so: 0.2000 -1.6094\n",
            "or: 0.1000 -2.3026\n",
            "ri: 0.1429 -1.9459\n",
            "it: 0.3846 -0.9555\n",
            "t.: 0.4545 -0.7885\n",
            ".s: 0.2667 -1.3218\n",
            "sw: 0.1000 -2.3026\n",
            "wa: 0.5000 -0.6931\n",
            "ap: 0.0625 -2.7726\n",
            "pn: 0.5000 -0.6931\n",
            "na: 0.1667 -1.7918\n",
            "a.: 0.1250 -2.0794\n",
            ".s: 0.2667 -1.3218\n",
            "su: 0.4000 -0.9163\n",
            "ur: 0.1667 -1.7918\n",
            "ra: 0.2857 -1.2528\n",
            "aj: 0.1250 -2.0794\n",
            "j.: 0.2500 -1.3863\n",
            ".s: 0.2667 -1.3218\n",
            "su: 0.4000 -0.9163\n",
            "uj: 0.3333 -1.0986\n",
            "ji: 0.1250 -2.0794\n",
            "it: 0.3846 -0.9555\n",
            "t.: 0.4545 -0.7885\n",
            ".s: 0.2667 -1.3218\n",
            "su: 0.4000 -0.9163\n",
            "uj: 0.3333 -1.0986\n",
            "jo: 0.5000 -0.6931\n",
            "oy: 0.1000 -2.3026\n",
            "y.: 0.8571 -0.1542\n",
            ".m: 0.0667 -2.7081\n",
            "ma: 0.2000 -1.6094\n",
            "an: 0.1875 -1.6740\n",
            "no: 0.1667 -1.7918\n",
            "oj: 0.1000 -2.3026\n",
            "j.: 0.2500 -1.3863\n",
            ".a: 0.0667 -2.7081\n",
            "am: 0.0625 -2.7726\n",
            "mi: 0.3000 -1.2040\n",
            "it: 0.3846 -0.9555\n",
            "t.: 0.4545 -0.7885\n",
            ".k: 0.1000 -2.3026\n",
            "ka: 0.2500 -1.3863\n",
            "aj: 0.1250 -2.0794\n",
            "jo: 0.5000 -0.6931\n",
            "ol: 0.1000 -2.3026\n",
            "l.: 0.4000 -0.9163\n",
            ".s: 0.2667 -1.3218\n",
            "st: 0.1000 -2.3026\n",
            "te: 0.0909 -2.3979\n",
            "ev: 0.0769 -2.5649\n",
            "ve: 0.3333 -1.0986\n",
            "e.: 0.2308 -1.4663\n",
            ".a: 0.0667 -2.7081\n",
            "an: 0.1875 -1.6740\n",
            "nd: 0.1667 -1.7918\n",
            "dr: 0.1667 -1.7918\n",
            "re: 0.2857 -1.2528\n",
            "ew: 0.0769 -2.5649\n",
            "w.: 0.5000 -0.6931\n",
            ".b: 0.0333 -3.4012\n",
            "bo: 0.2500 -1.3863\n",
            "ob: 0.1000 -2.3026\n",
            "b.: 0.2500 -1.3863\n",
            ".c: 0.0333 -3.4012\n",
            "ci: 0.2500 -1.3863\n",
            "in: 0.1538 -1.8718\n",
            "nd: 0.1667 -1.7918\n",
            "dy: 0.1667 -1.7918\n",
            "y.: 0.8571 -0.1542\n",
            ".e: 0.1000 -2.3026\n",
            "eb: 0.0769 -2.5649\n",
            "br: 0.2500 -1.3863\n",
            "ra: 0.2857 -1.2528\n",
            "ah: 0.0625 -2.7726\n",
            "hi: 0.2000 -1.6094\n",
            "im: 0.2308 -1.4663\n",
            "m.: 0.1000 -2.3026\n",
            ".d: 0.0667 -2.7081\n",
            "da: 0.3333 -1.0986\n",
            "ak: 0.0625 -2.7726\n",
            "ku: 0.2500 -1.3863\n",
            "u.: 0.1667 -1.7918\n",
            ".j: 0.1000 -2.3026\n",
            "jo: 0.5000 -0.6931\n",
            "oh: 0.1000 -2.3026\n",
            "hn: 0.2000 -1.6094\n",
            "ny: 0.0833 -2.4849\n",
            "y.: 0.8571 -0.1542\n",
            ".t: 0.0667 -2.7081\n",
            "ti: 0.1818 -1.7047\n",
            "im: 0.2308 -1.4663\n",
            "mm: 0.2000 -1.6094\n",
            "my: 0.1000 -2.3026\n",
            "y.: 0.8571 -0.1542\n",
            ".d: 0.0667 -2.7081\n",
            "da: 0.3333 -1.0986\n",
            "av: 0.0625 -2.7726\n",
            "vi: 0.3333 -1.0986\n",
            "id: 0.0769 -2.5649\n",
            "d.: 0.1667 -1.7918\n",
            ".t: 0.0667 -2.7081\n",
            "ta: 0.0909 -2.3979\n",
            "ar: 0.0625 -2.7726\n",
            "ru: 0.1429 -1.9459\n",
            "un: 0.1667 -1.7918\n",
            "n.: 0.1667 -1.7918\n",
            ".n: 0.0333 -3.4012\n",
            "na: 0.1667 -1.7918\n",
            "an: 0.1875 -1.6740\n",
            "nc: 0.0833 -2.4849\n",
            "cy: 0.2500 -1.3863\n",
            "y.: 0.8571 -0.1542\n",
            ".e: 0.1000 -2.3026\n",
            "ed: 0.0769 -2.5649\n",
            "di: 0.1667 -1.7918\n",
            "it: 0.3846 -0.9555\n",
            "th: 0.0909 -2.3979\n",
            "h.: 0.4000 -0.9163\n",
            ".j: 0.1000 -2.3026\n",
            "ja: 0.1250 -2.0794\n",
            "as: 0.0625 -2.7726\n",
            "so: 0.2000 -1.6094\n",
            "on: 0.1000 -2.3026\n",
            "n.: 0.1667 -1.7918\n",
            ".k: 0.1000 -2.3026\n",
            "ky: 0.2500 -1.3863\n",
            "yl: 0.1429 -1.9459\n",
            "le: 0.4000 -0.9163\n",
            "e.: 0.2308 -1.4663\n",
            ".j: 0.1000 -2.3026\n",
            "jo: 0.5000 -0.6931\n",
            "os: 0.1000 -2.3026\n",
            "se: 0.1000 -2.3026\n",
            "ep: 0.0769 -2.5649\n",
            "ph: 0.5000 -0.6931\n",
            "h.: 0.4000 -0.9163\n",
            ".k: 0.1000 -2.3026\n",
            "ki: 0.2500 -1.3863\n",
            "im: 0.2308 -1.4663\n",
            "mb: 0.1000 -2.3026\n",
            "be: 0.2500 -1.3863\n",
            "er: 0.0769 -2.5649\n",
            "rl: 0.1429 -1.9459\n",
            "ly: 0.2000 -1.6094\n",
            "y.: 0.8571 -0.1542\n",
            ".e: 0.1000 -2.3026\n",
            "em: 0.0769 -2.5649\n",
            "mm: 0.2000 -1.6094\n",
            "ma: 0.2000 -1.6094\n",
            "a.: 0.1250 -2.0794\n",
            ".i: 0.0333 -3.4012\n",
            "ir: 0.0769 -2.5649\n",
            "re: 0.2857 -1.2528\n",
            "en: 0.1538 -1.8718\n",
            "ne: 0.0833 -2.4849\n",
            "e.: 0.2308 -1.4663\n",
            ".m: 0.0667 -2.7081\n",
            "mi: 0.3000 -1.2040\n",
            "ic: 0.0769 -2.5649\n",
            "ch: 0.2500 -1.3863\n",
            "ha: 0.2000 -1.6094\n",
            "ae: 0.0625 -2.7726\n",
            "el: 0.0769 -2.5649\n",
            "l.: 0.4000 -0.9163\n",
            ".s: 0.2667 -1.3218\n",
            "sc: 0.1000 -2.3026\n",
            "co: 0.2500 -1.3863\n",
            "ot: 0.1000 -2.3026\n",
            "tt: 0.0909 -2.3979\n",
            "t.: 0.4545 -0.7885\n",
            ".v: 0.0333 -3.4012\n",
            "va: 0.3333 -1.0986\n",
            "al: 0.0625 -2.7726\n",
            "le: 0.4000 -0.9163\n",
            "en: 0.1538 -1.8718\n",
            "nt: 0.0833 -2.4849\n",
            "ti: 0.1818 -1.7047\n",
            "in: 0.1538 -1.8718\n",
            "no: 0.1667 -1.7918\n",
            "o.: 0.1000 -2.3026\n",
            "log_likelihood=tensor(-331.6241)\n",
            "nll=tensor(331.6241)\n",
            "1.7639577388763428\n"
          ]
        }
      ]
    },
    {
      "cell_type": "code",
      "source": [],
      "metadata": {
        "id": "c-ghOCYODiIe"
      },
      "execution_count": null,
      "outputs": []
    },
    {
      "cell_type": "markdown",
      "source": [
        "# Check the probability and loss for any given word"
      ],
      "metadata": {
        "id": "82IvTDD2Dpsn"
      }
    },
    {
      "cell_type": "code",
      "source": [
        "log_likelihood = 0.0\n",
        "n = 0\n",
        "for w in ['steve']:\n",
        "  chs = ['.'] + list(w) + ['.']\n",
        "  for ch1,ch2 in zip(chs, chs[1:]):\n",
        "    ix1 = stoi[ch1]\n",
        "    ix2 = stoi[ch2]\n",
        "    prob = P[ix1,ix2]\n",
        "    logprob = torch.log(prob)\n",
        "    log_likelihood += logprob\n",
        "    n += 1\n",
        "    print(f'{ch1}{ch2}: {prob:.4f} {logprob:.4f}')\n",
        "\n",
        "print (f'{log_likelihood=}')\n",
        "#negetive log_likelihood\n",
        "nll = -log_likelihood\n",
        "print (f'{nll=}')\n",
        "print (f'{nll/n}') # loss"
      ],
      "metadata": {
        "colab": {
          "base_uri": "https://localhost:8080/"
        },
        "id": "I5FVNn9hD2Mt",
        "outputId": "0c0811c8-3f32-41d5-942b-6af6f3d97501"
      },
      "execution_count": 25,
      "outputs": [
        {
          "output_type": "stream",
          "name": "stdout",
          "text": [
            ".s: 0.2667 -1.3218\n",
            "st: 0.1000 -2.3026\n",
            "te: 0.0909 -2.3979\n",
            "ev: 0.0769 -2.5649\n",
            "ve: 0.3333 -1.0986\n",
            "e.: 0.2308 -1.4663\n",
            "log_likelihood=tensor(-11.1521)\n",
            "nll=tensor(11.1521)\n",
            "1.858689308166504\n"
          ]
        }
      ]
    },
    {
      "cell_type": "markdown",
      "source": [
        "# Model smoothing\n",
        "\n",
        "\n",
        "*   The loss is infinite for some names that the model has 0 probability of predicting\n",
        "*   In order to alleviate this infinite loss this model can be smoothed out by adding some positive values to the probability\n",
        "\n"
      ],
      "metadata": {
        "id": "spfvdu2HFVY3"
      }
    },
    {
      "cell_type": "code",
      "source": [
        "\n",
        "# here we are adding 1 to every bigram count\n",
        "# any number can be added\n",
        "P = (N+1).float()\n",
        "D = P.sum(1, keepdim = True)\n",
        "# If the sum of the items in the row is 0, then set it to 1 to avoid division by 0\n",
        "for d in D:\n",
        "  if d[0]==0.0:\n",
        "    d[0]= 1.0\n",
        "P /= D\n",
        "\n",
        "g = torch.Generator().manual_seed(2147483647)\n",
        "print (f'GENERATED NAMES BY THE BIGRAM MODEL')\n",
        "print (f'===================================\\n')\n",
        "for i in range(10):\n",
        "  out = []\n",
        "  ix = 0\n",
        "  while True:\n",
        "    p = P[ix]\n",
        "    ix = torch.multinomial(p, num_samples=1, replacement=True, generator=g).item()\n",
        "    out.append(itos[ix])\n",
        "    if ix == 0:\n",
        "      break\n",
        "  print (''.join(out))\n",
        "\n",
        "log_likelihood = 0.0\n",
        "n = 0\n",
        "for w in ['chico']:\n",
        "  chs = ['.'] + list(w) + ['.']\n",
        "  for ch1,ch2 in zip(chs, chs[1:]):\n",
        "    ix1 = stoi[ch1]\n",
        "    ix2 = stoi[ch2]\n",
        "    prob = P[ix1,ix2]\n",
        "    logprob = torch.log(prob)\n",
        "    log_likelihood += logprob\n",
        "    n += 1\n",
        "    print(f'{ch1}{ch2}: {prob:.4f} {logprob:.4f}')\n",
        "\n",
        "print (f'{log_likelihood=}')\n",
        "#negetive log_likelihood\n",
        "nll = -log_likelihood\n",
        "print (f'{nll=}')\n",
        "print (f'{nll/n}') # loss"
      ],
      "metadata": {
        "colab": {
          "base_uri": "https://localhost:8080/"
        },
        "id": "nC_wb9sSFbX3",
        "outputId": "f5821ad4-ea23-40b8-cd8d-f68e5cbac380"
      },
      "execution_count": 29,
      "outputs": [
        {
          "output_type": "stream",
          "name": "stdout",
          "text": [
            "GENERATED NAMES BY THE BIGRAM MODEL\n",
            "===================================\n",
            "\n",
            "juwjdvditkaqaz.\n",
            "p.\n",
            "cfqywacny.\n",
            "kuitrltohcogsjgwzvudahntauy.\n",
            "bilevhajkdbdainrwimbl.\n",
            "snjyinaylaftezffvmumthyfodtumj.\n",
            "pfytsuwjhruanq.\n",
            "core.\n",
            "ysezocfky.\n",
            "jabdywebfmiifmwyfin.\n",
            ".c: 0.0351 -3.3499\n",
            "ch: 0.0645 -2.7408\n",
            "hi: 0.0625 -2.7726\n",
            "ic: 0.0500 -2.9957\n",
            "co: 0.0645 -2.7408\n",
            "o.: 0.0541 -2.9178\n",
            "log_likelihood=tensor(-17.5177)\n",
            "nll=tensor(17.5177)\n",
            "2.9196126461029053\n"
          ]
        }
      ]
    },
    {
      "cell_type": "markdown",
      "source": [
        "# Complete model code"
      ],
      "metadata": {
        "id": "NatBccCu20-A"
      }
    },
    {
      "cell_type": "code",
      "source": [
        "# Import all required packages\n",
        "\n",
        "import torch\n",
        "import numpy as np\n",
        "import string\n",
        "import matplotlib.pyplot as plt\n",
        "\n",
        "# Create dictionaries as character lookup and translation to integer\n",
        "# This is required since strings cannot be stored in tensors\n",
        "\n",
        "chars = list(string.ascii_lowercase)\n",
        "stoi = {s:i+1 for i,s in enumerate(chars)}\n",
        "stoi['.'] = 0\n",
        "itos = {i:s for s,i in stoi.items()}\n",
        "\n",
        "# Create a list of common names. Preferably one should find a dataset of names online\n",
        "\n",
        "words = ['sumit','sorit','swapna','suraj','sujit', 'sujoy', 'manoj', 'amit',\n",
        "         'kajol', 'steve', 'andrew','bob', 'cindy', 'ebrahim', 'daku', 'johny',\n",
        "         'timmy', 'david', 'tarun', 'nancy', 'edith', 'jason', 'kyle', 'joseph',\n",
        "         'kimberly', 'emma', 'irene', 'michael', 'scott', 'valentino']\n",
        "\n",
        "# Tensor N will hold the raw counts of the Bigram\n",
        "\n",
        "N = torch.zeros((27,27) , dtype = torch.int32)\n",
        "for w in words:\n",
        "  chs = ['.'] + list(w) + ['.']\n",
        "  for ch1,ch2 in zip(chs, chs[1:]):\n",
        "    ix1 = stoi[ch1]\n",
        "    ix2 = stoi[ch2]\n",
        "    N[ix1,ix2] += 1\n",
        "\n",
        "plt.figure(figsize=(16,16))\n",
        "plt.imshow(N, cmap='Reds')\n",
        "\n",
        "for i in range(27):\n",
        "  for j in range(27):\n",
        "    chstr = itos[i] + itos [j]\n",
        "    plt.text(j, i, chstr, ha=\"center\", va=\"bottom\", color=\"gray\")\n",
        "    plt.text(j, i, N[i,j].item(), ha=\"center\", va=\"top\", color=\"gray\")\n",
        "plt.axis('off')\n",
        "\n",
        "P = N.float()\n",
        "D = P.sum(1, keepdim = True)\n",
        "# If the sum of the items in the row is 0, then set it to 1 to avoid division by 0\n",
        "for d in D:\n",
        "  if d[0]==0.0:\n",
        "    d[0]= 1.0\n",
        "P /= D\n",
        "\n",
        "g = torch.Generator().manual_seed(2147483647)\n",
        "print (f'GENERATED NAMES BY THE BIGRAM MODEL')\n",
        "print (f'===================================\\n')\n",
        "for i in range(10):\n",
        "  out = []\n",
        "  ix = 0\n",
        "  while True:\n",
        "    p = P[ix]\n",
        "    ix = torch.multinomial(p, num_samples=1, replacement=True, generator=g).item()\n",
        "    out.append(itos[ix])\n",
        "    if ix == 0:\n",
        "      break\n",
        "  print (''.join(out))\n",
        "\n",
        "log_likelihood = 0.0\n",
        "n = 0\n",
        "for w in words:\n",
        "  chs = ['.'] + list(w) + ['.']\n",
        "  for ch1,ch2 in zip(chs, chs[1:]):\n",
        "    ix1 = stoi[ch1]\n",
        "    ix2 = stoi[ch2]\n",
        "    prob = P[ix1,ix2]\n",
        "    logprob = torch.log(prob)\n",
        "    log_likelihood += logprob\n",
        "    n += 1\n",
        "    print(f'{ch1}{ch2}: {prob:.4f} {logprob:.4f}')\n",
        "\n",
        "print (f'{log_likelihood=}')\n",
        "#negetive log_likelihood\n",
        "nll = -log_likelihood\n",
        "print (f'{nll=}')\n",
        "print (f'{nll/n}') # loss"
      ],
      "metadata": {
        "id": "QE-aXaCphRwF"
      },
      "execution_count": null,
      "outputs": []
    }
  ]
}