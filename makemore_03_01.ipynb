{
  "nbformat": 4,
  "nbformat_minor": 0,
  "metadata": {
    "colab": {
      "provenance": [],
      "authorship_tag": "ABX9TyM9JejJNH1Z0zc4yPOhuAlm",
      "include_colab_link": true
    },
    "kernelspec": {
      "name": "python3",
      "display_name": "Python 3"
    },
    "language_info": {
      "name": "python"
    }
  },
  "cells": [
    {
      "cell_type": "markdown",
      "metadata": {
        "id": "view-in-github",
        "colab_type": "text"
      },
      "source": [
        "<a href=\"https://colab.research.google.com/github/sganguly3000ai/makemore/blob/main/makemore_03_01.ipynb\" target=\"_parent\"><img src=\"https://colab.research.google.com/assets/colab-badge.svg\" alt=\"Open In Colab\"/></a>"
      ]
    },
    {
      "cell_type": "markdown",
      "source": [],
      "metadata": {
        "id": "TTCVE-YosBSy"
      }
    },
    {
      "cell_type": "markdown",
      "source": [
        "# **Bigram character level language model using neural network MLP**"
      ],
      "metadata": {
        "id": "nzTwea-NTw5C"
      }
    },
    {
      "cell_type": "code",
      "source": [
        "import torch\n",
        "import numpy as np\n",
        "import string\n",
        "import matplotlib.pyplot as plt\n",
        "import torch.nn.functional as F\n",
        "import pandas as pd\n",
        "%matplotlib inline\n"
      ],
      "metadata": {
        "id": "Mga2OWEQUhPh"
      },
      "execution_count": 2,
      "outputs": []
    },
    {
      "cell_type": "code",
      "source": [
        "# the yob1996.txt file is locally stored in the downloads/names directory\n",
        "# and should be uploaded to the sample_data directory in colab before running\n",
        "# create a list of words or names\n",
        "\n",
        "# create a list of words or names\n",
        "\n",
        "names   = np.loadtxt('sample_data/yob1996.txt', delimiter=',', usecols = 0, dtype = str)\n",
        "lnames  = np.char.lower(names)\n",
        "words  = pd.unique(lnames)\n",
        "\n"
      ],
      "metadata": {
        "id": "RHYuhNN7J5I0"
      },
      "execution_count": 3,
      "outputs": []
    },
    {
      "cell_type": "code",
      "source": [
        "print(f'{names[:8]} :Shape = {names.shape}\\n{lnames[:8]} :Shape = {lnames.shape}\\n{words[:8]} :Shape = {words.shape}')\n"
      ],
      "metadata": {
        "colab": {
          "base_uri": "https://localhost:8080/"
        },
        "id": "8ND9wHCyM0Qp",
        "outputId": "c156b022-f41a-4ba0-c092-acf1da8d012c"
      },
      "execution_count": 4,
      "outputs": [
        {
          "output_type": "stream",
          "name": "stdout",
          "text": [
            "['Emily' 'Jessica' 'Ashley' 'Sarah' 'Samantha' 'Taylor' 'Hannah' 'Alexis'] :Shape = (26426,)\n",
            "['emily' 'jessica' 'ashley' 'sarah' 'samantha' 'taylor' 'hannah' 'alexis'] :Shape = (26426,)\n",
            "['emily' 'jessica' 'ashley' 'sarah' 'samantha' 'taylor' 'hannah' 'alexis'] :Shape = (24306,)\n"
          ]
        }
      ]
    },
    {
      "cell_type": "code",
      "source": [
        "# create a dictionary of the lowercase english alphabets + '.' as the start and end character for a word\n",
        "\n",
        "chars = list(string.ascii_lowercase)\n",
        "stoi = {s:i+1 for i,s in enumerate(chars)}\n",
        "stoi['.'] = 0\n",
        "itos = {i:s for s,i in stoi.items()}\n",
        "vocab_size=len(itos)\n",
        "print(itos)\n",
        "print(vocab_size)"
      ],
      "metadata": {
        "id": "zurpq0TjU7Lh",
        "colab": {
          "base_uri": "https://localhost:8080/"
        },
        "outputId": "b3d6025c-2f3d-4ad6-d6d0-519d4d620db0"
      },
      "execution_count": 5,
      "outputs": [
        {
          "output_type": "stream",
          "name": "stdout",
          "text": [
            "{1: 'a', 2: 'b', 3: 'c', 4: 'd', 5: 'e', 6: 'f', 7: 'g', 8: 'h', 9: 'i', 10: 'j', 11: 'k', 12: 'l', 13: 'm', 14: 'n', 15: 'o', 16: 'p', 17: 'q', 18: 'r', 19: 's', 20: 't', 21: 'u', 22: 'v', 23: 'w', 24: 'x', 25: 'y', 26: 'z', 0: '.'}\n",
            "27\n"
          ]
        }
      ]
    },
    {
      "cell_type": "code",
      "source": [
        "# build the dataset\n",
        "\n",
        "block_size = 3 # context length: how many characters do we take to predict the next one?\n",
        "def build_dataset(words):\n",
        "  X, Y = [],[]\n",
        "\n",
        "\n",
        "  for w in words:\n",
        "    context = [0] * block_size\n",
        "\n",
        "    for ch in w + '.':\n",
        "      ix = stoi[ch]\n",
        "      X.append(context)\n",
        "      Y.append(ix)\n",
        "      #print(''.join(itos[i] for i in context), '---->', itos[ix])\n",
        "      context = context[1:] + [ix] #crop and append\n",
        "\n",
        "  X = torch.tensor(X)\n",
        "  Y = torch.tensor(Y)\n",
        "  print(X.shape,Y.shape)\n",
        "  return X, Y\n",
        "\n",
        "np.random.seed(42)\n",
        "np.random.shuffle(words)\n",
        "n1 = int(0.8*len(words))\n",
        "n2 = int(0.9*len(words))\n",
        "\n",
        "# train,dev and test datasets (80,10,10)\n",
        "Xtr, Ytr        =  build_dataset(words[:n1])\n",
        "Xdev, Ydev      =  build_dataset(words[n1:n2])\n",
        "Xtest, Ytest    =  build_dataset(words[n2:])\n"
      ],
      "metadata": {
        "id": "nipzETe2gWC2",
        "colab": {
          "base_uri": "https://localhost:8080/"
        },
        "outputId": "b534bdcd-d627-4099-dc4f-a8e69d43b4b5"
      },
      "execution_count": 6,
      "outputs": [
        {
          "output_type": "stream",
          "name": "stdout",
          "text": [
            "torch.Size([142863, 3]) torch.Size([142863])\n",
            "torch.Size([17771, 3]) torch.Size([17771])\n",
            "torch.Size([17942, 3]) torch.Size([17942])\n"
          ]
        }
      ]
    },
    {
      "cell_type": "code",
      "source": [
        "# MLP revisited\n",
        "n_emb       = 10 # the dimensionality of the character embedding vectors\n",
        "n_hidden    = 200 # the number of neurons in the hidden layer of the MLP\n",
        "\n",
        "# define the parameters\n",
        "g   =   torch.Generator().manual_seed(2147483647)         # for reproducibility\n",
        "C   =   torch.randn((vocab_size,n_emb),             generator = g)\n",
        "W1  =   torch.randn((n_emb*block_size, n_hidden),   generator = g)\n",
        "b1  =   torch.randn((n_hidden),                     generator = g)\n",
        "W2  =   torch.randn((n_hidden,vocab_size),          generator = g)      # 27 possible outputs for 27 lowercase english characters\n",
        "b2  =   torch.randn((vocab_size),                   generator = g)\n",
        "\n",
        "parameters  = [C, W1, b1, W2, b2]\n",
        "print(sum(p.nelement() for p in parameters))                              # number of parameters in total\n",
        "\n",
        "for p in parameters:\n",
        "  p.requires_grad = True"
      ],
      "metadata": {
        "id": "QPcsXErte3dR",
        "colab": {
          "base_uri": "https://localhost:8080/"
        },
        "outputId": "c134e7d8-4aaf-4fc5-dbcc-0a001690ae0f"
      },
      "execution_count": 7,
      "outputs": [
        {
          "output_type": "stream",
          "name": "stdout",
          "text": [
            "11897\n"
          ]
        }
      ]
    },
    {
      "cell_type": "code",
      "source": [
        "# to figure out what learning rate to use\n",
        "# guess a learning rate (one low and one high)\n",
        "# plug in the (guessed) low learning rate and train the model - observe the rate at which the loss is going down\n",
        "# plug in the (guessed) high learning rate and train the model - observe the rate at which the loss is going down\n",
        "# the (guessed) low and high lr should both not make the loss go down fairly quickly\n",
        "# for this particular model it seems like the low and high should be .001 and 1\n",
        "\n",
        "lre = torch.linspace(-3,0,1000)   # create evenly spaced values between -3 and 0\n",
        "lrs = 10**lre                     # taking the exponent gives us a tensor of values in the range 1 and .001\n",
        "\n",
        "# now instead of using the guessed learning rate (lr), we will run the model with each learning rate in lrs\n",
        "# and track the losses for a 1000 iterations of training the model"
      ],
      "metadata": {
        "id": "fP-AvYFDbD2N"
      },
      "execution_count": null,
      "outputs": []
    },
    {
      "cell_type": "code",
      "source": [
        "# optimization using Xtr\n",
        "\n",
        "max_steps       = 200000\n",
        "batch_size      = 32\n",
        "lossi           = []\n",
        "\n",
        "\n",
        "# lri   = []    # used to track the learning rate\n",
        "# lossi = []    # used to track the losses for the given lr\n",
        "\n",
        "for i in range(max_steps):\n",
        "\n",
        "  # minibatch construct (pluck bath_size samples out of the total number of samples randomly\n",
        "  ix = torch.randint(0, Xtr.shape[0], (batch_size,), generator=g)\n",
        "  Xb, Yb = Xtr[ix], Ytr[ix]\n",
        "\n",
        "\n",
        "  # forward pass\n",
        "  emb       = C[Xb]                       # embed the characters into vectors\n",
        "  embcat    = emb.view(emb.shape[0], -1)  # concatenate the vectors\n",
        "  hpreact   = embcat @ W1 + b1            # hidden layer pre-activation\n",
        "  h         = torch.tanh(hpreact)         # hidden layer\n",
        "  logits  = h @ W2 + b2                   # output layer\n",
        "  # counts  = logits.exp()\n",
        "  # probs   = counts / counts.sum(1, keepdims = True)\n",
        "  # loss    = -probs[torch.arange(num_of_labels),Y].log().mean()\n",
        "  loss = F.cross_entropy(logits, Yb)      # loss function\n",
        "\n",
        "  # backward pass\n",
        "  for p in parameters:\n",
        "    p.grad = None\n",
        "  loss.backward()\n",
        "\n",
        "  # gradient update\n",
        "  lr = 0.1 if i < 100000 else .01         # step learning rate decay\n",
        "  for p in parameters:\n",
        "    #lr        = lrs[i]\n",
        "    p.data   += -lr * p.grad\n",
        "\n",
        "  # track stats for lr\n",
        "  if i % 10000 == 0:                      # print every 10000 iterations\n",
        "    print(f'{i:7d}/{max_steps:7d}: {loss.item():4f}')\n",
        "  lossi.append(loss.item())\n"
      ],
      "metadata": {
        "colab": {
          "base_uri": "https://localhost:8080/"
        },
        "id": "xrALJnR3h-KZ",
        "outputId": "49078024-f5c3-4543-897b-1789d4b6e7dd"
      },
      "execution_count": 10,
      "outputs": [
        {
          "output_type": "stream",
          "name": "stdout",
          "text": [
            "      0/ 200000: 2.087491\n",
            "  10000/ 200000: 2.191956\n",
            "  20000/ 200000: 1.852420\n",
            "  30000/ 200000: 1.832281\n",
            "  40000/ 200000: 1.680371\n",
            "  50000/ 200000: 1.907246\n",
            "  60000/ 200000: 1.936236\n",
            "  70000/ 200000: 2.308415\n",
            "  80000/ 200000: 2.241536\n",
            "  90000/ 200000: 2.019626\n",
            " 100000/ 200000: 2.247876\n",
            " 110000/ 200000: 2.202846\n",
            " 120000/ 200000: 1.842506\n",
            " 130000/ 200000: 1.676755\n",
            " 140000/ 200000: 1.911015\n",
            " 150000/ 200000: 1.577655\n",
            " 160000/ 200000: 1.840847\n",
            " 170000/ 200000: 1.837021\n",
            " 180000/ 200000: 2.172861\n",
            " 190000/ 200000: 1.904201\n"
          ]
        }
      ]
    },
    {
      "cell_type": "code",
      "source": [
        "plt.plot(lossi)"
      ],
      "metadata": {
        "colab": {
          "base_uri": "https://localhost:8080/",
          "height": 447
        },
        "id": "rnvOdTG2tACl",
        "outputId": "813104bb-0b60-4e5a-9ce3-3edb84963660"
      },
      "execution_count": 11,
      "outputs": [
        {
          "output_type": "execute_result",
          "data": {
            "text/plain": [
              "[<matplotlib.lines.Line2D at 0x78d677e29f60>]"
            ]
          },
          "metadata": {},
          "execution_count": 11
        },
        {
          "output_type": "display_data",
          "data": {
            "text/plain": [
              "<Figure size 640x480 with 1 Axes>"
            ],
            "image/png": "[encoded data removed]"
          },
          "metadata": {}
        }
      ]
    },
    {
      "cell_type": "code",
      "source": [
        "# run to evaluate what the train and validation data is showing as per as the loss\n",
        "\n",
        "@torch.no_grad()                                # this decorator disables gradient tracking\n",
        "def split_loss(split):\n",
        "  x,y = {'train': (Xtr, Ytr),\n",
        "        'val': (Xdev, Ydev),\n",
        "        'test': (Xtest, Ytest),\n",
        "        }[split]\n",
        "\n",
        "  emb       = C[x]                       # embed the characters into vectors\n",
        "  embcat    = emb.view(emb.shape[0], -1)  # concatenate the vectors\n",
        "  hpreact   = embcat @ W1 + b1            # hidden layer pre-activation\n",
        "  h         = torch.tanh(hpreact)         # hidden layer\n",
        "  logits  = h @ W2 + b2\n",
        "  loss = F.cross_entropy(logits, y)       # loss function\n",
        "  print(split, loss.item())\n",
        "\n",
        "split_loss('train')\n",
        "split_loss('val')"
      ],
      "metadata": {
        "colab": {
          "base_uri": "https://localhost:8080/"
        },
        "id": "9LI8QghZt9G9",
        "outputId": "8920a2ee-58de-4e55-969a-f39a9227a54d"
      },
      "execution_count": 13,
      "outputs": [
        {
          "output_type": "stream",
          "name": "stdout",
          "text": [
            "train 1.9882811307907104\n",
            "val 2.073927879333496\n"
          ]
        }
      ]
    },
    {
      "cell_type": "code",
      "source": [],
      "metadata": {
        "colab": {
          "base_uri": "https://localhost:8080/"
        },
        "id": "-UhZM_Q3PkKy",
        "outputId": "4a0adc36-009a-45a0-fc77-9e663cda9ef6"
      },
      "execution_count": 63,
      "outputs": [
        {
          "output_type": "stream",
          "name": "stdout",
          "text": [
            "2.5666401386260986\n"
          ]
        }
      ]
    },
    {
      "cell_type": "code",
      "source": [],
      "metadata": {
        "colab": {
          "base_uri": "https://localhost:8080/"
        },
        "id": "G60-r551LqtA",
        "outputId": "085a93b2-1f19-42cc-fe9b-5d90b9ca87b9"
      },
      "execution_count": 62,
      "outputs": [
        {
          "output_type": "stream",
          "name": "stdout",
          "text": [
            "2.5784599781036377\n"
          ]
        }
      ]
    },
    {
      "cell_type": "code",
      "source": [
        "# sample from the model\n",
        "\n",
        "g = torch.Generator().manual_seed(2147483647 + 10)\n",
        "\n",
        "for _ in range(20):\n",
        "\n",
        "  out = []\n",
        "  context = [0]*block_size # initialize with all '...'\n",
        "  while True:\n",
        "\n",
        "    emb     = C[torch.tensor([context])]                                          #(1,block_size,d)\n",
        "    h       = torch.tanh(emb.view(1,-1) @ W1 + b1)\n",
        "    logits  = h @ W2 + b2\n",
        "    probs   = F.softmax(logits, dim=1)\n",
        "\n",
        "    # sample from the distribution\n",
        "    ix      = torch.multinomial(probs, num_samples=1, generator=g).item()\n",
        "    # shift the context window and track the samples\n",
        "    context = context[1:] + [ix]\n",
        "\n",
        "    out.append(ix)\n",
        "    # if we sample the special '.' token, break\n",
        "    if ix == 0:\n",
        "      break\n",
        "\n",
        "  print(''.join(itos[i] for i in out))"
      ],
      "metadata": {
        "colab": {
          "base_uri": "https://localhost:8080/"
        },
        "id": "8d7s13Urj5Aq",
        "outputId": "d5e097fa-bf07-431b-d68c-f6274b339eae"
      },
      "execution_count": 14,
      "outputs": [
        {
          "output_type": "stream",
          "name": "stdout",
          "text": [
            "montaymyannieen.\n",
            "nichalla.\n",
            "emman.\n",
            "jadrie.\n",
            "cadejanielin.\n",
            "shy.\n",
            "jenne.\n",
            "elissa.\n",
            "nar.\n",
            "katelvintel.\n",
            "nyshaber.\n",
            "daimies.\n",
            "kindreell.\n",
            "panterian.\n",
            "brence.\n",
            "rayshun.\n",
            "ehs.\n",
            "kayjahs.\n",
            "kyla.\n",
            "hil.\n"
          ]
        }
      ]
    }
  ]
}