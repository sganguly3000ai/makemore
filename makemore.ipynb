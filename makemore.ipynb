{
  "nbformat": 4,
  "nbformat_minor": 0,
  "metadata": {
    "colab": {
      "provenance": [],
      "authorship_tag": "ABX9TyOEi6WEEDbEguk9IjzNLcLA",
      "include_colab_link": true
    },
    "kernelspec": {
      "name": "python3",
      "display_name": "Python 3"
    },
    "language_info": {
      "name": "python"
    }
  },
  "cells": [
    {
      "cell_type": "markdown",
      "metadata": {
        "id": "view-in-github",
        "colab_type": "text"
      },
      "source": [
        "<a href=\"https://colab.research.google.com/github/sganguly3000ai/makemore/blob/main/makemore.ipynb\" target=\"_parent\"><img src=\"https://colab.research.google.com/assets/colab-badge.svg\" alt=\"Open In Colab\"/></a>"
      ]
    },
    {
      "cell_type": "markdown",
      "source": [],
      "metadata": {
        "id": "TTCVE-YosBSy"
      }
    },
    {
      "cell_type": "code",
      "source": [
        "import torch\n",
        "torch.manual_seed(42)\n",
        "ten2 = torch.rand(1,2,32,32)\n",
        "ten2 = (ten2 - 1) * 2\n",
        "print(ten2.size())\n",
        "print (ten2)\n",
        "\n",
        "x = ten2.size()[1:]\n",
        "print (f\"x => \", x)\n",
        "features = 1\n",
        "for s in x:\n",
        "  features *= s\n",
        "  print(f\"S = \",s)\n",
        "print (features)\n",
        "\n",
        "\n",
        "\n"
      ],
      "metadata": {
        "colab": {
          "base_uri": "https://localhost:8080/"
        },
        "id": "amS8TKZY-_ei",
        "outputId": "ab90af85-9265-4fef-f312-f799adccbfbe"
      },
      "execution_count": 74,
      "outputs": [
        {
          "output_type": "stream",
          "name": "stdout",
          "text": [
            "torch.Size([1, 2, 32, 32])\n",
            "tensor([[[[-0.2355, -0.1700, -1.2343,  ..., -1.9877, -0.0969, -1.8495],\n",
            "          [-0.2280, -0.8336, -1.3247,  ..., -1.6825, -0.6916, -1.3444],\n",
            "          [-0.6936, -1.2083, -0.1706,  ..., -0.3202, -1.7252, -1.5339],\n",
            "          ...,\n",
            "          [-1.3677, -1.0859, -0.0663,  ..., -1.3775, -0.1739, -0.8977],\n",
            "          [-1.7479, -0.9937, -1.7767,  ..., -1.2066, -1.0837, -0.5499],\n",
            "          [-1.1681, -1.8398, -0.1999,  ..., -1.3816, -1.8596, -1.6328]],\n",
            "\n",
            "         [[-0.4430, -1.1493, -0.5753,  ..., -1.4677, -0.0156, -1.0000],\n",
            "          [-1.1357, -1.4162, -1.2621,  ..., -0.3510, -0.0893, -0.4164],\n",
            "          [-1.5183, -1.9890, -0.6207,  ..., -0.2499, -0.4015, -0.6470],\n",
            "          ...,\n",
            "          [-1.3201, -1.1368, -1.6700,  ..., -0.8022, -0.3154, -0.5379],\n",
            "          [-0.6617, -1.3100, -1.8019,  ..., -1.7374, -1.2118, -1.9447],\n",
            "          [-0.1700, -1.4777, -1.4144,  ..., -0.9756, -0.8182, -0.0575]]]])\n",
            "x =>  torch.Size([2, 32, 32])\n",
            "S =  2\n",
            "S =  32\n",
            "S =  32\n",
            "2048\n"
          ]
        }
      ]
    },
    {
      "cell_type": "code",
      "source": [
        "import torch\n",
        "import torchvision\n",
        "import torchvision.transforms as transforms\n",
        "from torch.utils.data import ConcatDataset\n",
        "transform = transforms.Compose([transforms.ToTensor()])\n",
        "trainset = torchvision.datasets.CIFAR10(root='./data', train=True,download=True,transform=transform)\n",
        "#stack all train images together into a tensor of shape #(50000, 3, 32, 32)\n",
        "x = torch.stack([sample[0] for sample in ConcatDataset([trainset])])\n",
        "\n",
        "#get the mean of each channel\n",
        "mean = torch.mean(x, dim=(0,2,3))\n",
        "print (mean)\n",
        "#tensor([0.4914, 0.4822, 0.4465])\n",
        "std = torch.std(x, dim=(0,2,3))\n",
        "print (std)\n",
        "#tensor([0.2470, 0.2435, 0.2616])\n",
        "\n"
      ],
      "metadata": {
        "id": "JGQfUbWq-_aC",
        "colab": {
          "base_uri": "https://localhost:8080/"
        },
        "outputId": "14843429-354c-4823-d8e2-dfa7a9345178"
      },
      "execution_count": 2,
      "outputs": [
        {
          "output_type": "stream",
          "name": "stdout",
          "text": [
            "Downloading https://www.cs.toronto.edu/~kriz/cifar-10-python.tar.gz to ./data/cifar-10-python.tar.gz\n"
          ]
        },
        {
          "output_type": "stream",
          "name": "stderr",
          "text": [
            "100%|██████████| 170498071/170498071 [00:03<00:00, 47512328.44it/s]\n"
          ]
        },
        {
          "output_type": "stream",
          "name": "stdout",
          "text": [
            "Extracting ./data/cifar-10-python.tar.gz to ./data\n",
            "tensor([0.4914, 0.4822, 0.4465])\n",
            "tensor([0.2470, 0.2435, 0.2616])\n"
          ]
        }
      ]
    },
    {
      "cell_type": "code",
      "source": [
        "#print (x)\n",
        "import torch\n",
        "import numpy as np\n",
        "import string\n",
        "\"\"\"\n",
        "t1 = x\n",
        "t1.shape\n",
        "tin = x [0,0:3]\n",
        "#print (f'{tin} and shape {tin.shape}' )\n",
        "t4 = x[0,0:3,0:32,0:1]\n",
        "#t5 = x[0,:,:,0:1]\n",
        "t5 = torch.zeros([3,32,1])\n",
        "t4t5 = torch.cat((t4,t5),2)\n",
        "#print (f'test is \\n {t4} , {t5} \\n shape t4  = {t4.shape} shape t5 = {t5.shape}')\n",
        "#print (f'test is \\n {t4t5} \\n shape t4t5  = {t4t5.shape}')\n",
        "#print (f't4t5 4th column  = {t4t5[:,:,3:4]} {t4t5[:,:,3:4].shape}')\n",
        "\n",
        "t4t5np = t4t5.numpy()\n",
        "#print (f'{t4t5np}')\n",
        "t4t5np = t4t5np[:,:,0:1]\n",
        "\n",
        "print (f'{t4t5np}')\n",
        "print (f'{t4t5np.shape}')\n",
        "\n",
        "t4t5np = t4t5np.flatten('C')\n",
        "print (f'{t4t5np} {t4t5np.shape}')\n",
        "t4t5np = t4t5np*10\n",
        "print (f'{t4t5np} {t4t5np.shape}')\n",
        "\"\"\"\n",
        "def stoi(x):\n",
        "  Output = [item[0] for item in chrs\n",
        "          if item[1] == x]\n",
        "  return Output\n",
        "\n",
        "def itos(x):\n",
        "  Output = [item[1] for item in chrs\n",
        "          if item[0] == x]\n",
        "  return Output\n",
        "\n",
        "b={}\n",
        "words = ['sumit','sorit','swapna','suraj','sujit', 'sujoy', 'manoj', 'amit',\n",
        "         'kajol', 'steve', 'andrew','bob', 'cindy']\n",
        "for w in words:\n",
        "  chs = ['.'] + list(w) + ['.']\n",
        "  for ch1,ch2 in zip(chs, chs[1:]):\n",
        "    bigram = (ch1,ch2)\n",
        "    b[bigram] = b.get(bigram,0) + 1\n",
        "    #print (bigram)\n",
        "    #print (type(bigram))\n",
        "sorted(b.items(), key = lambda kv: -kv[1])\n",
        "chrs = list(string.ascii_lowercase)\n",
        "chrs = list(enumerate(chrs))\n",
        "chrs.insert(26, (26, '.'))\n",
        "print (chrs)\n",
        "#print (stoi('b'))\n",
        "#print (itos (25))\n",
        "\n",
        "\n",
        "\n"
      ],
      "metadata": {
        "id": "LwXp20MgkDsU"
      },
      "execution_count": null,
      "outputs": []
    },
    {
      "cell_type": "code",
      "source": [
        "import torch\n",
        "import numpy as np\n",
        "import string\n",
        "\"\"\"\n",
        "t1 = x\n",
        "t1.shape\n",
        "tin = x [0,0:3]\n",
        "#print (f'{tin} and shape {tin.shape}' )\n",
        "t4 = x[0,0:3,0:32,0:1]\n",
        "#t5 = x[0,:,:,0:1]\n",
        "t5 = torch.zeros([3,32,1])\n",
        "t4t5 = torch.cat((t4,t5),2)\n",
        "#print (f'test is \\n {t4} , {t5} \\n shape t4  = {t4.shape} shape t5 = {t5.shape}')\n",
        "#print (f'test is \\n {t4t5} \\n shape t4t5  = {t4t5.shape}')\n",
        "#print (f't4t5 4th column  = {t4t5[:,:,3:4]} {t4t5[:,:,3:4].shape}')\n",
        "\n",
        "t4t5np = t4t5.numpy()\n",
        "#print (f'{t4t5np}')\n",
        "t4t5np = t4t5np[:,:,0:1]\n",
        "\n",
        "print (f'{t4t5np}')\n",
        "print (f'{t4t5np.shape}')\n",
        "\n",
        "t4t5np = t4t5np.flatten('C')\n",
        "print (f'{t4t5np} {t4t5np.shape}')\n",
        "t4t5np = t4t5np*10\n",
        "print (f'{t4t5np} {t4t5np.shape}')\n",
        "\"\"\"\n",
        "def stoi(x):\n",
        "  Output = [item[0] for item in chrs\n",
        "          if item[1] == x]\n",
        "  return Output\n",
        "\n",
        "def itos(x):\n",
        "  Output = [item[1] for item in chrs\n",
        "          if item[0] == x]\n",
        "  return Output\n",
        "b ={}\n",
        "N = torch.zeros((27,27) , dtype = torch.int32)\n",
        "words = ['sumit','sorit','swapna','suraj','sujit', 'sujoy', 'manoj', 'amit',\n",
        "         'kajol', 'steve', 'andrew','bob', 'cindy', 'ebrahim', 'daku']\n",
        "for w in words:\n",
        "  chs = ['.'] + list(w) + ['.']\n",
        "  for ch1,ch2 in zip(chs, chs[1:]):\n",
        "    bigram = (ch1,ch2)\n",
        "    N[stoi(ch1),stoi(ch2)] = N[stoi(ch1),stoi(ch2)] + 1\n",
        "    #b[bigram] = b.get(bigram,0) + 1\n",
        "    #print (bigram)\n",
        "    #print (type(bigram))\n",
        "sorted(b.items(), key = lambda kv: -kv[1])\n",
        "chrs = list(string.ascii_lowercase)\n",
        "chrs = list(enumerate(chrs))\n",
        "chrs.insert(26, (26, '.'))\n",
        "#print (stoi('s'))\n",
        "#print (itos (25))\n",
        "print (N[18])"
      ],
      "metadata": {
        "colab": {
          "base_uri": "https://localhost:8080/"
        },
        "id": "nJfwls4vkDV1",
        "outputId": "f6364664-5ba5-4e76-e472-a6fd01d17523"
      },
      "execution_count": 134,
      "outputs": [
        {
          "output_type": "stream",
          "name": "stdout",
          "text": [
            "[18]\n",
            "tensor([0, 0, 0, 0, 0, 0, 0, 0, 0, 0, 0, 0, 0, 0, 1, 0, 0, 0, 0, 1, 4, 0, 1, 0,\n",
            "        0, 0, 0], dtype=torch.int32)\n"
          ]
        }
      ]
    },
    {
      "cell_type": "code",
      "source": [],
      "metadata": {
        "id": "wsNVbRN8---q"
      },
      "execution_count": null,
      "outputs": []
    }
  ]
}