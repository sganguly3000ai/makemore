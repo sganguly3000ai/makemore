{
  "nbformat": 4,
  "nbformat_minor": 0,
  "metadata": {
    "colab": {
      "provenance": [],
      "authorship_tag": "ABX9TyMXcztA8g7wjRTxauaMNu5d",
      "include_colab_link": true
    },
    "kernelspec": {
      "name": "python3",
      "display_name": "Python 3"
    },
    "language_info": {
      "name": "python"
    }
  },
  "cells": [
    {
      "cell_type": "markdown",
      "metadata": {
        "id": "view-in-github",
        "colab_type": "text"
      },
      "source": [
        "<a href=\"https://colab.research.google.com/github/sganguly3000ai/makemore/blob/main/makemore_03.ipynb\" target=\"_parent\"><img src=\"https://colab.research.google.com/assets/colab-badge.svg\" alt=\"Open In Colab\"/></a>"
      ]
    },
    {
      "cell_type": "markdown",
      "source": [],
      "metadata": {
        "id": "TTCVE-YosBSy"
      }
    },
    {
      "cell_type": "markdown",
      "source": [
        "# **Bigram character level language model using neural network MLP**"
      ],
      "metadata": {
        "id": "nzTwea-NTw5C"
      }
    },
    {
      "cell_type": "code",
      "source": [
        "import torch\n",
        "import numpy as np\n",
        "import string\n",
        "import matplotlib.pyplot as plt\n",
        "import torch.nn.functional as F\n",
        "import pandas as pd\n",
        "%matplotlib inline\n"
      ],
      "metadata": {
        "id": "Mga2OWEQUhPh"
      },
      "execution_count": 4,
      "outputs": []
    },
    {
      "cell_type": "code",
      "source": [
        "# the yob1996.txt file is locally stored in the downloads/names directory\n",
        "# and should be uploaded to the sample_data directory in colab before running\n",
        "# create a list of words or names\n",
        "\n",
        "# create a list of words or names\n",
        "\n",
        "names   = np.loadtxt('sample_data/yob1996.txt', delimiter=',', usecols = 0, dtype = str)\n",
        "lnames  = np.char.lower(names)\n",
        "words  = pd.unique(lnames)\n",
        "\n"
      ],
      "metadata": {
        "id": "RHYuhNN7J5I0"
      },
      "execution_count": 5,
      "outputs": []
    },
    {
      "cell_type": "code",
      "source": [
        "print(f'{names[:8]} :Shape = {names.shape}\\n{lnames[:8]} :Shape = {lnames.shape}\\n{words[:8]} :Shape = {words.shape}')\n"
      ],
      "metadata": {
        "colab": {
          "base_uri": "https://localhost:8080/"
        },
        "id": "8ND9wHCyM0Qp",
        "outputId": "aa9816f4-167e-4b35-9a94-1c398cd126dd"
      },
      "execution_count": 8,
      "outputs": [
        {
          "output_type": "stream",
          "name": "stdout",
          "text": [
            "['Emily' 'Jessica' 'Ashley' 'Sarah' 'Samantha' 'Taylor' 'Hannah' 'Alexis'] :Shape = (26426,)\n",
            "['emily' 'jessica' 'ashley' 'sarah' 'samantha' 'taylor' 'hannah' 'alexis'] :Shape = (26426,)\n",
            "['emily' 'jessica' 'ashley' 'sarah' 'samantha' 'taylor' 'hannah' 'alexis'] :Shape = (24306,)\n"
          ]
        }
      ]
    },
    {
      "cell_type": "code",
      "source": [
        "# create a dictionary of the lowercase english alphabets + '.' as the start and end character for a word\n",
        "\n",
        "chars = list(string.ascii_lowercase)\n",
        "stoi = {s:i+1 for i,s in enumerate(chars)}\n",
        "stoi['.'] = 0\n",
        "itos = {i:s for s,i in stoi.items()}\n",
        "vocab_size=len(itos)\n",
        "print(itos)\n",
        "print(vocab_size)"
      ],
      "metadata": {
        "id": "zurpq0TjU7Lh",
        "colab": {
          "base_uri": "https://localhost:8080/"
        },
        "outputId": "56f555dd-d499-4560-b8f6-73427e76834f"
      },
      "execution_count": 18,
      "outputs": [
        {
          "output_type": "stream",
          "name": "stdout",
          "text": [
            "{1: 'a', 2: 'b', 3: 'c', 4: 'd', 5: 'e', 6: 'f', 7: 'g', 8: 'h', 9: 'i', 10: 'j', 11: 'k', 12: 'l', 13: 'm', 14: 'n', 15: 'o', 16: 'p', 17: 'q', 18: 'r', 19: 's', 20: 't', 21: 'u', 22: 'v', 23: 'w', 24: 'x', 25: 'y', 26: 'z', 0: '.'}\n",
            "27\n"
          ]
        }
      ]
    },
    {
      "cell_type": "code",
      "source": [
        "# build the dataset\n",
        "\n",
        "block_size = 3 # context length: how many characters do we take to predict the next one?\n",
        "def build_dataset(words):\n",
        "  X, Y = [],[]\n",
        "\n",
        "\n",
        "  for w in words:\n",
        "    context = [0] * block_size\n",
        "\n",
        "    for ch in w + '.':\n",
        "      ix = stoi[ch]\n",
        "      X.append(context)\n",
        "      Y.append(ix)\n",
        "      #print(''.join(itos[i] for i in context), '---->', itos[ix])\n",
        "      context = context[1:] + [ix] #crop and append\n",
        "\n",
        "  X = torch.tensor(X)\n",
        "  Y = torch.tensor(Y)\n",
        "  print(X.shape,Y.shape)\n",
        "  return X, Y\n",
        "\n",
        "np.random.seed(42)\n",
        "np.random.shuffle(words)\n",
        "n1 = int(0.8*len(words))\n",
        "n2 = int(0.9*len(words))\n",
        "\n",
        "# train,dev and test datasets (80,10,10)\n",
        "Xtr, Ytr        =  build_dataset(words[:n1])\n",
        "Xdev, Ydev      =  build_dataset(words[n1:n2])\n",
        "Xtest, Ytest    =  build_dataset(words[n2:])\n"
      ],
      "metadata": {
        "id": "nipzETe2gWC2",
        "colab": {
          "base_uri": "https://localhost:8080/"
        },
        "outputId": "b5ec44f7-0847-4ffd-f06c-4e69186ed7f6"
      },
      "execution_count": 28,
      "outputs": [
        {
          "output_type": "stream",
          "name": "stdout",
          "text": [
            "torch.Size([142904, 3]) torch.Size([142904])\n",
            "torch.Size([17926, 3]) torch.Size([17926])\n",
            "torch.Size([17746, 3]) torch.Size([17746])\n"
          ]
        }
      ]
    },
    {
      "cell_type": "code",
      "source": [
        "# MLP revisited\n",
        "n_emb       = 10 # the dimensionality of the character embedding vectors\n",
        "n_hidden    = 200 # the number of neurons in the hidden layer of the MLP\n",
        "\n",
        "# define the parameters\n",
        "g   =   torch.Generator().manual_seed(2147483647)         # for reproducibility\n",
        "C   =   torch.randn((vocab_size,n_emb),             generator = g)\n",
        "W1  =   torch.randn((n_emb*block_size, n_hidden),   generator = g)\n",
        "b1  =   torch.randn((n_hidden),                     generator = g)\n",
        "W2  =   torch.randn((n_hidden,vocab_size),          generator = g)      # 27 possible outputs for 27 lowercase english characters\n",
        "b2  =   torch.randn((vocab_size),                   generator = g)\n",
        "\n",
        "parameters  = [C, W1, b1, W2, b2]\n",
        "print(sum(p.nelement() for p in parameters))                              # number of parameters in total\n",
        "\n",
        "for p in parameters:\n",
        "  p.requires_grad = True"
      ],
      "metadata": {
        "id": "QPcsXErte3dR",
        "colab": {
          "base_uri": "https://localhost:8080/"
        },
        "outputId": "d56be418-1804-4251-b22e-2da9046048d7"
      },
      "execution_count": 30,
      "outputs": [
        {
          "output_type": "stream",
          "name": "stdout",
          "text": [
            "11897\n"
          ]
        }
      ]
    },
    {
      "cell_type": "code",
      "source": [
        "# to figure out what learning rate to use\n",
        "# guess a learning rate (one low and one high)\n",
        "# plug in the (guessed) low learning rate and train the model - observe the rate at which the loss is going down\n",
        "# plug in the (guessed) high learning rate and train the model - observe the rate at which the loss is going down\n",
        "# the (guessed) low and high lr should both not make the loss go down fairly quickly\n",
        "# for this particular model it seems like the low and high should be .001 and 1\n",
        "\n",
        "lre = torch.linspace(-3,0,1000)   # create evenly spaced values between -3 and 0\n",
        "lrs = 10**lre                     # taking the exponent gives us a tensor of values in the range 1 and .001\n",
        "\n",
        "# now instead of using the guessed learning rate (lr), we will run the model with each learning rate in lrs\n",
        "# and track the losses for a 1000 iterations of training the model"
      ],
      "metadata": {
        "id": "fP-AvYFDbD2N"
      },
      "execution_count": null,
      "outputs": []
    },
    {
      "cell_type": "code",
      "source": [
        "# optimization using Xtr\n",
        "\n",
        "max_steps       = 200000\n",
        "batch_size      = 32\n",
        "lossi           = []\n",
        "\n",
        "\n",
        "# lri   = []    # used to track the learning rate\n",
        "# lossi = []    # used to track the losses for the given lr\n",
        "\n",
        "for i in range(max_steps):\n",
        "\n",
        "  # minibatch construct (pluck bath_size samples out of the total number of samples randomly\n",
        "  ix = torch.randint(0, Xtr.shape[0], (batch_size,), generator=g)\n",
        "  Xb, Yb = Xtr[ix], Ytr[ix]\n",
        "\n",
        "\n",
        "  # forward pass\n",
        "  emb       = C[Xb]                       # embed the characters into vectors\n",
        "  embcat    = emb.view(emb.shape[0], -1)  # concatenate the vectors\n",
        "  hpreact   = embcat @ W1 + b1            # hidden layer pre-activation\n",
        "  h         = torch.tanh(hpreact)         # hidden layer\n",
        "  logits  = h @ W2 + b2                   # output layer\n",
        "  # counts  = logits.exp()\n",
        "  # probs   = counts / counts.sum(1, keepdims = True)\n",
        "  # loss    = -probs[torch.arange(num_of_labels),Y].log().mean()\n",
        "  loss = F.cross_entropy(logits, Yb)      # loss function\n",
        "\n",
        "  # backward pass\n",
        "  for p in parameters:\n",
        "    p.grad = None\n",
        "  loss.backward()\n",
        "\n",
        "  # gradient update\n",
        "  lr = 0.1 if i < 100000 else .01         # step learning rate decay\n",
        "  for p in parameters:\n",
        "    #lr        = lrs[i]\n",
        "    p.data   += -lr * p.grad\n",
        "\n",
        "  # track stats for lr\n",
        "  if i % 10000 == 0:                      # print every 10000 iterations\n",
        "    print(f'{i:7d}/{max_steps:7d}: {loss.item():4f}')\n",
        "  lossi.append(loss.item())\n"
      ],
      "metadata": {
        "colab": {
          "base_uri": "https://localhost:8080/"
        },
        "id": "xrALJnR3h-KZ",
        "outputId": "f50aee32-cb38-4df8-eaa2-e2e899de8fe6"
      },
      "execution_count": 31,
      "outputs": [
        {
          "output_type": "stream",
          "name": "stdout",
          "text": [
            "      0/ 200000: 26.055836\n",
            "  10000/ 200000: 2.269816\n",
            "  20000/ 200000: 2.179330\n",
            "  30000/ 200000: 2.573171\n",
            "  40000/ 200000: 2.381529\n",
            "  50000/ 200000: 2.514782\n",
            "  60000/ 200000: 2.434676\n",
            "  70000/ 200000: 2.489927\n",
            "  80000/ 200000: 1.892879\n",
            "  90000/ 200000: 2.190460\n",
            " 100000/ 200000: 2.323380\n",
            " 110000/ 200000: 1.578298\n",
            " 120000/ 200000: 2.353602\n",
            " 130000/ 200000: 2.446215\n",
            " 140000/ 200000: 2.067911\n",
            " 150000/ 200000: 1.860976\n",
            " 160000/ 200000: 1.966474\n",
            " 170000/ 200000: 1.985222\n",
            " 180000/ 200000: 1.737098\n",
            " 190000/ 200000: 2.293793\n"
          ]
        }
      ]
    },
    {
      "cell_type": "code",
      "source": [
        "plt.plot(lossi)"
      ],
      "metadata": {
        "colab": {
          "base_uri": "https://localhost:8080/",
          "height": 447
        },
        "id": "rnvOdTG2tACl",
        "outputId": "172c768c-d799-491b-f635-a2623e7d2b70"
      },
      "execution_count": 32,
      "outputs": [
        {
          "output_type": "execute_result",
          "data": {
            "text/plain": [
              "[<matplotlib.lines.Line2D at 0x7814515ae320>]"
            ]
          },
          "metadata": {},
          "execution_count": 32
        },
        {
          "output_type": "display_data",
          "data": {
            "text/plain": [
              "<Figure size 640x480 with 1 Axes>"
            ],
            "image/png": "[encoded data removed]"
          },
          "metadata": {}
        }
      ]
    },
    {
      "cell_type": "code",
      "source": [
        "@torch.no_grad()                                # this decorator disables gradient tracking\n",
        "def split_loss(split):\n",
        "  x,y = {'train': (Xtr, Ytr),\n",
        "        'val': (Xdev, Ydev),\n",
        "        'test': (Xtest, Ytest),\n",
        "        }[split]\n",
        "\n",
        "  emb       = C[x]                       # embed the characters into vectors\n",
        "  embcat    = emb.view(emb.shape[0], -1)  # concatenate the vectors\n",
        "  hpreact   = embcat @ W1 + b1            # hidden layer pre-activation\n",
        "  h         = torch.tanh(hpreact)         # hidden layer\n",
        "  logits  = h @ W2 + b2\n",
        "  loss = F.cross_entropy(logits, y)       # loss function\n",
        "  print(split, loss.item())\n",
        "\n",
        "split_loss('train')\n",
        "split_loss('val')"
      ],
      "metadata": {
        "colab": {
          "base_uri": "https://localhost:8080/"
        },
        "id": "9LI8QghZt9G9",
        "outputId": "a98bec50-4156-4b40-a4de-674dc051cbaa"
      },
      "execution_count": 36,
      "outputs": [
        {
          "output_type": "stream",
          "name": "stdout",
          "text": [
            "train 2.0369057655334473\n",
            "val 2.1035187244415283\n"
          ]
        }
      ]
    },
    {
      "cell_type": "code",
      "source": [],
      "metadata": {
        "colab": {
          "base_uri": "https://localhost:8080/"
        },
        "id": "-UhZM_Q3PkKy",
        "outputId": "4a0adc36-009a-45a0-fc77-9e663cda9ef6"
      },
      "execution_count": 63,
      "outputs": [
        {
          "output_type": "stream",
          "name": "stdout",
          "text": [
            "2.5666401386260986\n"
          ]
        }
      ]
    },
    {
      "cell_type": "code",
      "source": [],
      "metadata": {
        "colab": {
          "base_uri": "https://localhost:8080/"
        },
        "id": "G60-r551LqtA",
        "outputId": "085a93b2-1f19-42cc-fe9b-5d90b9ca87b9"
      },
      "execution_count": 62,
      "outputs": [
        {
          "output_type": "stream",
          "name": "stdout",
          "text": [
            "2.5784599781036377\n"
          ]
        }
      ]
    },
    {
      "cell_type": "code",
      "source": [
        "# sample from the model\n",
        "\n",
        "g = torch.Generator().manual_seed(2147483647 + 10)\n",
        "\n",
        "for _ in range(20):\n",
        "\n",
        "  out = []\n",
        "  context = [0]*block_size # initialize with all '...'\n",
        "  while True:\n",
        "\n",
        "    emb     = C[torch.tensor([context])]                                          #(1,block_size,d)\n",
        "    h       = torch.tanh(emb.view(1,-1) @ W1 + b1)\n",
        "    logits  = h @ W2 + b2\n",
        "    probs   = F.softmax(logits, dim=1)\n",
        "\n",
        "    # sample from the distribution\n",
        "    ix      = torch.multinomial(probs, num_samples=1, generator=g).item()\n",
        "    # shift the context window and track the samples\n",
        "    context = context[1:] + [ix]\n",
        "\n",
        "    out.append(ix)\n",
        "    # if we sample the special '.' token, break\n",
        "    if ix == 0:\n",
        "      break\n",
        "\n",
        "  print(''.join(itos[i] for i in out))"
      ],
      "metadata": {
        "colab": {
          "base_uri": "https://localhost:8080/"
        },
        "id": "8d7s13Urj5Aq",
        "outputId": "9472eb49-2844-4bb4-9e2a-2efc93e791b0"
      },
      "execution_count": 173,
      "outputs": [
        {
          "output_type": "stream",
          "name": "stdout",
          "text": [
            "montaymyanneeen.\n",
            "nichylle.\n",
            "emmantejdone.\n",
            "cadered.\n",
            "tei.\n",
            "jemporen.\n",
            "edelleananar.\n",
            "katelma.\n",
            "keann.\n",
            "shabergian.\n",
            "jestin.\n",
            "jowan.\n",
            "jonnterian.\n",
            "brence.\n",
            "ruy.\n",
            "julieh.\n",
            "yuma.\n",
            "myshayla.\n",
            "hal.\n",
            "salynn.\n"
          ]
        }
      ]
    }
  ]
}