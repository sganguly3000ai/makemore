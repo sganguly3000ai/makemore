{
  "nbformat": 4,
  "nbformat_minor": 0,
  "metadata": {
    "colab": {
      "provenance": [],
      "authorship_tag": "ABX9TyOWN8pBOyditgXNE84zfj+I",
      "include_colab_link": true
    },
    "kernelspec": {
      "name": "python3",
      "display_name": "Python 3"
    },
    "language_info": {
      "name": "python"
    }
  },
  "cells": [
    {
      "cell_type": "markdown",
      "metadata": {
        "id": "view-in-github",
        "colab_type": "text"
      },
      "source": [
        "<a href=\"https://colab.research.google.com/github/sganguly3000ai/makemore/blob/main/makemore_05_01.ipynb\" target=\"_parent\"><img src=\"https://colab.research.google.com/assets/colab-badge.svg\" alt=\"Open In Colab\"/></a>"
      ]
    },
    {
      "cell_type": "markdown",
      "source": [],
      "metadata": {
        "id": "TTCVE-YosBSy"
      }
    },
    {
      "cell_type": "markdown",
      "source": [
        "# **Bigram character level language model using neural network MLP Wavenet**"
      ],
      "metadata": {
        "id": "nzTwea-NTw5C"
      }
    },
    {
      "cell_type": "code",
      "source": [
        "import torch\n",
        "import numpy as np\n",
        "import string\n",
        "import matplotlib.pyplot as plt\n",
        "import torch.nn.functional as F\n",
        "import pandas as pd\n",
        "%matplotlib inline\n"
      ],
      "metadata": {
        "id": "Mga2OWEQUhPh"
      },
      "execution_count": 59,
      "outputs": []
    },
    {
      "cell_type": "code",
      "source": [
        "# the yob1996.txt file is locally stored in the downloads/names directory\n",
        "# and should be uploaded to the sample_data directory in colab before running\n",
        "# create a list of words or names\n",
        "\n",
        "# create a list of words or names\n",
        "\n",
        "names   = np.loadtxt('sample_data/yob1996.txt', delimiter=',', usecols = 0, dtype = str)\n",
        "lnames  = np.char.lower(names)\n",
        "words  = pd.unique(lnames)\n",
        "\n"
      ],
      "metadata": {
        "id": "RHYuhNN7J5I0"
      },
      "execution_count": 61,
      "outputs": []
    },
    {
      "cell_type": "code",
      "source": [
        "print(f'{names[:8]} :Shape = {names.shape}\\n{lnames[:8]} :Shape = {lnames.shape}\\n{words[:8]} :Shape = {words.shape}')\n"
      ],
      "metadata": {
        "colab": {
          "base_uri": "https://localhost:8080/"
        },
        "id": "8ND9wHCyM0Qp",
        "outputId": "f7f1abed-f3d2-4cd0-c2c0-4627f5571442"
      },
      "execution_count": 62,
      "outputs": [
        {
          "output_type": "stream",
          "name": "stdout",
          "text": [
            "['Emily' 'Jessica' 'Ashley' 'Sarah' 'Samantha' 'Taylor' 'Hannah' 'Alexis'] :Shape = (26426,)\n",
            "['emily' 'jessica' 'ashley' 'sarah' 'samantha' 'taylor' 'hannah' 'alexis'] :Shape = (26426,)\n",
            "['emily' 'jessica' 'ashley' 'sarah' 'samantha' 'taylor' 'hannah' 'alexis'] :Shape = (24306,)\n"
          ]
        }
      ]
    },
    {
      "cell_type": "code",
      "source": [
        "# create a dictionary of the lowercase english alphabets + '.' as the start and end character for a word\n",
        "\n",
        "chars = list(string.ascii_lowercase)\n",
        "stoi = {s:i+1 for i,s in enumerate(chars)}\n",
        "stoi['.'] = 0\n",
        "itos = {i:s for s,i in stoi.items()}\n",
        "vocab_size=len(itos)\n",
        "print(itos)\n",
        "print(vocab_size)"
      ],
      "metadata": {
        "id": "zurpq0TjU7Lh",
        "colab": {
          "base_uri": "https://localhost:8080/"
        },
        "outputId": "06f071a7-f511-4107-941d-532d7538768f"
      },
      "execution_count": 63,
      "outputs": [
        {
          "output_type": "stream",
          "name": "stdout",
          "text": [
            "{1: 'a', 2: 'b', 3: 'c', 4: 'd', 5: 'e', 6: 'f', 7: 'g', 8: 'h', 9: 'i', 10: 'j', 11: 'k', 12: 'l', 13: 'm', 14: 'n', 15: 'o', 16: 'p', 17: 'q', 18: 'r', 19: 's', 20: 't', 21: 'u', 22: 'v', 23: 'w', 24: 'x', 25: 'y', 26: 'z', 0: '.'}\n",
            "27\n"
          ]
        }
      ]
    },
    {
      "cell_type": "code",
      "source": [
        "# build the dataset\n",
        "\n",
        "#block_size = 3 # context length: how many characters do we take to predict the next one?\n",
        "block_size = 8 # context length: how many characters do we take to predict the next one?\n",
        "def build_dataset(words):\n",
        "  X, Y = [],[]\n",
        "\n",
        "\n",
        "  for w in words:\n",
        "    context = [0] * block_size\n",
        "\n",
        "    for ch in w + '.':\n",
        "      ix = stoi[ch]\n",
        "      X.append(context)\n",
        "      Y.append(ix)\n",
        "      #print(''.join(itos[i] for i in context), '---->', itos[ix])\n",
        "      context = context[1:] + [ix] #crop and append\n",
        "\n",
        "  X = torch.tensor(X)\n",
        "  Y = torch.tensor(Y)\n",
        "  print(X.shape,Y.shape)\n",
        "  return X, Y\n",
        "\n",
        "np.random.seed(42)\n",
        "np.random.shuffle(words)\n",
        "n1 = int(0.8*len(words))\n",
        "n2 = int(0.9*len(words))\n",
        "\n",
        "# train,dev and test datasets (80,10,10)\n",
        "Xtr, Ytr        =  build_dataset(words[:n1])\n",
        "Xdev, Ydev      =  build_dataset(words[n1:n2])\n",
        "Xtest, Ytest    =  build_dataset(words[n2:])\n"
      ],
      "metadata": {
        "id": "nipzETe2gWC2",
        "colab": {
          "base_uri": "https://localhost:8080/"
        },
        "outputId": "1c2ec551-a445-489f-9116-c54f75bde77b"
      },
      "execution_count": 64,
      "outputs": [
        {
          "output_type": "stream",
          "name": "stdout",
          "text": [
            "torch.Size([142863, 8]) torch.Size([142863])\n",
            "torch.Size([17771, 8]) torch.Size([17771])\n",
            "torch.Size([17942, 8]) torch.Size([17942])\n"
          ]
        }
      ]
    },
    {
      "cell_type": "code",
      "source": [
        "for x,y in zip(Xtr[:20], Ytr[:20]):\n",
        "  print(''.join(itos[ix.item()] for ix in x), '--->', itos[y.item()])"
      ],
      "metadata": {
        "colab": {
          "base_uri": "https://localhost:8080/"
        },
        "id": "u7EcayI4J7U4",
        "outputId": "d92ab5c7-e24d-4b10-e6f0-1dd38f642774"
      },
      "execution_count": 65,
      "outputs": [
        {
          "output_type": "stream",
          "name": "stdout",
          "text": [
            "........ ---> c\n",
            ".......c ---> i\n",
            "......ci ---> n\n",
            ".....cin ---> d\n",
            "....cind ---> y\n",
            "...cindy ---> .\n",
            "........ ---> a\n",
            ".......a ---> u\n",
            "......au ---> d\n",
            ".....aud ---> r\n",
            "....audr ---> i\n",
            "...audri ---> a\n",
            "..audria ---> n\n",
            ".audrian ---> n\n",
            "audriann ---> a\n",
            "udrianna ---> .\n",
            "........ ---> k\n",
            ".......k ---> a\n",
            "......ka ---> t\n",
            ".....kat ---> r\n"
          ]
        }
      ]
    },
    {
      "cell_type": "code",
      "source": [
        "# ---------------------------------------------------------------------------------------\n",
        "\n",
        "class Linear:\n",
        "\n",
        "  def __init__(self, fan_in, fan_out, bias=True):\n",
        "    self.weight   = torch.randn((fan_in, fan_out)) / fan_in**0.5\n",
        "    self.bias     = torch.zeros(fan_out) if bias else None\n",
        "\n",
        "  def __call__(self, x):\n",
        "    self.out = x @ self.weight\n",
        "    if self.bias is not None:\n",
        "      self.out += self.bias\n",
        "    return self.out\n",
        "\n",
        "  def parameters(self):\n",
        "    return [self.weight] + ([] if self.bias is None else [self.bias])\n",
        "\n",
        "# ---------------------------------------------------------------------------------------\n",
        "class BatchNorm1d:\n",
        "\n",
        "  def __init__(self, dim, eps=1e-5, momentum=0.1):\n",
        "    self.eps        = eps\n",
        "    self.momentum   = momentum\n",
        "    self.training   = True\n",
        "    # parameters trained with backprop\n",
        "    self.gamma      = torch.ones(dim)\n",
        "    self.beta       = torch.zeros(dim)\n",
        "    # buffers (trained with a running 'momentum update')\n",
        "    self.running_mean = torch.zeros(dim)\n",
        "    self.running_var  = torch.ones(dim)\n",
        "\n",
        "  def __call__(self, x):\n",
        "    # calculate the forward pass\n",
        "    if self.training:\n",
        "      xmean         = x.mean(0, keepdim=True)                   # batch mean\n",
        "      xvar          = x.var(0, keepdim=True, unbiased=True)     # batch variance\n",
        "    else:\n",
        "      xmean         = self.running_mean\n",
        "      xvar          = self.running_var\n",
        "    xhat            = (x - xmean) / torch.sqrt(xvar + self.eps) # normalize to unit variance\n",
        "    self.out        = self.gamma * xhat + self.beta\n",
        "    # update the buffers\n",
        "    if self.training:\n",
        "      with torch.no_grad():\n",
        "        self.running_mean   = (1 - self.momentum) * self.running_mean + self.momentum * xmean\n",
        "        self.running_var    = (1 - self.momentum) * self.running_var + self.momentum * xvar\n",
        "    return self.out\n",
        "\n",
        "  def parameters(self):\n",
        "    return [self.gamma, self.beta]\n",
        "# ---------------------------------------------------------------------------------------\n",
        "class Tanh:\n",
        "  def __call__(self, x):\n",
        "    self.out       = torch.tanh(x)\n",
        "    return self.out\n",
        "  def parameters(self):\n",
        "    return []\n",
        "# ---------------------------------------------------------------------------------------\n",
        "class Embedding:\n",
        "  def __init__(self, num_embeddings, embedding_dim):\n",
        "    self.weight = torch.randn(num_embeddings, embedding_dim)\n",
        "\n",
        "  def __call__(self, IX):\n",
        "    self.out = self.weight[IX]\n",
        "    return self.out\n",
        "\n",
        "  def parameters(self):\n",
        "    return [self.weight]\n",
        "# ---------------------------------------------------------------------------------------\n",
        "class FlattenConsecutive:\n",
        "  def __init__(self,n):\n",
        "    self.n = n\n",
        "\n",
        "  def __call__(self,x):\n",
        "    B, T, C = x.shape\n",
        "    x = x.view(B, T//self.n, C*self.n)\n",
        "    if x.shape[1] == 1:\n",
        "      x = x.squeeze(1)\n",
        "    self.out = x\n",
        "    return self.out\n",
        "  def parameters(self):\n",
        "    return []\n",
        "# ---------------------------------------------------------------------------------------\n",
        "class Sequential:   # container class\n",
        "  def __init__(self, layers):\n",
        "    self.layers = layers\n",
        "\n",
        "  def __call__(self, x):\n",
        "    for layer in self.layers:\n",
        "      x = layer(x)\n",
        "    self.out = x\n",
        "    return self.out\n",
        "\n",
        "  def parameters(self):\n",
        "    # get parameters of all layers and strech them out into one list\n",
        "    return [p for layer in self.layers for p in layer.parameters()]"
      ],
      "metadata": {
        "id": "4ff_ioFpE772"
      },
      "execution_count": 150,
      "outputs": []
    },
    {
      "cell_type": "code",
      "source": [
        "torch.manual_seed(42); # seed rng (random number generator for reproducibility"
      ],
      "metadata": {
        "id": "9Gvh5NeMMSgg"
      },
      "execution_count": 199,
      "outputs": []
    },
    {
      "cell_type": "code",
      "source": [
        "n_embd       = 10                                         # the dimensionality of the character embedding vectors\n",
        "n_hidden    = 68                                 # the number of neurons in the hidden layer of the MLP\n",
        "\n",
        "model = Sequential([\n",
        "    Embedding(vocab_size,n_embd),\n",
        "    FlattenConsecutive(2), Linear(n_embd * 2, n_hidden, bias = False), BatchNorm1d(n_hidden), Tanh(),\n",
        "    FlattenConsecutive(2), Linear(n_hidden * 2, n_hidden, bias = False), BatchNorm1d(n_hidden), Tanh(),\n",
        "    FlattenConsecutive(2), Linear(n_hidden * 2, n_hidden, bias = False), BatchNorm1d(n_hidden), Tanh(),\n",
        "    Linear(n_hidden, vocab_size)\n",
        "])\n",
        "\n",
        "\n",
        "with torch.no_grad():\n",
        "  model.layers[-1].weight *= 0.1\n",
        "\n",
        "parameters = model.parameters()\n",
        "print(sum(p.nelement() for p in parameters))               # number of parameters in total\n",
        "for p in parameters:\n",
        "  p.requires_grad = True\n"
      ],
      "metadata": {
        "colab": {
          "base_uri": "https://localhost:8080/"
        },
        "id": "Eebi35kS6OIJ",
        "outputId": "93d5fa47-698b-4d5b-ff57-918d89ed95ce"
      },
      "execution_count": 200,
      "outputs": [
        {
          "output_type": "stream",
          "name": "stdout",
          "text": [
            "22397\n"
          ]
        }
      ]
    },
    {
      "cell_type": "code",
      "source": [
        "n_embd       = 10                                         # the dimensionality of the character embedding vectors\n",
        "n_hidden    = 200                                      # the number of neurons in the hidden layer of the MLP\n",
        "\n",
        "model = Sequential([\n",
        "    Embedding(vocab_size,n_embd),\n",
        "    FlattenConsecutive(block_size), Linear(n_embd * block_size, n_hidden, bias = False), BatchNorm1d(n_hidden), Tanh(),\n",
        "    Linear(           n_hidden, vocab_size),\n",
        "])\n",
        "\n",
        "\n",
        "with torch.no_grad():\n",
        "  model.layers[-1].weight *= 0.1\n",
        "\n",
        "parameters = model.parameters()\n",
        "print(sum(p.nelement() for p in parameters))               # number of parameters in total\n",
        "for p in parameters:\n",
        "  p.requires_grad = True"
      ],
      "metadata": {
        "colab": {
          "base_uri": "https://localhost:8080/"
        },
        "id": "MIC2-kBCO5Ga",
        "outputId": "8977d3b8-0f2d-4d38-a197-52c37fb0689b"
      },
      "execution_count": 191,
      "outputs": [
        {
          "output_type": "stream",
          "name": "stdout",
          "text": [
            "22097\n"
          ]
        }
      ]
    },
    {
      "cell_type": "code",
      "source": [
        "  ix = torch.randint(0, Xtr.shape[0], (4,))\n",
        "  Xb, Yb = Xtr[ix], Ytr[ix]\n",
        "\n",
        "  # forward pass\n",
        "  logits = model(Xb)\n",
        "  print(Xb.shape)\n",
        "  print(logits.shape)"
      ],
      "metadata": {
        "colab": {
          "base_uri": "https://localhost:8080/"
        },
        "id": "kYs2JBvXQ_AS",
        "outputId": "0d5997de-0c39-48be-bf3e-f41699e0552c"
      },
      "execution_count": 197,
      "outputs": [
        {
          "output_type": "stream",
          "name": "stdout",
          "text": [
            "torch.Size([4, 8])\n",
            "torch.Size([4, 27])\n"
          ]
        }
      ]
    },
    {
      "cell_type": "code",
      "source": [
        "for layer in model.layers:\n",
        "  print(layer.__class__.__name__, ':', tuple(layer.out.shape))\n",
        "  # if layer.__class__.__name__ == 'FlattenConsecutive':\n",
        "  #   print(layer.B, layer.T//layer.n,layer.C, layer.y, layer.sq,layer.z)"
      ],
      "metadata": {
        "colab": {
          "base_uri": "https://localhost:8080/"
        },
        "id": "F5hbIiTERdSC",
        "outputId": "6f42f491-71ba-485f-b164-31238ba19138"
      },
      "execution_count": 198,
      "outputs": [
        {
          "output_type": "stream",
          "name": "stdout",
          "text": [
            "Embedding : (4, 8, 10)\n",
            "FlattenConsecutive : (4, 4, 20)\n",
            "Linear : (4, 4, 200)\n",
            "BatchNorm1d : (4, 4, 200)\n",
            "Tanh : (4, 4, 200)\n",
            "FlattenConsecutive : (4, 2, 400)\n",
            "Linear : (4, 2, 200)\n",
            "BatchNorm1d : (4, 2, 200)\n",
            "Tanh : (4, 2, 200)\n",
            "FlattenConsecutive : (4, 400)\n",
            "Linear : (4, 200)\n",
            "BatchNorm1d : (4, 200)\n",
            "Tanh : (4, 200)\n",
            "Linear : (4, 27)\n"
          ]
        }
      ]
    },
    {
      "cell_type": "code",
      "source": [
        "# same optimization as last time\n",
        "\n",
        "max_steps       = 200000\n",
        "batch_size      = 32\n",
        "lossi           = []\n",
        "\n",
        "for i in range(max_steps):\n",
        "\n",
        "  # minibatch construct (pluck bath_size samples out of the total number of samples randomly\n",
        "  ix = torch.randint(0, Xtr.shape[0], (batch_size,))\n",
        "  Xb, Yb = Xtr[ix], Ytr[ix]\n",
        "\n",
        "  # forward pass\n",
        "  logits = model(Xb)\n",
        "  loss = F.cross_entropy(logits, Yb)      # loss function\n",
        "\n",
        "  # backward pass\n",
        "  for p in parameters:\n",
        "    p.grad = None\n",
        "  loss.backward()\n",
        "\n",
        "  # update: simple SGD\n",
        "  lr = 0.1 if i < 100000 else .01         # step learning rate decay\n",
        "  for p in parameters:\n",
        "    p.data   += -lr * p.grad\n",
        "\n",
        "  # track stats\n",
        "  if i % 10000 == 0:                      # print every 10000 iterations\n",
        "    print(f'{i:7d}/{max_steps:7d}: {loss.item():4f}')\n",
        "  lossi.append(loss.log10().item())\n",
        "\n"
      ],
      "metadata": {
        "id": "8Cu4Lvq3ynvZ",
        "colab": {
          "base_uri": "https://localhost:8080/"
        },
        "outputId": "6f98422d-6b8e-43e0-d316-7ea08e18cda5"
      },
      "execution_count": 201,
      "outputs": [
        {
          "output_type": "stream",
          "name": "stdout",
          "text": [
            "      0/ 200000: 3.284716\n",
            "  10000/ 200000: 2.056566\n",
            "  20000/ 200000: 1.741141\n",
            "  30000/ 200000: 1.606953\n",
            "  40000/ 200000: 1.701215\n",
            "  50000/ 200000: 2.073834\n",
            "  60000/ 200000: 2.237099\n",
            "  70000/ 200000: 1.633628\n",
            "  80000/ 200000: 2.001666\n",
            "  90000/ 200000: 1.657913\n",
            " 100000/ 200000: 2.238037\n",
            " 110000/ 200000: 1.740681\n",
            " 120000/ 200000: 1.763701\n",
            " 130000/ 200000: 2.199158\n",
            " 140000/ 200000: 2.051473\n",
            " 150000/ 200000: 2.120688\n",
            " 160000/ 200000: 1.718962\n",
            " 170000/ 200000: 2.110086\n",
            " 180000/ 200000: 1.927316\n",
            " 190000/ 200000: 1.901210\n"
          ]
        }
      ]
    },
    {
      "cell_type": "code",
      "source": [
        "plt.plot(torch.tensor(lossi).view(-1,1000).mean(1))"
      ],
      "metadata": {
        "colab": {
          "base_uri": "https://localhost:8080/",
          "height": 447
        },
        "id": "YkFEnEc7UC-t",
        "outputId": "4ddbc102-667f-4f0d-843e-e3f384575130"
      },
      "execution_count": 202,
      "outputs": [
        {
          "output_type": "execute_result",
          "data": {
            "text/plain": [
              "[<matplotlib.lines.Line2D at 0x78215bf62440>]"
            ]
          },
          "metadata": {},
          "execution_count": 202
        },
        {
          "output_type": "display_data",
          "data": {
            "text/plain": [
              "<Figure size 640x480 with 1 Axes>"
            ],
            "image/png": "[encoded data removed]"
          },
          "metadata": {}
        }
      ]
    },
    {
      "cell_type": "code",
      "source": [
        "# put layers into eval mode (needed for batchnorm especially)\n",
        "for layer in model.layers:\n",
        "  layer.training = False"
      ],
      "metadata": {
        "id": "opwHqjcdRZcO"
      },
      "execution_count": 203,
      "outputs": []
    },
    {
      "cell_type": "code",
      "source": [
        "# run to evaluate what the train and validation data is showing as per as the loss\n",
        "\n",
        "@torch.no_grad()                                # this decorator disables gradient tracking\n",
        "def split_loss(split):\n",
        "  x,y = {'train': (Xtr, Ytr),\n",
        "        'val': (Xdev, Ydev),\n",
        "        'test': (Xtest, Ytest),\n",
        "        }[split]\n",
        "\n",
        "  # forward pass\n",
        "  logits = model(x)\n",
        "  # emb       = C[x]                          # embed the characters into vectors\n",
        "  # x         = emb.view(emb.shape[0], -1)  # concatenate the vectors\n",
        "  # for layer in layers:\n",
        "  #   x = layer(x)\n",
        "  #loss = F.cross_entropy(x, y)      # loss function\n",
        "  loss = F.cross_entropy(logits, y)      # loss function\n",
        "\n",
        "  print(split, loss.item())\n",
        "\n",
        "split_loss('train')\n",
        "split_loss('val')"
      ],
      "metadata": {
        "colab": {
          "base_uri": "https://localhost:8080/"
        },
        "id": "UVYBe_Ue4DNp",
        "outputId": "13c45799-dda9-4fd9-f7a2-709c2094c197"
      },
      "execution_count": 204,
      "outputs": [
        {
          "output_type": "stream",
          "name": "stdout",
          "text": [
            "train 1.8577371835708618\n",
            "val 1.9769911766052246\n"
          ]
        }
      ]
    },
    {
      "cell_type": "code",
      "source": [
        "# sample from the model\n",
        "\n",
        "g = torch.Generator().manual_seed(2147483647 + 10)\n",
        "\n",
        "for _ in range(30):\n",
        "\n",
        "  out = []\n",
        "  context = [0]*block_size # initialize with all '...'\n",
        "  while True:\n",
        "\n",
        "    logits = model(torch.tensor([context]))\n",
        "    probs   = F.softmax(logits, dim=1)\n",
        "\n",
        "    # sample from the distribution\n",
        "    ix      = torch.multinomial(probs, num_samples=1, generator=g).item()\n",
        "    # shift the context window and track the samples\n",
        "    context = context[1:] + [ix]\n",
        "\n",
        "    out.append(ix)\n",
        "    # if we sample the special '.' token, break\n",
        "    if ix == 0:\n",
        "      break\n",
        "\n",
        "  print(''.join(itos[i] for i in out))\n"
      ],
      "metadata": {
        "colab": {
          "base_uri": "https://localhost:8080/"
        },
        "id": "ogcv5TtCmhOS",
        "outputId": "81f0ff65-376a-4629-85d4-5852d0317365"
      },
      "execution_count": 207,
      "outputs": [
        {
          "output_type": "stream",
          "name": "stdout",
          "text": [
            "montaimha.\n",
            "zacel.\n",
            "nichyla.\n",
            "teverscondra.\n",
            "gradee.\n",
            "deelin.\n",
            "shyloe.\n",
            "ledeisea.\n",
            "anastery.\n",
            "kortney.\n",
            "nyshub.\n",
            "roshiann.\n",
            "tyleisha.\n",
            "jeran.\n",
            "colfino.\n",
            "macderiya.\n",
            "lezeh.\n",
            "yuma.\n",
            "mysteyan.\n",
            "halica.\n",
            "yansun.\n",
            "zakel.\n",
            "julena.\n",
            "revis.\n",
            "jaisha.\n",
            "fadin.\n",
            "quine.\n",
            "bangpeic.\n",
            "shauna.\n",
            "chhundra.\n"
          ]
        }
      ]
    }
  ]
}