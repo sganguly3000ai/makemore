{
  "nbformat": 4,
  "nbformat_minor": 0,
  "metadata": {
    "colab": {
      "provenance": [],
      "authorship_tag": "ABX9TyPfms9Cl63mVpQCmYhPW091",
      "include_colab_link": true
    },
    "kernelspec": {
      "name": "python3",
      "display_name": "Python 3"
    },
    "language_info": {
      "name": "python"
    }
  },
  "cells": [
    {
      "cell_type": "markdown",
      "metadata": {
        "id": "view-in-github",
        "colab_type": "text"
      },
      "source": [
        "<a href=\"https://colab.research.google.com/github/sganguly3000ai/makemore/blob/main/makemore_02.ipynb\" target=\"_parent\"><img src=\"https://colab.research.google.com/assets/colab-badge.svg\" alt=\"Open In Colab\"/></a>"
      ]
    },
    {
      "cell_type": "markdown",
      "source": [],
      "metadata": {
        "id": "TTCVE-YosBSy"
      }
    },
    {
      "cell_type": "markdown",
      "source": [
        "# **Bigram character level language model using neural network MLP**"
      ],
      "metadata": {
        "id": "nzTwea-NTw5C"
      }
    },
    {
      "cell_type": "code",
      "source": [
        "import torch\n",
        "import numpy as np\n",
        "import string\n",
        "import matplotlib.pyplot as plt\n",
        "import torch.nn.functional as F\n",
        "import pandas as pd\n"
      ],
      "metadata": {
        "id": "Mga2OWEQUhPh"
      },
      "execution_count": 14,
      "outputs": []
    },
    {
      "cell_type": "code",
      "source": [
        "# create a list of words or names\n",
        "#f = open('sample_data/yob1996.txt', encoding=\"utf-8\")\n",
        "names   = np.loadtxt('sample_data/yob1996.txt', delimiter=',', usecols = 0, dtype = str)\n",
        "lnames  = np.char.lower(names)\n",
        "words  = pd.unique(lnames)\n",
        "\n",
        "# for l in f:\n",
        "#   print (l)\n"
      ],
      "metadata": {
        "id": "RHYuhNN7J5I0"
      },
      "execution_count": 16,
      "outputs": []
    },
    {
      "cell_type": "code",
      "source": [
        "print(f'{names} : {lnames} : {words}')\n"
      ],
      "metadata": {
        "colab": {
          "base_uri": "https://localhost:8080/"
        },
        "id": "8ND9wHCyM0Qp",
        "outputId": "68942530-3225-4009-dee4-ecd0a270d522"
      },
      "execution_count": 5,
      "outputs": [
        {
          "output_type": "stream",
          "name": "stdout",
          "text": [
            "['Emily' 'Jessica' 'Ashley' ... 'Zishe' 'Zoran' 'Zyler'] : ['emily' 'jessica' 'ashley' ... 'zishe' 'zoran' 'zyler'] : ['emily' 'jessica' 'ashley' ... 'zishe' 'zoran' 'zyler']\n"
          ]
        }
      ]
    },
    {
      "cell_type": "code",
      "source": [
        "names.shape,lnames.shape,words.shape"
      ],
      "metadata": {
        "colab": {
          "base_uri": "https://localhost:8080/"
        },
        "id": "MefcqlWeSOtZ",
        "outputId": "fe6f5ac5-6d5d-489b-e8ce-8944e625e95f"
      },
      "execution_count": 17,
      "outputs": [
        {
          "output_type": "execute_result",
          "data": {
            "text/plain": [
              "((26426,), (26426,), (24306,))"
            ]
          },
          "metadata": {},
          "execution_count": 17
        }
      ]
    },
    {
      "cell_type": "code",
      "source": [
        "type(words)"
      ],
      "metadata": {
        "id": "Y3dE54WsvLOe",
        "outputId": "0270a978-3013-4a18-9b13-ab8e00d6da1e",
        "colab": {
          "base_uri": "https://localhost:8080/"
        }
      },
      "execution_count": 7,
      "outputs": [
        {
          "output_type": "execute_result",
          "data": {
            "text/plain": [
              "numpy.ndarray"
            ]
          },
          "metadata": {},
          "execution_count": 7
        }
      ]
    },
    {
      "cell_type": "code",
      "source": [
        "\n",
        "\n",
        "\"\"\"\n",
        "# create a list of words or names\n",
        "words = ['sumit','sorit','swapna','suraj','sujit', 'sujoy', 'manoj', 'amit',\n",
        "         'kajol', 'steve', 'andrew','bob', 'cindy', 'ebrahim', 'daku', 'johny',\n",
        "         'timmy', 'david', 'tarun', 'nancy', 'edith', 'jason', 'kyle', 'joseph',\n",
        "         'kimberly', 'emma', 'irene', 'michael', 'scott', 'valentino']\n",
        "# build the vocabulary of characters and mappings to/from integers\n",
        "# '.' is the special character signifying the start or end of a word\n",
        "\n",
        "\"\"\"\n",
        "chars = list(string.ascii_lowercase)\n",
        "stoi = {s:i+1 for i,s in enumerate(chars)}\n",
        "stoi['.'] = 0\n",
        "itos = {i:s for s,i in stoi.items()}"
      ],
      "metadata": {
        "id": "zurpq0TjU7Lh"
      },
      "execution_count": 18,
      "outputs": []
    },
    {
      "cell_type": "code",
      "source": [
        "print(f'Num of words = {len(words)}')\n",
        "print(f'Vocabulary = {itos}')"
      ],
      "metadata": {
        "colab": {
          "base_uri": "https://localhost:8080/"
        },
        "id": "oANdVfGRp92M",
        "outputId": "44a1af60-c37a-438c-a7da-fcce60582b2b"
      },
      "execution_count": 19,
      "outputs": [
        {
          "output_type": "stream",
          "name": "stdout",
          "text": [
            "Num of words = 24306\n",
            "Vocabulary = {1: 'a', 2: 'b', 3: 'c', 4: 'd', 5: 'e', 6: 'f', 7: 'g', 8: 'h', 9: 'i', 10: 'j', 11: 'k', 12: 'l', 13: 'm', 14: 'n', 15: 'o', 16: 'p', 17: 'q', 18: 'r', 19: 's', 20: 't', 21: 'u', 22: 'v', 23: 'w', 24: 'x', 25: 'y', 26: 'z', 0: '.'}\n"
          ]
        }
      ]
    },
    {
      "cell_type": "code",
      "source": [
        "# build the dataset\n",
        "\n",
        "def build_dataset(words):\n",
        "  block_size = 3 # context length: how many characters do we take to predict the next one?\n",
        "  X, Y = [],[]\n",
        "\n",
        "  print (type(X))\n",
        "\n",
        "  for w in words:\n",
        "\n",
        "    context = [0] * block_size\n",
        "\n",
        "    for ch in w + '.':\n",
        "      ix = stoi[ch]\n",
        "      X.append(context)\n",
        "      Y.append(ix)\n",
        "      #print(''.join(itos[i] for i in context), '---->', itos[ix])\n",
        "      context = context[1:] + [ix] #crop and append\n",
        "      #print(context)\n",
        "\n",
        "  X = torch.tensor(X)\n",
        "  Y = torch.tensor(Y)\n",
        "  return X, Y\n",
        "\n",
        "np.random.seed(42)\n",
        "np.random.shuffle(words)\n",
        "n1 = int(0.8*len(words))\n",
        "n2 = int(0.9*len(words))\n",
        "\n",
        "Xtr, Ytr =  build_dataset(words[:n1])\n",
        "Xdev, Ydev=  build_dataset(words[n1:n2])\n",
        "Xtest, Ytest=  build_dataset(words[n2:])"
      ],
      "metadata": {
        "id": "nipzETe2gWC2",
        "colab": {
          "base_uri": "https://localhost:8080/"
        },
        "outputId": "763dcf57-76ca-404b-fdd8-f19c08ab0d6e"
      },
      "execution_count": 33,
      "outputs": [
        {
          "output_type": "stream",
          "name": "stdout",
          "text": [
            "<class 'list'>\n",
            "<class 'list'>\n",
            "<class 'list'>\n"
          ]
        }
      ]
    },
    {
      "cell_type": "code",
      "source": [
        "# make it more respectable and lets put the code together"
      ],
      "metadata": {
        "id": "QPcsXErte3dR"
      },
      "execution_count": null,
      "outputs": []
    },
    {
      "cell_type": "code",
      "source": [
        "Xtr.shape, Ytr.shape, Xdev.shape, Ydev.shape, Xtest.shape, Ytest.shape # datasets (inputs and labels)"
      ],
      "metadata": {
        "colab": {
          "base_uri": "https://localhost:8080/"
        },
        "id": "OEY5P6vhmezQ",
        "outputId": "a207326a-efb9-4fe4-c70c-81d2a6de194d"
      },
      "execution_count": 34,
      "outputs": [
        {
          "output_type": "execute_result",
          "data": {
            "text/plain": [
              "(torch.Size([142960, 3]),\n",
              " torch.Size([142960]),\n",
              " torch.Size([17796, 3]),\n",
              " torch.Size([17796]),\n",
              " torch.Size([17820, 3]),\n",
              " torch.Size([17820]))"
            ]
          },
          "metadata": {},
          "execution_count": 34
        }
      ]
    },
    {
      "cell_type": "code",
      "source": [
        "# define the parameters\n",
        "g   =   torch.Generator().manual_seed(2147483647)\n",
        "C   =   torch.randn((27,2), generator = g)\n",
        "W1  =   torch.randn((6,100), generator = g)\n",
        "b1  =   torch.randn((100), generator = g)\n",
        "W2  =   torch.randn((100,27), generator = g)      # 27 possible outputs for 27 lowercase english characters\n",
        "b2  =   torch.randn((27), generator = g)\n",
        "parameters  = [C, W1, b1, W2, b2]"
      ],
      "metadata": {
        "id": "HNTKH4-3pSFo"
      },
      "execution_count": 35,
      "outputs": []
    },
    {
      "cell_type": "code",
      "source": [
        "sum(p.nelement() for p in parameters)             # number of parameters in total"
      ],
      "metadata": {
        "colab": {
          "base_uri": "https://localhost:8080/"
        },
        "id": "Yef3J0DThUUS",
        "outputId": "ae62b267-0d09-4b85-f70e-6c339328cfc6"
      },
      "execution_count": 36,
      "outputs": [
        {
          "output_type": "execute_result",
          "data": {
            "text/plain": [
              "3481"
            ]
          },
          "metadata": {},
          "execution_count": 36
        }
      ]
    },
    {
      "cell_type": "code",
      "source": [
        "for p in parameters:\n",
        "  p.requires_grad = True"
      ],
      "metadata": {
        "id": "RP2Ul3W-p0kL"
      },
      "execution_count": 37,
      "outputs": []
    },
    {
      "cell_type": "code",
      "source": [
        "# to figure out what learning rate to use\n",
        "# guess a learning rate (one low and one high)\n",
        "# plug in the (guessed) low learning rate and train the model - observe the rate at which the loss is going down\n",
        "# plug in the (guessed) high learning rate and train the model - observe the rate at which the loss is going down\n",
        "# the (guessed) low and high lr should both not make the loss go down fairly quickly\n",
        "# for this particular model it seems like the low and high should be .001 and 1\n",
        "\n",
        "lre = torch.linspace(-3,0,1000)   # create evenly spaced values between -3 and 0\n",
        "lrs = 10**lre                     # taking the exponent gives us a tensor of values in the range 1 and .001\n",
        "\n",
        "# now instead of using the guessed learning rate (lr), we will run the model with each learning rate in lrs\n",
        "# and track the losses for a 1000 iterations of training the model"
      ],
      "metadata": {
        "id": "fP-AvYFDbD2N"
      },
      "execution_count": null,
      "outputs": []
    },
    {
      "cell_type": "code",
      "source": [
        "\n",
        "# train model use Xtr\n",
        "\n",
        "\n",
        "# lri   = []    # used to track the learning rate\n",
        "# lossi = []    # used to track the losses for the given lr\n",
        "\n",
        "\n",
        "for p in parameters:\n",
        "  p.requires_grad = True\n",
        "\n",
        "for i in range(10000):\n",
        "\n",
        "  # minibatch construct (pluck 31 samples out of the total number of samples randomly\n",
        "\n",
        "  ix = torch.randint(0, Xtr.shape[0], (31,))\n",
        "\n",
        "\n",
        "  # forward pass\n",
        "  emb     = C[Xtr[ix]]                              # shape is 31, 3, 2\n",
        "  h       = torch.tanh(emb.view(-1,6) @ W1 + b1)  # shape is 31, 100\n",
        "  logits  = h @ W2 + b2                           # shape is 31, 27 (27 possible outputs for 27 lowercase english characters)\n",
        "  # counts  = logits.exp()\n",
        "  # probs   = counts / counts.sum(1, keepdims = True)\n",
        "  # loss    = -probs[torch.arange(num_of_labels),Y].log().mean()\n",
        "  loss = F.cross_entropy(logits, Ytr[ix])\n",
        "\n",
        "  # backward pass\n",
        "  for p in parameters:\n",
        "    p.grad = None\n",
        "  loss.backward()\n",
        "  # gradient update\n",
        "  for p in parameters:\n",
        "    #lr        = lrs[i]\n",
        "    p.data   += -0.1 * p.grad\n",
        "\n",
        "\"\"\"\n",
        "    p.data    += -lr * p.grad\n",
        "\n",
        "  # track stats for lr\n",
        "  lri.append(lre[i])\n",
        "  lossi.append(loss.item())\n",
        "\"\"\"\n",
        "\n",
        "\n",
        "print(loss.item())"
      ],
      "metadata": {
        "colab": {
          "base_uri": "https://localhost:8080/"
        },
        "id": "xrALJnR3h-KZ",
        "outputId": "5fe803fc-08cd-41f8-ab74-0305559a7ad9"
      },
      "execution_count": 40,
      "outputs": [
        {
          "output_type": "stream",
          "name": "stdout",
          "text": [
            "2.3527002334594727\n"
          ]
        }
      ]
    },
    {
      "cell_type": "code",
      "source": [
        "# what does loss look like with train data\n",
        "emb     = C[Xtr]                              # shape is 31, 3, 2\n",
        "h       = torch.tanh(emb.view(-1,6) @ W1 + b1)  # shape is 31, 100\n",
        "logits  = h @ W2 + b2                           # shape is 31, 27 (27 possible outputs for 27 lowercase english characters)\n",
        "# counts  = logits.exp()\n",
        "# probs   = counts / counts.sum(1, keepdims = True)\n",
        "# loss    = -probs[torch.arange(num_of_labels),Y].log().mean()\n",
        "loss = F.cross_entropy(logits, Ytr)\n",
        "\n",
        "print(loss.item())"
      ],
      "metadata": {
        "colab": {
          "base_uri": "https://localhost:8080/"
        },
        "id": "-UhZM_Q3PkKy",
        "outputId": "8bd96df7-d52a-4ed3-c15f-4e9799955836"
      },
      "execution_count": 46,
      "outputs": [
        {
          "output_type": "stream",
          "name": "stdout",
          "text": [
            "2.3643646240234375\n"
          ]
        }
      ]
    },
    {
      "cell_type": "code",
      "source": [
        "# test the model use Xdev\n",
        "\n",
        "emb     = C[Xdev]                              # shape is 31, 3, 2\n",
        "h       = torch.tanh(emb.view(-1,6) @ W1 + b1)  # shape is 31, 100\n",
        "logits  = h @ W2 + b2                           # shape is 31, 27 (27 possible outputs for 27 lowercase english characters)\n",
        "# counts  = logits.exp()\n",
        "# probs   = counts / counts.sum(1, keepdims = True)\n",
        "# loss    = -probs[torch.arange(num_of_labels),Y].log().mean()\n",
        "loss = F.cross_entropy(logits, Ydev)\n",
        "\n",
        "\n",
        "print(loss.item())"
      ],
      "metadata": {
        "colab": {
          "base_uri": "https://localhost:8080/"
        },
        "id": "G60-r551LqtA",
        "outputId": "d20db925-2f8b-4b1c-8254-4b884bddf5f9"
      },
      "execution_count": 44,
      "outputs": [
        {
          "output_type": "stream",
          "name": "stdout",
          "text": [
            "2.2883076667785645\n"
          ]
        }
      ]
    },
    {
      "cell_type": "code",
      "source": [
        "# train and dev(test) shows similar loss. so the model is not overfitting\n",
        "# the model is underfitting since the train and dev losses are very similar\n",
        "# that basically tells us that the neural net is not large enough\n",
        "# so lets make the network larger\n",
        "\n",
        "g   =   torch.Generator().manual_seed(2147483647)\n",
        "C   =   torch.randn((27,2), generator = g)\n",
        "W1  =   torch.randn((6,300), generator = g)\n",
        "b1  =   torch.randn((300), generator = g)\n",
        "W2  =   torch.randn((300,27), generator = g)      # 27 possible outputs for 27 lowercase english characters\n",
        "b2  =   torch.randn((27), generator = g)\n",
        "parameters  = [C, W1, b1, W2, b2]\n",
        "\n",
        "\n",
        "# train model use Xtr but a nn with the hideen layer having 300 neurons\n",
        "\n",
        "\n",
        "lri   = []    # used to track the learning rate\n",
        "lossi = []    # used to track the losses for the given lr\n",
        "stepi = []    # track the steps\n",
        "\n",
        "\n",
        "for p in parameters:\n",
        "  p.requires_grad = True\n",
        "\n",
        "for i in range(10000):\n",
        "\n",
        "  # minibatch construct (pluck 31 samples out of the total number of samples randomly\n",
        "\n",
        "  ix = torch.randint(0, Xtr.shape[0], (31,))\n",
        "\n",
        "\n",
        "  # forward pass\n",
        "  emb     = C[Xtr[ix]]                              # shape is 31, 3, 2\n",
        "  h       = torch.tanh(emb.view(-1,6) @ W1 + b1)  # shape is 31, 100\n",
        "  logits  = h @ W2 + b2                           # shape is 31, 27 (27 possible outputs for 27 lowercase english characters)\n",
        "  # counts  = logits.exp()\n",
        "  # probs   = counts / counts.sum(1, keepdims = True)\n",
        "  # loss    = -probs[torch.arange(num_of_labels),Y].log().mean()\n",
        "  loss = F.cross_entropy(logits, Ytr[ix])\n",
        "\n",
        "  # backward pass\n",
        "  for p in parameters:\n",
        "    p.grad = None\n",
        "  loss.backward()\n",
        "  # gradient update\n",
        "  for p in parameters:\n",
        "    #lr        = lrs[i]\n",
        "    p.data   += -0.1 * p.grad\n",
        "\n",
        "\n",
        "# track stats for lr\n",
        "#  lri.append(lre[i])\n",
        "  stepi.append(i)\n",
        "  lossi.append(loss.item())\n",
        "\n",
        "\n",
        "\n",
        "print(loss.item())"
      ],
      "metadata": {
        "colab": {
          "base_uri": "https://localhost:8080/"
        },
        "id": "nnmu3rlIQIdQ",
        "outputId": "872b2ded-3b6d-4304-bdbf-c039ddedd54b"
      },
      "execution_count": 51,
      "outputs": [
        {
          "output_type": "stream",
          "name": "stdout",
          "text": [
            "2.5133605003356934\n"
          ]
        }
      ]
    },
    {
      "cell_type": "code",
      "source": [
        "plt.plot(stepi,lossi) # looks like 10**-1, which is .1 is a good learning rate"
      ],
      "metadata": {
        "id": "Wich7oHxj6OM",
        "colab": {
          "base_uri": "https://localhost:8080/",
          "height": 447
        },
        "outputId": "dfe53682-a0b3-4142-8912-6ad45c22a82d"
      },
      "execution_count": 52,
      "outputs": [
        {
          "output_type": "execute_result",
          "data": {
            "text/plain": [
              "[<matplotlib.lines.Line2D at 0x7d3221f689d0>]"
            ]
          },
          "metadata": {},
          "execution_count": 52
        },
        {
          "output_type": "display_data",
          "data": {
            "text/plain": [
              "<Figure size 640x480 with 1 Axes>"
            ],
            "image/png": "[encoded data removed]"
          },
          "metadata": {}
        }
      ]
    },
    {
      "cell_type": "code",
      "source": [
        "h.shape"
      ],
      "metadata": {
        "colab": {
          "base_uri": "https://localhost:8080/"
        },
        "id": "kCHYJNsPQvCZ",
        "outputId": "951acb08-92a5-45f5-eb13-da65dc6fa1ab"
      },
      "execution_count": 48,
      "outputs": [
        {
          "output_type": "execute_result",
          "data": {
            "text/plain": [
              "torch.Size([142960, 100])"
            ]
          },
          "metadata": {},
          "execution_count": 48
        }
      ]
    }
  ]
}