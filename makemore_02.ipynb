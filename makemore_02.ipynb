{
  "nbformat": 4,
  "nbformat_minor": 0,
  "metadata": {
    "colab": {
      "provenance": [],
      "authorship_tag": "ABX9TyNBkiYjZSUrkddMzY5IEClo",
      "include_colab_link": true
    },
    "kernelspec": {
      "name": "python3",
      "display_name": "Python 3"
    },
    "language_info": {
      "name": "python"
    }
  },
  "cells": [
    {
      "cell_type": "markdown",
      "metadata": {
        "id": "view-in-github",
        "colab_type": "text"
      },
      "source": [
        "<a href=\"https://colab.research.google.com/github/sganguly3000ai/makemore/blob/main/makemore_02.ipynb\" target=\"_parent\"><img src=\"https://colab.research.google.com/assets/colab-badge.svg\" alt=\"Open In Colab\"/></a>"
      ]
    },
    {
      "cell_type": "markdown",
      "source": [],
      "metadata": {
        "id": "TTCVE-YosBSy"
      }
    },
    {
      "cell_type": "markdown",
      "source": [
        "# **Bigram character level language model using neural network MLP**"
      ],
      "metadata": {
        "id": "nzTwea-NTw5C"
      }
    },
    {
      "cell_type": "code",
      "source": [
        "import torch\n",
        "import numpy as np\n",
        "import string\n",
        "import matplotlib.pyplot as plt\n",
        "import torch.nn.functional as F\n",
        "import pandas as pd\n"
      ],
      "metadata": {
        "id": "Mga2OWEQUhPh"
      },
      "execution_count": 14,
      "outputs": []
    },
    {
      "cell_type": "code",
      "source": [
        "# create a list of words or names\n",
        "#f = open('sample_data/yob1996.txt', encoding=\"utf-8\")\n",
        "names   = np.loadtxt('sample_data/yob1996.txt', delimiter=',', usecols = 0, dtype = str)\n",
        "lnames  = np.char.lower(names)\n",
        "words  = pd.unique(lnames)\n",
        "\n",
        "# for l in f:\n",
        "#   print (l)\n"
      ],
      "metadata": {
        "id": "RHYuhNN7J5I0"
      },
      "execution_count": 16,
      "outputs": []
    },
    {
      "cell_type": "code",
      "source": [
        "print(f'{names} : {lnames} : {words}')\n"
      ],
      "metadata": {
        "colab": {
          "base_uri": "https://localhost:8080/"
        },
        "id": "8ND9wHCyM0Qp",
        "outputId": "68942530-3225-4009-dee4-ecd0a270d522"
      },
      "execution_count": 5,
      "outputs": [
        {
          "output_type": "stream",
          "name": "stdout",
          "text": [
            "['Emily' 'Jessica' 'Ashley' ... 'Zishe' 'Zoran' 'Zyler'] : ['emily' 'jessica' 'ashley' ... 'zishe' 'zoran' 'zyler'] : ['emily' 'jessica' 'ashley' ... 'zishe' 'zoran' 'zyler']\n"
          ]
        }
      ]
    },
    {
      "cell_type": "code",
      "source": [
        "names.shape,lnames.shape,words.shape"
      ],
      "metadata": {
        "colab": {
          "base_uri": "https://localhost:8080/"
        },
        "id": "MefcqlWeSOtZ",
        "outputId": "fe6f5ac5-6d5d-489b-e8ce-8944e625e95f"
      },
      "execution_count": 17,
      "outputs": [
        {
          "output_type": "execute_result",
          "data": {
            "text/plain": [
              "((26426,), (26426,), (24306,))"
            ]
          },
          "metadata": {},
          "execution_count": 17
        }
      ]
    },
    {
      "cell_type": "code",
      "source": [
        "type(words)"
      ],
      "metadata": {
        "id": "Y3dE54WsvLOe",
        "outputId": "0270a978-3013-4a18-9b13-ab8e00d6da1e",
        "colab": {
          "base_uri": "https://localhost:8080/"
        }
      },
      "execution_count": 7,
      "outputs": [
        {
          "output_type": "execute_result",
          "data": {
            "text/plain": [
              "numpy.ndarray"
            ]
          },
          "metadata": {},
          "execution_count": 7
        }
      ]
    },
    {
      "cell_type": "code",
      "source": [
        "\n",
        "\n",
        "\"\"\"\n",
        "# create a list of words or names\n",
        "words = ['sumit','sorit','swapna','suraj','sujit', 'sujoy', 'manoj', 'amit',\n",
        "         'kajol', 'steve', 'andrew','bob', 'cindy', 'ebrahim', 'daku', 'johny',\n",
        "         'timmy', 'david', 'tarun', 'nancy', 'edith', 'jason', 'kyle', 'joseph',\n",
        "         'kimberly', 'emma', 'irene', 'michael', 'scott', 'valentino']\n",
        "# build the vocabulary of characters and mappings to/from integers\n",
        "# '.' is the special character signifying the start or end of a word\n",
        "\n",
        "\"\"\"\n",
        "chars = list(string.ascii_lowercase)\n",
        "stoi = {s:i+1 for i,s in enumerate(chars)}\n",
        "stoi['.'] = 0\n",
        "itos = {i:s for s,i in stoi.items()}"
      ],
      "metadata": {
        "id": "zurpq0TjU7Lh"
      },
      "execution_count": 18,
      "outputs": []
    },
    {
      "cell_type": "code",
      "source": [
        "print(f'Num of words = {len(words)}')\n",
        "print(f'Vocabulary = {itos}')"
      ],
      "metadata": {
        "colab": {
          "base_uri": "https://localhost:8080/"
        },
        "id": "oANdVfGRp92M",
        "outputId": "44a1af60-c37a-438c-a7da-fcce60582b2b"
      },
      "execution_count": 19,
      "outputs": [
        {
          "output_type": "stream",
          "name": "stdout",
          "text": [
            "Num of words = 24306\n",
            "Vocabulary = {1: 'a', 2: 'b', 3: 'c', 4: 'd', 5: 'e', 6: 'f', 7: 'g', 8: 'h', 9: 'i', 10: 'j', 11: 'k', 12: 'l', 13: 'm', 14: 'n', 15: 'o', 16: 'p', 17: 'q', 18: 'r', 19: 's', 20: 't', 21: 'u', 22: 'v', 23: 'w', 24: 'x', 25: 'y', 26: 'z', 0: '.'}\n"
          ]
        }
      ]
    },
    {
      "cell_type": "code",
      "source": [
        "# build the dataset\n",
        "\n",
        "def build_dataset(words):\n",
        "  block_size = 3 # context length: how many characters do we take to predict the next one?\n",
        "  X, Y = [],[]\n",
        "\n",
        "  print (type(X))\n",
        "\n",
        "  for w in words:\n",
        "    #print (w)\n",
        "    context = [0] * block_size\n",
        "\n",
        "    for ch in w + '.':\n",
        "      ix = stoi[ch]\n",
        "      X.append(context)\n",
        "      Y.append(ix)\n",
        "      #print(''.join(itos[i] for i in context), '---->', itos[ix])\n",
        "      context = context[1:] + [ix] #crop and append\n",
        "      #print(context)\n",
        "\n",
        "  X = torch.tensor(X)\n",
        "  Y = torch.tensor(Y)\n",
        "  return X, Y\n",
        "\n",
        "np.random.seed(42)\n",
        "np.random.shuffle(words)\n",
        "n1 = int(0.8*len(words))\n",
        "n2 = int(0.9*len(words))\n",
        "\n",
        "\n",
        "Xtr, Ytr =  build_dataset(words[:n1])\n",
        "Xdev, Ydev=  build_dataset(words[n1:n2])\n",
        "Xtest, Ytest=  build_dataset(words[n2:])"
      ],
      "metadata": {
        "id": "nipzETe2gWC2",
        "colab": {
          "base_uri": "https://localhost:8080/"
        },
        "outputId": "b3e21eed-c819-4a33-b6c4-0f2fc69ccb45"
      },
      "execution_count": 126,
      "outputs": [
        {
          "output_type": "stream",
          "name": "stdout",
          "text": [
            "<class 'list'>\n",
            "<class 'list'>\n",
            "<class 'list'>\n"
          ]
        }
      ]
    },
    {
      "cell_type": "code",
      "source": [
        "# make it more respectable and lets put the code together"
      ],
      "metadata": {
        "id": "QPcsXErte3dR"
      },
      "execution_count": null,
      "outputs": []
    },
    {
      "cell_type": "code",
      "source": [
        "Xtr.shape, Ytr.shape, Xdev.shape, Ydev.shape, Xtest.shape, Ytest.shape # datasets (inputs and labels)"
      ],
      "metadata": {
        "colab": {
          "base_uri": "https://localhost:8080/"
        },
        "id": "OEY5P6vhmezQ",
        "outputId": "c6bf7783-ff0d-4ac6-d063-a1e6b7fc0b7a"
      },
      "execution_count": 127,
      "outputs": [
        {
          "output_type": "execute_result",
          "data": {
            "text/plain": [
              "(torch.Size([142897, 3]),\n",
              " torch.Size([142897]),\n",
              " torch.Size([17748, 3]),\n",
              " torch.Size([17748]),\n",
              " torch.Size([17931, 3]),\n",
              " torch.Size([17931]))"
            ]
          },
          "metadata": {},
          "execution_count": 127
        }
      ]
    },
    {
      "cell_type": "code",
      "source": [
        "# define the parameters\n",
        "g   =   torch.Generator().manual_seed(2147483647)\n",
        "C   =   torch.randn((27,2), generator = g)\n",
        "W1  =   torch.randn((6,100), generator = g)\n",
        "b1  =   torch.randn((100), generator = g)\n",
        "W2  =   torch.randn((100,27), generator = g)      # 27 possible outputs for 27 lowercase english characters\n",
        "b2  =   torch.randn((27), generator = g)\n",
        "parameters  = [C, W1, b1, W2, b2]"
      ],
      "metadata": {
        "id": "HNTKH4-3pSFo"
      },
      "execution_count": 35,
      "outputs": []
    },
    {
      "cell_type": "code",
      "source": [
        "sum(p.nelement() for p in parameters)             # number of parameters in total"
      ],
      "metadata": {
        "colab": {
          "base_uri": "https://localhost:8080/"
        },
        "id": "Yef3J0DThUUS",
        "outputId": "ae62b267-0d09-4b85-f70e-6c339328cfc6"
      },
      "execution_count": 36,
      "outputs": [
        {
          "output_type": "execute_result",
          "data": {
            "text/plain": [
              "3481"
            ]
          },
          "metadata": {},
          "execution_count": 36
        }
      ]
    },
    {
      "cell_type": "code",
      "source": [
        "for p in parameters:\n",
        "  p.requires_grad = True"
      ],
      "metadata": {
        "id": "RP2Ul3W-p0kL"
      },
      "execution_count": 37,
      "outputs": []
    },
    {
      "cell_type": "code",
      "source": [
        "# to figure out what learning rate to use\n",
        "# guess a learning rate (one low and one high)\n",
        "# plug in the (guessed) low learning rate and train the model - observe the rate at which the loss is going down\n",
        "# plug in the (guessed) high learning rate and train the model - observe the rate at which the loss is going down\n",
        "# the (guessed) low and high lr should both not make the loss go down fairly quickly\n",
        "# for this particular model it seems like the low and high should be .001 and 1\n",
        "\n",
        "lre = torch.linspace(-3,0,1000)   # create evenly spaced values between -3 and 0\n",
        "lrs = 10**lre                     # taking the exponent gives us a tensor of values in the range 1 and .001\n",
        "\n",
        "# now instead of using the guessed learning rate (lr), we will run the model with each learning rate in lrs\n",
        "# and track the losses for a 1000 iterations of training the model"
      ],
      "metadata": {
        "id": "fP-AvYFDbD2N"
      },
      "execution_count": null,
      "outputs": []
    },
    {
      "cell_type": "code",
      "source": [
        "\n",
        "# train model use Xtr\n",
        "\n",
        "\n",
        "# lri   = []    # used to track the learning rate\n",
        "# lossi = []    # used to track the losses for the given lr\n",
        "\n",
        "\n",
        "for p in parameters:\n",
        "  p.requires_grad = True\n",
        "\n",
        "for i in range(10000):\n",
        "\n",
        "  # minibatch construct (pluck 31 samples out of the total number of samples randomly\n",
        "\n",
        "  ix = torch.randint(0, Xtr.shape[0], (31,))\n",
        "\n",
        "\n",
        "  # forward pass\n",
        "  emb     = C[Xtr[ix]]                              # shape is 31, 3, 2\n",
        "  h       = torch.tanh(emb.view(-1,6) @ W1 + b1)  # shape is 31, 100\n",
        "  logits  = h @ W2 + b2                           # shape is 31, 27 (27 possible outputs for 27 lowercase english characters)\n",
        "  # counts  = logits.exp()\n",
        "  # probs   = counts / counts.sum(1, keepdims = True)\n",
        "  # loss    = -probs[torch.arange(num_of_labels),Y].log().mean()\n",
        "  loss = F.cross_entropy(logits, Ytr[ix])\n",
        "\n",
        "  # backward pass\n",
        "  for p in parameters:\n",
        "    p.grad = None\n",
        "  loss.backward()\n",
        "  # gradient update\n",
        "  for p in parameters:\n",
        "    #lr        = lrs[i]\n",
        "    p.data   += -0.1 * p.grad\n",
        "\n",
        "\"\"\"\n",
        "    p.data    += -lr * p.grad\n",
        "\n",
        "  # track stats for lr\n",
        "  lri.append(lre[i])\n",
        "  lossi.append(loss.item())\n",
        "\"\"\"\n",
        "\n",
        "\n",
        "print(loss.item())"
      ],
      "metadata": {
        "colab": {
          "base_uri": "https://localhost:8080/"
        },
        "id": "xrALJnR3h-KZ",
        "outputId": "5fe803fc-08cd-41f8-ab74-0305559a7ad9"
      },
      "execution_count": 40,
      "outputs": [
        {
          "output_type": "stream",
          "name": "stdout",
          "text": [
            "2.3527002334594727\n"
          ]
        }
      ]
    },
    {
      "cell_type": "code",
      "source": [
        "# what does loss look like with train data\n",
        "emb     = C[Xtr]                              # shape is 31, 3, 2\n",
        "h       = torch.tanh(emb.view(-1,6) @ W1 + b1)  # shape is 31, 100\n",
        "logits  = h @ W2 + b2                           # shape is 31, 27 (27 possible outputs for 27 lowercase english characters)\n",
        "# counts  = logits.exp()\n",
        "# probs   = counts / counts.sum(1, keepdims = True)\n",
        "# loss    = -probs[torch.arange(num_of_labels),Y].log().mean()\n",
        "loss = F.cross_entropy(logits, Ytr)\n",
        "\n",
        "print(loss.item())"
      ],
      "metadata": {
        "colab": {
          "base_uri": "https://localhost:8080/"
        },
        "id": "-UhZM_Q3PkKy",
        "outputId": "4a0adc36-009a-45a0-fc77-9e663cda9ef6"
      },
      "execution_count": 63,
      "outputs": [
        {
          "output_type": "stream",
          "name": "stdout",
          "text": [
            "2.5666401386260986\n"
          ]
        }
      ]
    },
    {
      "cell_type": "code",
      "source": [
        "# test the model use Xdev\n",
        "\n",
        "emb     = C[Xdev]                              # shape is 31, 3, 2\n",
        "h       = torch.tanh(emb.view(-1,6) @ W1 + b1)  # shape is 31, 100\n",
        "logits  = h @ W2 + b2                           # shape is 31, 27 (27 possible outputs for 27 lowercase english characters)\n",
        "# counts  = logits.exp()\n",
        "# probs   = counts / counts.sum(1, keepdims = True)\n",
        "# loss    = -probs[torch.arange(num_of_labels),Y].log().mean()\n",
        "loss = F.cross_entropy(logits, Ydev)\n",
        "\n",
        "\n",
        "print(loss.item())"
      ],
      "metadata": {
        "colab": {
          "base_uri": "https://localhost:8080/"
        },
        "id": "G60-r551LqtA",
        "outputId": "085a93b2-1f19-42cc-fe9b-5d90b9ca87b9"
      },
      "execution_count": 62,
      "outputs": [
        {
          "output_type": "stream",
          "name": "stdout",
          "text": [
            "2.5784599781036377\n"
          ]
        }
      ]
    },
    {
      "cell_type": "code",
      "source": [
        "# train and dev(test) shows similar loss. so the model is not overfitting\n",
        "# the model is underfitting since the train and dev losses are very similar\n",
        "# that basically tells us that the neural net is not large enough\n",
        "# so lets make the network larger\n",
        "\n",
        "g   =   torch.Generator().manual_seed(2147483647)\n",
        "C   =   torch.randn((27,2), generator = g)\n",
        "W1  =   torch.randn((6,300), generator = g)\n",
        "b1  =   torch.randn((300), generator = g)\n",
        "W2  =   torch.randn((300,27), generator = g)      # 27 possible outputs for 27 lowercase english characters\n",
        "b2  =   torch.randn((27), generator = g)\n",
        "parameters  = [C, W1, b1, W2, b2]"
      ],
      "metadata": {
        "id": "bldEeXyVVx_p"
      },
      "execution_count": 59,
      "outputs": []
    },
    {
      "cell_type": "code",
      "source": [
        "sum(p.nelement() for p in parameters)"
      ],
      "metadata": {
        "colab": {
          "base_uri": "https://localhost:8080/"
        },
        "id": "8U7ZWZ7bWvNo",
        "outputId": "f756b623-3c13-4ec5-88da-b8adcb0da146"
      },
      "execution_count": 69,
      "outputs": [
        {
          "output_type": "execute_result",
          "data": {
            "text/plain": [
              "10281"
            ]
          },
          "metadata": {},
          "execution_count": 69
        }
      ]
    },
    {
      "cell_type": "code",
      "source": [
        "\n",
        "\n",
        "# train model use Xtr but a nn with the hideen layer having 300 neurons\n",
        "\n",
        "\n",
        "lri   = []    # used to track the learning rate\n",
        "lossi = []    # used to track the losses for the given lr\n",
        "stepi = []    # track the steps\n",
        "\n",
        "\n",
        "for p in parameters:\n",
        "  p.requires_grad = True\n",
        "\n",
        "for i in range(10000):\n",
        "\n",
        "  # minibatch construct (pluck 31 samples out of the total number of samples randomly\n",
        "\n",
        "  ix = torch.randint(0, Xtr.shape[0], (31,))\n",
        "\n",
        "\n",
        "  # forward pass\n",
        "  emb     = C[Xtr[ix]]                              # shape is 31, 3, 2\n",
        "  h       = torch.tanh(emb.view(-1,6) @ W1 + b1)  # shape is 31, 100\n",
        "  logits  = h @ W2 + b2                           # shape is 31, 27 (27 possible outputs for 27 lowercase english characters)\n",
        "  # counts  = logits.exp()\n",
        "  # probs   = counts / counts.sum(1, keepdims = True)\n",
        "  # loss    = -probs[torch.arange(num_of_labels),Y].log().mean()\n",
        "  loss = F.cross_entropy(logits, Ytr[ix])\n",
        "\n",
        "  # backward pass\n",
        "  for p in parameters:\n",
        "    p.grad = None\n",
        "  loss.backward()\n",
        "  # gradient update\n",
        "  for p in parameters:\n",
        "    #lr        = lrs[i]\n",
        "    p.data   += -0.01 * p.grad\n",
        "\n",
        "\n",
        "# track stats for lr\n",
        "#  lri.append(lre[i])\n",
        "  stepi.append(i)\n",
        "  lossi.append(loss.item())\n",
        "\n",
        "\n",
        "\n",
        "print(loss.item())"
      ],
      "metadata": {
        "colab": {
          "base_uri": "https://localhost:8080/"
        },
        "id": "nnmu3rlIQIdQ",
        "outputId": "7f94a93d-62be-4122-a354-ae1dd51c1aa8"
      },
      "execution_count": 79,
      "outputs": [
        {
          "output_type": "stream",
          "name": "stdout",
          "text": [
            "2.3125839233398438\n"
          ]
        }
      ]
    },
    {
      "cell_type": "code",
      "source": [
        "plt.plot(stepi,lossi) # looks like 10**-1, which is .1 is a good learning rate"
      ],
      "metadata": {
        "id": "Wich7oHxj6OM",
        "colab": {
          "base_uri": "https://localhost:8080/",
          "height": 447
        },
        "outputId": "8fdaf590-54a8-43e0-83f8-4c8534e9465b"
      },
      "execution_count": 80,
      "outputs": [
        {
          "output_type": "execute_result",
          "data": {
            "text/plain": [
              "[<matplotlib.lines.Line2D at 0x7d322215a680>]"
            ]
          },
          "metadata": {},
          "execution_count": 80
        },
        {
          "output_type": "display_data",
          "data": {
            "text/plain": [
              "<Figure size 640x480 with 1 Axes>"
            ],
            "image/png": "[encoded data removed]"
          },
          "metadata": {}
        }
      ]
    },
    {
      "cell_type": "code",
      "source": [
        "# what does loss look like with train data\n",
        "emb     = C[Xtr]                              # shape is 31, 3, 2\n",
        "h       = torch.tanh(emb.view(-1,6) @ W1 + b1)  # shape is 31, 100\n",
        "logits  = h @ W2 + b2                           # shape is 31, 27 (27 possible outputs for 27 lowercase english characters)\n",
        "# counts  = logits.exp()\n",
        "# probs   = counts / counts.sum(1, keepdims = True)\n",
        "# loss    = -probs[torch.arange(num_of_labels),Y].log().mean()\n",
        "loss = F.cross_entropy(logits, Ytr)\n",
        "\n",
        "print(loss.item())"
      ],
      "metadata": {
        "colab": {
          "base_uri": "https://localhost:8080/"
        },
        "id": "PDASocxiWQ2Y",
        "outputId": "a300110c-1996-4fdd-d463-c2f58a6b80c6"
      },
      "execution_count": 81,
      "outputs": [
        {
          "output_type": "stream",
          "name": "stdout",
          "text": [
            "2.2226762771606445\n"
          ]
        }
      ]
    },
    {
      "cell_type": "code",
      "source": [
        "# test the model use Xdev\n",
        "\n",
        "emb     = C[Xdev]                              # shape is 31, 3, 2\n",
        "h       = torch.tanh(emb.view(-1,6) @ W1 + b1)  # shape is 31, 100\n",
        "logits  = h @ W2 + b2                           # shape is 31, 27 (27 possible outputs for 27 lowercase english characters)\n",
        "# counts  = logits.exp()\n",
        "# probs   = counts / counts.sum(1, keepdims = True)\n",
        "# loss    = -probs[torch.arange(num_of_labels),Y].log().mean()\n",
        "loss = F.cross_entropy(logits, Ydev)\n",
        "\n",
        "\n",
        "print(loss.item())"
      ],
      "metadata": {
        "colab": {
          "base_uri": "https://localhost:8080/"
        },
        "id": "kCHYJNsPQvCZ",
        "outputId": "b898bc70-1b24-4daf-e4bf-ea6ba7d6cb2e"
      },
      "execution_count": 82,
      "outputs": [
        {
          "output_type": "stream",
          "name": "stdout",
          "text": [
            "2.2424161434173584\n"
          ]
        }
      ]
    },
    {
      "cell_type": "code",
      "source": [
        "C.shape[0]"
      ],
      "metadata": {
        "colab": {
          "base_uri": "https://localhost:8080/"
        },
        "id": "UFkKznf6alf5",
        "outputId": "6a5e81ce-edf7-4fc6-cafd-8e97d1e63e4a"
      },
      "execution_count": 97,
      "outputs": [
        {
          "output_type": "execute_result",
          "data": {
            "text/plain": [
              "27"
            ]
          },
          "metadata": {},
          "execution_count": 97
        }
      ]
    },
    {
      "cell_type": "code",
      "source": [
        "# looks like making the size of the network larger did not make much difference\n",
        "# so let visualize how the character embedings are looking after the training\n",
        "# in the plot we see that the model has learned somewhat and there are some clustering of the characters\n",
        "# the characters are not all over the place\n",
        "# so now we will increase the dimensions of the embedding C\n",
        "plt.figure(figsize=(8,8))\n",
        "plt.scatter(C[:,0].data, C[:,1].data, s=200)\n",
        "for i in range(C.shape[0]):\n",
        "  plt.text(C[i,0].item(), C[i,1].item(), itos[i], ha=\"center\", va=\"center\", color=\"white\")\n",
        "plt.grid('minor')"
      ],
      "metadata": {
        "colab": {
          "base_uri": "https://localhost:8080/",
          "height": 676
        },
        "id": "yh-2_sNmX_oK",
        "outputId": "7a0d8bd2-ac15-4767-e42e-bbd88879c254"
      },
      "execution_count": 98,
      "outputs": [
        {
          "output_type": "display_data",
          "data": {
            "text/plain": [
              "<Figure size 800x800 with 1 Axes>"
            ],
            "image/png": "[encoded data removed]"
          },
          "metadata": {}
        }
      ]
    },
    {
      "cell_type": "code",
      "source": [
        "# train and dev(test) shows similar loss. so the model is not overfitting\n",
        "# the model is underfitting since the train and dev losses are very similar\n",
        "# that basically tells us that the neural net is not large enough\n",
        "# so lets make the network larger\n",
        "\n",
        "g   =   torch.Generator().manual_seed(2147483647)\n",
        "C   =   torch.randn((27,10), generator = g) # change C from(27,2) to (27,10) each character represented by 10 numbers\n",
        "# changing the embedding dimensions to 27,10 make the input to the first layer as 3*10 = 30\n",
        "W1  =   torch.randn((30,200), generator = g)  # we lowered the neuron size to 200 from 300\n",
        "b1  =   torch.randn((200), generator = g)\n",
        "W2  =   torch.randn((200,27), generator = g)      # 27 possible outputs for 27 lowercase english characters\n",
        "b2  =   torch.randn((27), generator = g)\n",
        "parameters  = [C, W1, b1, W2, b2]"
      ],
      "metadata": {
        "id": "4s-n3wAqdbqJ"
      },
      "execution_count": 99,
      "outputs": []
    },
    {
      "cell_type": "code",
      "source": [
        "lri   = []    # used to track the learning rate\n",
        "lossi = []    # used to track the losses for the given lr\n",
        "stepi = []    # track the steps"
      ],
      "metadata": {
        "id": "CjXFDQYIeqNL"
      },
      "execution_count": 100,
      "outputs": []
    },
    {
      "cell_type": "code",
      "source": [
        "\n",
        "\n",
        "# train model use Xtr but a nn with the hideen layer having 300 neurons\n",
        "\n",
        "\n",
        "for p in parameters:\n",
        "  p.requires_grad = True\n",
        "\n",
        "for i in range(50000):\n",
        "\n",
        "  # minibatch construct (pluck 31 samples out of the total number of samples randomly\n",
        "\n",
        "  ix = torch.randint(0, Xtr.shape[0], (31,))\n",
        "\n",
        "\n",
        "  # forward pass\n",
        "  emb     = C[Xtr[ix]]                              # shape is 31, 3, 2\n",
        "  h       = torch.tanh(emb.view(-1,30) @ W1 + b1)   # shape is 31, 200\n",
        "  logits  = h @ W2 + b2                             # shape is 31, 27 (27 possible outputs for 27 lowercase english characters)\n",
        "  # counts  = logits.exp()\n",
        "  # probs   = counts / counts.sum(1, keepdims = True)\n",
        "  # loss    = -probs[torch.arange(num_of_labels),Y].log().mean()\n",
        "  loss = F.cross_entropy(logits, Ytr[ix])\n",
        "\n",
        "  # backward pass\n",
        "  for p in parameters:\n",
        "    p.grad = None\n",
        "  loss.backward()\n",
        "  # gradient update\n",
        "  for p in parameters:\n",
        "    #lr        = lrs[i]\n",
        "    p.data   += -0.01 * p.grad\n",
        "\n",
        "\n",
        "# track stats for lr\n",
        "#  lri.append(lre[i])\n",
        "  stepi.append(i)\n",
        "  lossi.append(loss.log10().item())\n",
        "\n",
        "\n",
        "\n",
        "print(loss.item())"
      ],
      "metadata": {
        "colab": {
          "base_uri": "https://localhost:8080/"
        },
        "id": "Jq6dV8OmenCS",
        "outputId": "fce2302e-d446-42e9-92f7-73780af1966a"
      },
      "execution_count": 113,
      "outputs": [
        {
          "output_type": "stream",
          "name": "stdout",
          "text": [
            "2.1509103775024414\n"
          ]
        }
      ]
    },
    {
      "cell_type": "code",
      "source": [
        "plt.plot(stepi, lossi)"
      ],
      "metadata": {
        "colab": {
          "base_uri": "https://localhost:8080/",
          "height": 447
        },
        "id": "GQkIQMVRfaDJ",
        "outputId": "4421f377-4d4f-40ce-8e2c-107a4aeb6b24"
      },
      "execution_count": 114,
      "outputs": [
        {
          "output_type": "execute_result",
          "data": {
            "text/plain": [
              "[<matplotlib.lines.Line2D at 0x7d321d583d00>]"
            ]
          },
          "metadata": {},
          "execution_count": 114
        },
        {
          "output_type": "display_data",
          "data": {
            "text/plain": [
              "<Figure size 640x480 with 1 Axes>"
            ],
            "image/png": "[encoded data removed]"
          },
          "metadata": {}
        }
      ]
    },
    {
      "cell_type": "code",
      "source": [
        "# what does loss look like with train data\n",
        "emb     = C[Xtr]\n",
        "h       = torch.tanh(emb.view(-1,30) @ W1 + b1)\n",
        "logits  = h @ W2 + b2                           # shape is (number of names in dev dataset), 27  (27 possible outputs for 27 lowercase english characters)\n",
        "# counts  = logits.exp()\n",
        "# probs   = counts / counts.sum(1, keepdims = True)\n",
        "# loss    = -probs[torch.arange(num_of_labels),Y].log().mean()\n",
        "loss = F.cross_entropy(logits, Ytr)\n",
        "\n",
        "print(loss.item())"
      ],
      "metadata": {
        "colab": {
          "base_uri": "https://localhost:8080/"
        },
        "id": "g_eDfAB0fqT5",
        "outputId": "dce1b8be-31e2-406c-a697-81ffaba57fbb"
      },
      "execution_count": 118,
      "outputs": [
        {
          "output_type": "stream",
          "name": "stdout",
          "text": [
            "2.0716214179992676\n"
          ]
        }
      ]
    },
    {
      "cell_type": "code",
      "source": [
        "# what does loss look like with dev data\n",
        "emb     = C[Xdev]\n",
        "h       = torch.tanh(emb.view(-1,30) @ W1 + b1)\n",
        "logits  = h @ W2 + b2                           # shape is (number of names in dev dataset), 27 (27 possible outputs for 27 lowercase english characters)\n",
        "# counts  = logits.exp()\n",
        "# probs   = counts / counts.sum(1, keepdims = True)\n",
        "# loss    = -probs[torch.arange(num_of_labels),Y].log().mean()\n",
        "loss = F.cross_entropy(logits, Ydev)\n",
        "\n",
        "print(loss.item())"
      ],
      "metadata": {
        "colab": {
          "base_uri": "https://localhost:8080/"
        },
        "id": "S3D5jwJDfvgh",
        "outputId": "9e625e4a-ae5e-4d85-c5fe-97728ed9bd9a"
      },
      "execution_count": 119,
      "outputs": [
        {
          "output_type": "stream",
          "name": "stdout",
          "text": [
            "2.123164176940918\n"
          ]
        }
      ]
    },
    {
      "cell_type": "code",
      "source": [
        "# looks like making the size of the network larger did not make much difference\n",
        "# so let visualize how the character embedings are looking after the training\n",
        "# in the plot we see that the model has learned somewhat and there are some clustering of the characters\n",
        "# the characters are not all over the place\n",
        "# so now we will increase the dimensions of the embedding C\n",
        "plt.figure(figsize=(8,8))\n",
        "plt.scatter(C[:,0].data, C[:,1].data, s=200)\n",
        "for i in range(C.shape[0]):\n",
        "  plt.text(C[i,0].item(), C[i,1].item(), itos[i], ha=\"center\", va=\"center\", color=\"white\")\n",
        "plt.grid('minor')"
      ],
      "metadata": {
        "colab": {
          "base_uri": "https://localhost:8080/",
          "height": 676
        },
        "id": "rS4-l7Shijm6",
        "outputId": "45a95ba3-9d54-495c-d17c-9d546371d6bd"
      },
      "execution_count": 117,
      "outputs": [
        {
          "output_type": "display_data",
          "data": {
            "text/plain": [
              "<Figure size 800x800 with 1 Axes>"
            ],
            "image/png": "[encoded data removed]"
          },
          "metadata": {}
        }
      ]
    },
    {
      "cell_type": "code",
      "source": [
        "# sample from the model\n",
        "block_size = 3\n",
        "\n",
        "g = torch.Generator().manual_seed(2147483647 + 10)\n",
        "\n",
        "for _ in range(20):\n",
        "\n",
        "  out = []\n",
        "  context = [0]*block_size # initialize with '...'\n",
        "  while True:\n",
        "\n",
        "    emb     = C[torch.tensor([context])] #(1,block_size,d)\n",
        "    h       = torch.tanh(emb.view(1,-1) @ W1 + b1)\n",
        "    logits  = h @ W2 + b2\n",
        "    probs   = F.softmax(logits, dim=1)\n",
        "    ix      = torch.multinomial(probs, num_samples=1, generator=g).item()\n",
        "    context = context[1:] + [ix]\n",
        "\n",
        "    out.append(ix)\n",
        "\n",
        "    if ix == 0:\n",
        "      break\n",
        "\n",
        "  print(''.join(itos[i] for i in out))"
      ],
      "metadata": {
        "colab": {
          "base_uri": "https://localhost:8080/"
        },
        "id": "8d7s13Urj5Aq",
        "outputId": "9472eb49-2844-4bb4-9e2a-2efc93e791b0"
      },
      "execution_count": 173,
      "outputs": [
        {
          "output_type": "stream",
          "name": "stdout",
          "text": [
            "montaymyanneeen.\n",
            "nichylle.\n",
            "emmantejdone.\n",
            "cadered.\n",
            "tei.\n",
            "jemporen.\n",
            "edelleananar.\n",
            "katelma.\n",
            "keann.\n",
            "shabergian.\n",
            "jestin.\n",
            "jowan.\n",
            "jonnterian.\n",
            "brence.\n",
            "ruy.\n",
            "julieh.\n",
            "yuma.\n",
            "myshayla.\n",
            "hal.\n",
            "salynn.\n"
          ]
        }
      ]
    }
  ]
}